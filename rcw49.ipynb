{
 "cells": [
  {
   "cell_type": "code",
   "execution_count": 2,
   "id": "f04ad088-02cb-47b5-8480-e2c209b205df",
   "metadata": {},
   "outputs": [
    {
     "name": "stderr",
     "output_type": "stream",
     "text": [
      "/home/mpound/anaconda3/lib/python3.7/site-packages/astropy/table/column.py:1161: FutureWarning: elementwise comparison failed; returning scalar instead, but in the future will perform elementwise comparison\n",
      "  result = getattr(super(), op)(other)\n"
     ]
    }
   ],
   "source": [
    "from pdrtpy.measurement import Measurement\n",
    "from pdrtpy.modelset import ModelSet\n",
    "from pdrtpy.plot.modelplot import ModelPlot\n",
    "import pdrtpy.pdrutils as utils\n",
    "from pdrtpy.tool.lineratiofit import LineRatioFit\n",
    "from pdrtpy.plot.lineratioplot import LineRatioPlot\n",
    "from astropy.nddata import StdDevUncertainty\n",
    "import astropy.units as u\n",
    "import numpy as np\n",
    "#from lmfit import Model, Parameters, Minimizer, minimize, fit_report\n",
    "import corner"
   ]
  },
  {
   "cell_type": "code",
   "execution_count": 3,
   "id": "c308898d-4282-478e-a65f-b30141df8628",
   "metadata": {},
   "outputs": [
    {
     "data": {
      "text/plain": [
       "'2.2.2-interpolate'"
      ]
     },
     "execution_count": 3,
     "metadata": {},
     "output_type": "execute_result"
    }
   ],
   "source": [
    "from pdrtpy import version\n",
    "version()"
   ]
  },
  {
   "cell_type": "markdown",
   "id": "a5a657f1-3775-4878-81bc-dec41a2c4a25",
   "metadata": {},
   "source": [
    "### Data for pillar"
   ]
  },
  {
   "cell_type": "code",
   "execution_count": 4,
   "id": "2211b969-de52-4306-8a97-3ce4451a96f7",
   "metadata": {},
   "outputs": [
    {
     "name": "stdout",
     "output_type": "stream",
     "text": [
      "CII_158  1.20e-03 +/- 1.83e-05 erg / (cm2 s sr)\n",
      "  CO_32  4.30e-06 +/- 2.54e-08 erg / (cm2 s sr)\n",
      "  OI_63  6.40e-03 +/- 3.30e-04 erg / (cm2 s sr)\n",
      "    FIR  9.00e-01 +/- 1.80e-01 erg / (cm2 s sr)\n"
     ]
    }
   ],
   "source": [
    "myunit = \"erg s-1 cm-2 sr-1\" \n",
    "intensity = {\n",
    "    \"CII_158\": 1.2E-3,\n",
    "    \"CO_32\": 4.3E-6,\n",
    "    \"OI_63\": 6.4E-3,\n",
    "    \"FIR\": 0.9\n",
    "}\n",
    "error = {\n",
    "    \"CII_158\": 1.83E-5,\n",
    "    \"CO_32\": 2.54E-8,\n",
    "    \"OI_63\": 3.30E-4,\n",
    "    \"FIR\": 0.2*intensity[\"FIR\"]  #guess 20%??\n",
    "}\n",
    "a = []\n",
    "for k in intensity:\n",
    "    a.append(Measurement(data=intensity[k],uncertainty = StdDevUncertainty(error[k]),identifier=k,unit=myunit))\n",
    "for m in a:\n",
    "    print(f'{m.id:>7s}  {m:3.2e}')"
   ]
  },
  {
   "cell_type": "markdown",
   "id": "546bece2-0093-4ea0-b164-21a115fb622c",
   "metadata": {},
   "source": [
    "## Mark has new WK 2020 models as of 10/15"
   ]
  },
  {
   "cell_type": "code",
   "execution_count": 6,
   "id": "c28e1a3f-b291-4b4e-958e-a1ea4df9fd8d",
   "metadata": {},
   "outputs": [
    {
     "data": {
      "text/html": [
       "<i>Table length=32</i>\n",
       "<table id=\"table139836476509968-711189\" class=\"table-striped table-bordered table-condensed\">\n",
       "<thead><tr><th>idx</th><th>numerator</th><th>denominator</th><th>ratio</th><th>filename</th><th>z</th><th>title</th></tr></thead>\n",
       "<thead><tr><th></th><th></th><th></th><th></th><th></th><th></th><th>null</th></tr></thead>\n",
       "<tr><td>0</td><td>OI_63</td><td>CII_158</td><td>OI_63/CII_158</td><td>OI63_CII158sm</td><td>1.0</td><td>[O I] 63 $\\mu$m / [C II] 158 $\\mu$m</td></tr>\n",
       "<tr><td>1</td><td>OI_63+CII_158</td><td>FIR</td><td>OI_63+CII_158/FIR</td><td>OI63+CII158_FIRsm</td><td>1.0</td><td>([O I] 63 $\\mu$m + [C II] 158 $\\mu$m) / I$_{FIR}$</td></tr>\n",
       "<tr><td>2</td><td>OI_145+CII_158</td><td>FIR</td><td>OI_145+CII_158/FIR</td><td>OI145+CII158_FIRsm</td><td>1.0</td><td>([O I] 145 $\\mu$m + [C II] 158 $\\mu$m) / I$_{FIR}$</td></tr>\n",
       "<tr><td>3</td><td>OI_145</td><td>OI_63</td><td>OI_145/OI_63</td><td>OI145_OI63sm</td><td>1.0</td><td>[O I] 145 $\\mu$m / [O I] 63 $\\mu$m</td></tr>\n",
       "<tr><td>4</td><td>CI_370</td><td>CI_609</td><td>CI_370/CI_609</td><td>CI370_CI609sm</td><td>1.0</td><td>[C I] 370 $\\mu$m / [C I] 609 $\\mu$m</td></tr>\n",
       "<tr><td>5</td><td>CII_158</td><td>CI_609</td><td>CII_158/CI_609</td><td>CII158_CI609sm</td><td>1.0</td><td>[C II] 158 $\\mu$m / [C I] 609 $\\mu$m</td></tr>\n",
       "<tr><td>6</td><td>CII_158</td><td>OI_145</td><td>CII_158/OI_158</td><td>CII158_OI145sm</td><td>1.0</td><td>[C II] 158 $\\mu$m / [O I] 145 $\\mu$m</td></tr>\n",
       "<tr><td>7</td><td>CII_158</td><td>FIR</td><td>CII_158/FIR</td><td>CII158_FIRsm</td><td>1.0</td><td>[C II] 158 $\\mu$m / I$_{FIR}$</td></tr>\n",
       "<tr><td>8</td><td>CII_158</td><td>CO_10</td><td>CII_158/CO_10</td><td>CII158_CO10sm</td><td>1.0</td><td>[C II] 158 $\\mu$m / CO(J=1-0)</td></tr>\n",
       "<tr><td>9</td><td>CII_158</td><td>CO_21</td><td>CII_158/CO_21</td><td>CII158_CO21sm</td><td>1.0</td><td>[C II] 158 $\\mu$m / CO(J=2-1)</td></tr>\n",
       "<tr><td>10</td><td>CII_158</td><td>CO_32</td><td>CII_158/CO_32</td><td>CII158_CO32sm</td><td>1.0</td><td>[C II] 158 $\\mu$m / CO(J=3-2)</td></tr>\n",
       "<tr><td>11</td><td>CII_158</td><td>CO_65</td><td>CII_158/CO_65</td><td>CII158_CO65sm</td><td>1.0</td><td>[C II] 158 $\\mu$m / CO(J=6-5)</td></tr>\n",
       "<tr><td>12</td><td>CO_21</td><td>CO_10</td><td>CO_21/CO_10</td><td>CO21_CO10sm</td><td>1.0</td><td>CO(J=2-1) / CO(J=1-0)</td></tr>\n",
       "<tr><td>13</td><td>CO_32</td><td>CO_10</td><td>CO_32/CO_10</td><td>CO32_CO10sm</td><td>1.0</td><td>CO(J=3-2) / CO(J=1-0)</td></tr>\n",
       "<tr><td>14</td><td>CO_32</td><td>CO_21</td><td>CO_32/CO_21</td><td>CO32_CO21sm</td><td>1.0</td><td>CO(J=3-2) / CO(J=2-1)</td></tr>\n",
       "<tr><td>15</td><td>CI_609</td><td>CO_43</td><td>CI_609/CO_43</td><td>CI609_CO43sm</td><td>1.0</td><td>[C I] 609 $\\mu$m / CO(J=4-3)</td></tr>\n",
       "<tr><td>16</td><td>CI_609</td><td>CO_10</td><td>CI_609/CO_10</td><td>CI609_CO10sm</td><td>1.0</td><td>[C I] 609 $\\mu$m / CO(J=1-0)</td></tr>\n",
       "<tr><td>17</td><td>CO_43</td><td>CO_21</td><td>CO_43/CO_21</td><td>CO43_CO21sm</td><td>1.0</td><td>CO(J=4-3) / CO(J=2-1)</td></tr>\n",
       "<tr><td>18</td><td>CO_65</td><td>CO_10</td><td>CO_65/CO_10</td><td>CO65_CO10sm</td><td>1.0</td><td>CO(J=6-5) / CO(J=1-0)</td></tr>\n",
       "<tr><td>19</td><td>H200S2</td><td>H200S0</td><td>H200S2/H200S0</td><td>H200S2_H200S0sm</td><td>1.0</td><td>H$_2$0-0S(2) 12.3 $\\mu$m / H$_2$0-0S(0) 28.2$ \\mu$m</td></tr>\n",
       "<tr><td>20</td><td>H200S2</td><td>H200S1</td><td>H200S2/H200S1</td><td>H200S2_H200S1sm</td><td>1.0</td><td>H$_2$0-0S(2) 12.3 $\\mu$m / H$_2$0-0S(1) 17$ \\mu$m</td></tr>\n",
       "<tr><td>21</td><td>CI_609</td><td>1</td><td>CI_609</td><td>CI609sm</td><td>1.0</td><td>[C I] 609 $\\mu$m</td></tr>\n",
       "<tr><td>22</td><td>CII_158</td><td>1</td><td>CII_158</td><td>CII158sm</td><td>1.0</td><td>[C II] 158 $\\mu$m</td></tr>\n",
       "<tr><td>23</td><td>OI_63</td><td>1</td><td>OI_63</td><td>OI63sm</td><td>1.0</td><td>[O I] 63 $\\mu$m</td></tr>\n",
       "<tr><td>24</td><td>CO_10</td><td>1</td><td>CO_10</td><td>CO10sm</td><td>1.0</td><td>CO(J=1-0)</td></tr>\n",
       "<tr><td>25</td><td>CO_21</td><td>1</td><td>CO_21</td><td>CO21sm</td><td>1.0</td><td>CO(J=2-1)</td></tr>\n",
       "<tr><td>26</td><td>CO_32</td><td>1</td><td>CO_32</td><td>CO32sm</td><td>1.0</td><td>CO(J=3-2)</td></tr>\n",
       "<tr><td>27</td><td>CO_65</td><td>1</td><td>CO_65</td><td>CO65sm</td><td>1.0</td><td>CO(J=65)</td></tr>\n",
       "<tr><td>28</td><td>H200S2</td><td>1</td><td>H200S2</td><td>H200S2sm</td><td>1.0</td><td>H$_2$0-0S(2) 12.3 $\\mu$m</td></tr>\n",
       "<tr><td>29</td><td>H200S1</td><td>1</td><td>H200S1</td><td>H200S1sm</td><td>1.0</td><td>H$_2$0-0S(1) 28.2 $\\mu$m</td></tr>\n",
       "<tr><td>30</td><td>H200S0</td><td>1</td><td>H200S0</td><td>H200S0sm</td><td>1.0</td><td>H$_2$0-0S(0) 17 $\\mu$m</td></tr>\n",
       "<tr><td>31</td><td>TS</td><td>1</td><td>TS</td><td>TSAV0p01sm</td><td>1.0</td><td>Temperature  AV=0.01</td></tr>\n",
       "</table><style>table.dataTable {clear: both; width: auto !important; margin: 0 !important;}\n",
       ".dataTables_info, .dataTables_length, .dataTables_filter, .dataTables_paginate{\n",
       "display: inline-block; margin-right: 1em; }\n",
       ".paginate_button { margin-right: 5px; }\n",
       "</style>\n",
       "<script>\n",
       "\n",
       "var astropy_sort_num = function(a, b) {\n",
       "    var a_num = parseFloat(a);\n",
       "    var b_num = parseFloat(b);\n",
       "\n",
       "    if (isNaN(a_num) && isNaN(b_num))\n",
       "        return ((a < b) ? -1 : ((a > b) ? 1 : 0));\n",
       "    else if (!isNaN(a_num) && !isNaN(b_num))\n",
       "        return ((a_num < b_num) ? -1 : ((a_num > b_num) ? 1 : 0));\n",
       "    else\n",
       "        return isNaN(a_num) ? -1 : 1;\n",
       "}\n",
       "\n",
       "require.config({paths: {\n",
       "    datatables: 'https://cdn.datatables.net/1.10.12/js/jquery.dataTables.min'\n",
       "}});\n",
       "require([\"datatables\"], function(){\n",
       "    console.log(\"$('#table139836476509968-711189').dataTable()\");\n",
       "    \n",
       "jQuery.extend( jQuery.fn.dataTableExt.oSort, {\n",
       "    \"optionalnum-asc\": astropy_sort_num,\n",
       "    \"optionalnum-desc\": function (a,b) { return -astropy_sort_num(a, b); }\n",
       "});\n",
       "\n",
       "    $('#table139836476509968-711189').dataTable({\n",
       "        order: [],\n",
       "        pageLength: 50,\n",
       "        lengthMenu: [[10, 25, 50, 100, 500, 1000, -1], [10, 25, 50, 100, 500, 1000, 'All']],\n",
       "        pagingType: \"full_numbers\",\n",
       "        columnDefs: [{targets: [0, 5], type: \"optionalnum\"}]\n",
       "    });\n",
       "});\n",
       "</script>\n"
      ],
      "text/plain": [
       "<IPython.core.display.HTML object>"
      ]
     },
     "execution_count": 6,
     "metadata": {},
     "output_type": "execute_result"
    }
   ],
   "source": [
    "ms = ModelSet(\"wk2020\",z=1)\n",
    "ms.table.show_in_notebook()"
   ]
  },
  {
   "cell_type": "markdown",
   "id": "0185a071-50b4-4274-a253-0248d1f4202a",
   "metadata": {},
   "source": [
    "### Do the fit with standard least squares, which is the default *method* to run()"
   ]
  },
  {
   "cell_type": "code",
   "execution_count": null,
   "id": "34e1dbc5-f8fd-4411-9a81-207dc5c597a3",
   "metadata": {},
   "outputs": [],
   "source": [
    "p = LineRatioFit(ms,a)\n",
    "p.run()\n",
    "print(f' n = {p.density:.2e}\\nG0 = {p.radiation_field:.2e}')\n",
    "p._fitresult[0]"
   ]
  },
  {
   "cell_type": "code",
   "execution_count": null,
   "id": "86b02040-2299-470f-8cf3-9714e15d6dd1",
   "metadata": {},
   "outputs": [],
   "source": [
    "plot = LineRatioPlot(p)\n",
    "plot.reduced_chisq(legend=True,norm='log')"
   ]
  },
  {
   "cell_type": "code",
   "execution_count": null,
   "id": "16b640e7-45a5-413f-aad7-30c1ec0f9c33",
   "metadata": {},
   "outputs": [],
   "source": [
    "plot.overlay_all_ratios(measurements=None)"
   ]
  },
  {
   "cell_type": "code",
   "execution_count": null,
   "id": "6f05c616-1929-48f4-8f24-0d51edebf817",
   "metadata": {},
   "outputs": [],
   "source": [
    "plot.ratios_on_models(image=True,ncols=2,meas_color=['#4daf4a'],norm='log')"
   ]
  },
  {
   "cell_type": "markdown",
   "id": "11fd16d6-4708-4930-8169-f9f86c0ddf27",
   "metadata": {},
   "source": [
    "### Let's get all Bayesian up in this crib\n",
    "Instead of LSQ, you can use the emcee package to do Monte Carlo Markov Chain analysis to determine n and G0.\n",
    "Note: this takes several minutes.\n",
    "\n",
    "*Caution: Do not use this for maps!*"
   ]
  },
  {
   "cell_type": "code",
   "execution_count": null,
   "id": "ba27eb0f-cfd6-4f3b-b5c3-71fc7edce7ca",
   "metadata": {},
   "outputs": [],
   "source": [
    "p.run(method=\"emcee\")"
   ]
  },
  {
   "cell_type": "code",
   "execution_count": null,
   "id": "a938b248-b713-435d-b136-9c59b53e084a",
   "metadata": {},
   "outputs": [],
   "source": [
    "res = p._fitresult[0]\n",
    "fig = corner.corner(res.flatchain, labels=res.var_names, truths=list(res.params.valuesdict().values()))"
   ]
  },
  {
   "cell_type": "markdown",
   "id": "ff09759d-5e0d-447e-a7bb-703cf0c10493",
   "metadata": {},
   "source": [
    "### Data for p1"
   ]
  },
  {
   "cell_type": "code",
   "execution_count": null,
   "id": "22850ab7-0e7a-41a8-a46e-9399b4d69c2e",
   "metadata": {},
   "outputs": [],
   "source": [
    "myunit = \"erg s-1 cm-2 sr-1\" \n",
    "intensity = {\n",
    "    \"CII_158\": 1.2E-3,\n",
    "    \"CO_32\": 4.3E-6,\n",
    "    \"OI_63\": 6.4E-3,\n",
    "    \"FIR\": 0.9,\n",
    "    \"H200S1\":6.6E-5,\n",
    "    \"H200S2\":1.5E-4\n",
    "}\n",
    "error = {\n",
    "    \"CII_158\": 1.83E-5,\n",
    "    \"CO_32\": 2.54E-8,\n",
    "    \"OI_63\": 3.30E-4,\n",
    "    \"FIR\": 0.2*intensity[\"FIR\"],  #guess 20%??\n",
    "    \"H200S1\": 8.7E-6,\n",
    "    \"H200S2\": 1.26E-5\n",
    "}\n",
    "a = []\n",
    "for k in intensity:\n",
    "    a.append(Measurement(data=intensity[k],uncertainty = StdDevUncertainty(error[k]),identifier=k,unit=myunit))\n",
    "for m in a:\n",
    "    print(f'{m.id:>7s}  {m:3.2e}')"
   ]
  },
  {
   "cell_type": "code",
   "execution_count": null,
   "id": "6308e269-bcc3-4564-be16-f4638516919e",
   "metadata": {},
   "outputs": [],
   "source": [
    "p1 = LineRatioFit(ms,a)\n",
    "p1.run()\n",
    "print(f' n = {p1.density:.2e}\\nG0 = {p1.radiation_field:.2e}')\n",
    "p1._fitresult[0]"
   ]
  },
  {
   "cell_type": "code",
   "execution_count": null,
   "id": "1ada0c8c-e3f2-49f0-92b3-7d3a9310eb96",
   "metadata": {},
   "outputs": [],
   "source": [
    "plot1 = LineRatioPlot(p1)\n",
    "plot1.reduced_chisq(legend=True,norm='log')"
   ]
  },
  {
   "cell_type": "code",
   "execution_count": null,
   "id": "8d193a5b-55b7-47ab-9b57-5d9a6e885d9b",
   "metadata": {},
   "outputs": [],
   "source": [
    "plot1.overlay_all_ratios(measurements=None)"
   ]
  },
  {
   "cell_type": "code",
   "execution_count": null,
   "id": "f57d5b58-c3ee-4f3c-8eb4-422beb62ae28",
   "metadata": {},
   "outputs": [],
   "source": [
    "plot1.ratios_on_models(image=True,ncols=2,meas_color=['#4daf4a'],norm='log')"
   ]
  },
  {
   "cell_type": "markdown",
   "id": "1fe5495c-bc5b-4f08-9c7e-2ea5e4d66edc",
   "metadata": {},
   "source": [
    "### You can pass some emcee keywords to *run()*\n",
    "See https://lmfit-py.readthedocs.io/en/latest/fitting.html#lmfit.minimizer.Minimizer.emcee"
   ]
  },
  {
   "cell_type": "code",
   "execution_count": null,
   "id": "bb91246b-5552-499f-b2f6-969257b30aed",
   "metadata": {},
   "outputs": [],
   "source": [
    "p1.run(method=\"emcee\", steps=2050, burn=50)"
   ]
  },
  {
   "cell_type": "markdown",
   "id": "7bf1e099-5574-436a-8fd0-9dab7148163b",
   "metadata": {},
   "source": [
    "#### You can modify the corner plot.   \n",
    "See https://corner.readthedocs.io/en/latest/api.html"
   ]
  },
  {
   "cell_type": "code",
   "execution_count": null,
   "id": "82203d33-d1e1-4b2d-98e2-263c7e4c0150",
   "metadata": {},
   "outputs": [],
   "source": [
    "res = p1._fitresult[0]\n",
    "fig = corner.corner(res.flatchain, labels=['n','$G_0$'], truths=list(res.params.valuesdict().values()))"
   ]
  },
  {
   "cell_type": "code",
   "execution_count": null,
   "id": "338c13fb-71b0-4f48-8ce8-fe9369b2136d",
   "metadata": {},
   "outputs": [],
   "source": []
  }
 ],
 "metadata": {
  "kernelspec": {
   "display_name": "Python 3",
   "language": "python",
   "name": "python3"
  },
  "language_info": {
   "codemirror_mode": {
    "name": "ipython",
    "version": 3
   },
   "file_extension": ".py",
   "mimetype": "text/x-python",
   "name": "python",
   "nbconvert_exporter": "python",
   "pygments_lexer": "ipython3",
   "version": "3.7.10"
  }
 },
 "nbformat": 4,
 "nbformat_minor": 5
}
