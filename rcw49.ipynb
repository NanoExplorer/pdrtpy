{
 "cells": [
  {
   "cell_type": "code",
   "execution_count": null,
   "id": "f04ad088-02cb-47b5-8480-e2c209b205df",
   "metadata": {},
   "outputs": [],
   "source": [
    "from pdrtpy.measurement import Measurement\n",
    "from pdrtpy.modelset import ModelSet\n",
    "from pdrtpy.plot.modelplot import ModelPlot\n",
    "import pdrtpy.pdrutils as utils\n",
    "from pdrtpy.tool.lineratiofit import LineRatioFit\n",
    "from pdrtpy.plot.lineratioplot import LineRatioPlot\n",
    "from astropy.nddata import StdDevUncertainty\n",
    "import astropy.units as u\n",
    "import numpy as np\n",
    "#from lmfit import Model, Parameters, Minimizer, minimize, fit_report\n",
    "import corner"
   ]
  },
  {
   "cell_type": "code",
   "execution_count": null,
   "id": "c308898d-4282-478e-a65f-b30141df8628",
   "metadata": {},
   "outputs": [],
   "source": [
    "from pdrtpy import version\n",
    "version()"
   ]
  },
  {
   "cell_type": "markdown",
   "id": "a5a657f1-3775-4878-81bc-dec41a2c4a25",
   "metadata": {},
   "source": [
    "### Data for pillar"
   ]
  },
  {
   "cell_type": "code",
   "execution_count": null,
   "id": "2211b969-de52-4306-8a97-3ce4451a96f7",
   "metadata": {},
   "outputs": [],
   "source": [
    "myunit = \"erg s-1 cm-2 sr-1\" \n",
    "intensity = {\n",
    "    \"CII_158\": 1.2E-3,\n",
    "    \"CO_32\": 4.3E-6,\n",
    "    \"OI_63\": 6.4E-3,\n",
    "    \"FIR\": 0.9\n",
    "}\n",
    "error = {\n",
    "    \"CII_158\": 1.83E-5,\n",
    "    \"CO_32\": 2.54E-8,\n",
    "    \"OI_63\": 3.30E-4,\n",
    "    \"FIR\": 0.2*intensity[\"FIR\"]  #guess 20%??\n",
    "}\n",
    "a = []\n",
    "for k in intensity:\n",
    "    a.append(Measurement(data=intensity[k],uncertainty = StdDevUncertainty(error[k]),identifier=k,unit=myunit))\n",
    "for m in a:\n",
    "    print(f'{m.id:>7s}  {m:3.2e}')"
   ]
  },
  {
   "cell_type": "markdown",
   "id": "546bece2-0093-4ea0-b164-21a115fb622c",
   "metadata": {},
   "source": [
    "## Mark has new WK 2020 models as of 10/15"
   ]
  },
  {
   "cell_type": "code",
   "execution_count": null,
   "id": "c28e1a3f-b291-4b4e-958e-a1ea4df9fd8d",
   "metadata": {},
   "outputs": [],
   "source": [
    "ms = ModelSet(\"wk2020\",z=1)\n",
    "ms.table.show_in_notebook()"
   ]
  },
  {
   "cell_type": "markdown",
   "id": "0185a071-50b4-4274-a253-0248d1f4202a",
   "metadata": {},
   "source": [
    "### Do the fit with standard least squares, which is the default *method* to run()"
   ]
  },
  {
   "cell_type": "code",
   "execution_count": null,
   "id": "34e1dbc5-f8fd-4411-9a81-207dc5c597a3",
   "metadata": {},
   "outputs": [],
   "source": [
    "p = LineRatioFit(ms,a)\n",
    "p.run()\n",
    "print(f' n = {p.density:.2e}\\nG0 = {p.radiation_field:.2e}')"
   ]
  },
  {
   "cell_type": "markdown",
   "id": "b8fe9910-2cba-47e3-84b6-69df33a9a4ee",
   "metadata": {},
   "source": [
    "### The fit resuls are stored in a *FitMap*, where each pixel contains a instance of an *MinimizerResult*.   \n",
    "See https://lmfit-py.readthedocs.io/en/latest/fitting.html#minimizerresult-the-optimization-result\n",
    "\n",
    "Since this is a single pixel example, the result is in index 0."
   ]
  },
  {
   "cell_type": "code",
   "execution_count": null,
   "id": "28bed865-359f-4228-8c97-5377a17fd959",
   "metadata": {},
   "outputs": [],
   "source": [
    "p.fit_result[0]"
   ]
  },
  {
   "cell_type": "code",
   "execution_count": null,
   "id": "86b02040-2299-470f-8cf3-9714e15d6dd1",
   "metadata": {},
   "outputs": [],
   "source": [
    "plot = LineRatioPlot(p)\n",
    "plot.reduced_chisq(legend=True,norm='log')"
   ]
  },
  {
   "cell_type": "code",
   "execution_count": null,
   "id": "16b640e7-45a5-413f-aad7-30c1ec0f9c33",
   "metadata": {},
   "outputs": [],
   "source": [
    "plot.overlay_all_ratios(measurements=None)"
   ]
  },
  {
   "cell_type": "code",
   "execution_count": null,
   "id": "6f05c616-1929-48f4-8f24-0d51edebf817",
   "metadata": {},
   "outputs": [],
   "source": [
    "plot.ratios_on_models(image=True,ncols=2,meas_color=['#4daf4a'],norm='log')"
   ]
  },
  {
   "cell_type": "markdown",
   "id": "11fd16d6-4708-4930-8169-f9f86c0ddf27",
   "metadata": {},
   "source": [
    "### Let's get all Bayesian up in this crib\n",
    "Instead of LSQ, you can use the emcee package to do Monte Carlo Markov Chain analysis to determine n and G0.\n",
    "Note: this takes a few minutes.\n",
    "\n",
    "*Caution: Do not use this method for maps!*"
   ]
  },
  {
   "cell_type": "code",
   "execution_count": null,
   "id": "ba27eb0f-cfd6-4f3b-b5c3-71fc7edce7ca",
   "metadata": {},
   "outputs": [],
   "source": [
    "p.run(method=\"emcee\")"
   ]
  },
  {
   "cell_type": "code",
   "execution_count": null,
   "id": "a938b248-b713-435d-b136-9c59b53e084a",
   "metadata": {},
   "outputs": [],
   "source": [
    "res = p.fit_result[0]\n",
    "fig = corner.corner(res.flatchain, labels=res.var_names, truths=list(res.params.valuesdict().values()))"
   ]
  },
  {
   "cell_type": "markdown",
   "id": "ff09759d-5e0d-447e-a7bb-703cf0c10493",
   "metadata": {},
   "source": [
    "### Data for p1"
   ]
  },
  {
   "cell_type": "code",
   "execution_count": null,
   "id": "22850ab7-0e7a-41a8-a46e-9399b4d69c2e",
   "metadata": {},
   "outputs": [],
   "source": [
    "myunit = \"erg s-1 cm-2 sr-1\" \n",
    "intensity = {\n",
    "    \"CII_158\": 1.2E-3,\n",
    "    \"CO_32\": 4.3E-6,\n",
    "    \"OI_63\": 6.4E-3,\n",
    "    \"FIR\": 0.9,\n",
    "    \"H200S1\":6.6E-5,\n",
    "    \"H200S2\":1.5E-4\n",
    "}\n",
    "error = {\n",
    "    \"CII_158\": 1.83E-5,\n",
    "    \"CO_32\": 2.54E-8,\n",
    "    \"OI_63\": 3.30E-4,\n",
    "    \"FIR\": 0.2*intensity[\"FIR\"],  #guess 20%??\n",
    "    \"H200S1\": 8.7E-6,\n",
    "    \"H200S2\": 1.26E-5\n",
    "}\n",
    "a = []\n",
    "for k in intensity:\n",
    "    a.append(Measurement(data=intensity[k],uncertainty = StdDevUncertainty(error[k]),identifier=k,unit=myunit))\n",
    "for m in a:\n",
    "    print(f'{m.id:>7s}  {m:3.2e}')"
   ]
  },
  {
   "cell_type": "code",
   "execution_count": null,
   "id": "6308e269-bcc3-4564-be16-f4638516919e",
   "metadata": {},
   "outputs": [],
   "source": [
    "p1 = LineRatioFit(ms,a)\n",
    "p1.run()\n",
    "print(f' n = {p1.density:.2e}\\nG0 = {p1.radiation_field:.2e}')\n",
    "p1.fit_result[0]"
   ]
  },
  {
   "cell_type": "code",
   "execution_count": null,
   "id": "1ada0c8c-e3f2-49f0-92b3-7d3a9310eb96",
   "metadata": {},
   "outputs": [],
   "source": [
    "plot1 = LineRatioPlot(p1)\n",
    "plot1.reduced_chisq(legend=True,norm='log')"
   ]
  },
  {
   "cell_type": "code",
   "execution_count": null,
   "id": "8d193a5b-55b7-47ab-9b57-5d9a6e885d9b",
   "metadata": {},
   "outputs": [],
   "source": [
    "plot1.overlay_all_ratios(measurements=None)"
   ]
  },
  {
   "cell_type": "code",
   "execution_count": null,
   "id": "f57d5b58-c3ee-4f3c-8eb4-422beb62ae28",
   "metadata": {},
   "outputs": [],
   "source": [
    "plot1.ratios_on_models(image=True,ncols=2,meas_color=['#4daf4a'],norm='log')"
   ]
  },
  {
   "cell_type": "markdown",
   "id": "1fe5495c-bc5b-4f08-9c7e-2ea5e4d66edc",
   "metadata": {},
   "source": [
    "### You can pass some emcee keywords to *run()*\n",
    "More steps means a longer time to compute, but will ensure the chain is long enough.\n",
    "\n",
    "See https://lmfit-py.readthedocs.io/en/latest/fitting.html#lmfit.minimizer.Minimizer.emcee"
   ]
  },
  {
   "cell_type": "code",
   "execution_count": null,
   "id": "bb91246b-5552-499f-b2f6-969257b30aed",
   "metadata": {},
   "outputs": [],
   "source": [
    "p1.run(method=\"emcee\", steps=2050, burn=50)"
   ]
  },
  {
   "cell_type": "markdown",
   "id": "7bf1e099-5574-436a-8fd0-9dab7148163b",
   "metadata": {},
   "source": [
    "#### You can modify the corner plot, changing the labels or using other available keywords.\n",
    "See https://corner.readthedocs.io/en/latest/api.html"
   ]
  },
  {
   "cell_type": "code",
   "execution_count": null,
   "id": "82203d33-d1e1-4b2d-98e2-263c7e4c0150",
   "metadata": {},
   "outputs": [],
   "source": [
    "res = p1.fit_result[0]\n",
    "fig = corner.corner(res.flatchain, labels=['n','$G_0$'], truths=list(res.params.valuesdict().values()))"
   ]
  },
  {
   "cell_type": "code",
   "execution_count": null,
   "id": "2173399d-c9a0-40a6-ab60-28af690a0a5d",
   "metadata": {},
   "outputs": [],
   "source": []
  }
 ],
 "metadata": {
  "kernelspec": {
   "display_name": "Python 3",
   "language": "python",
   "name": "python3"
  },
  "language_info": {
   "codemirror_mode": {
    "name": "ipython",
    "version": 3
   },
   "file_extension": ".py",
   "mimetype": "text/x-python",
   "name": "python",
   "nbconvert_exporter": "python",
   "pygments_lexer": "ipython3",
   "version": "3.7.10"
  }
 },
 "nbformat": 4,
 "nbformat_minor": 5
}
