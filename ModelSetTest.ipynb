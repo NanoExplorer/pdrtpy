{
 "cells": [
  {
   "cell_type": "code",
   "execution_count": 2,
   "metadata": {},
   "outputs": [],
   "source": [
    "from pdrtpy.modelset import ModelSet\n",
    "import numpy as np\n",
    "import numpy.ma as ma\n",
    "from astropy.table import Table\n",
    "import copy\n",
    "from astropy.table import vstack,hstack\n",
    "from astropy.table import unique"
   ]
  },
  {
   "cell_type": "code",
   "execution_count": 3,
   "metadata": {
    "scrolled": true
   },
   "outputs": [],
   "source": [
    "t = ModelSet.WolfireKaufman()"
   ]
  },
  {
   "cell_type": "code",
   "execution_count": 4,
   "metadata": {},
   "outputs": [
    {
     "data": {
      "text/plain": [
       "2"
      ]
     },
     "execution_count": 4,
     "metadata": {},
     "output_type": "execute_result"
    }
   ],
   "source": [
    "t.ratiocount([\"CII_158\",\"OI_145\",\"FIR\"])"
   ]
  },
  {
   "cell_type": "code",
   "execution_count": 5,
   "metadata": {},
   "outputs": [
    {
     "name": "stdout",
     "output_type": "stream",
     "text": [
      "('OI_145/CII_158', 'wolfirekaufman/version2006/constant_extinction/z=1/o145ciiweb.fits')\n",
      "('OI_145+CII_158/FIR', 'wolfirekaufman/version2006/constant_extinction/z=1/firoi145web.fits')\n"
     ]
    }
   ],
   "source": [
    "for p in t.find_files([\"CII_158\",\"OI_145\",\"FIR\"]):\n",
    "    print(p)"
   ]
  },
  {
   "cell_type": "code",
   "execution_count": 6,
   "metadata": {},
   "outputs": [
    {
     "name": "stdout",
     "output_type": "stream",
     "text": [
      "   name   version  z                                 description                                \n",
      "--------- ------- --- --------------------------------------------------------------------------\n",
      "wk2006    2006    1.0 Wolfire/Kaufman 2006 constant extinction models                           \n",
      "wk2006    2006    3.0 Wolfire/Kaufman 2006 constant extinction models                           \n",
      "wk2006cpt 2006    1.0 Wolfire/Kaufman 2006 constant thermal pressure models                     \n",
      "wk2020    2020    1.0 Wolfire/Kaufman 2020 constant extinction models                           \n",
      "smc       2006    0.1 Wolfire/Kaufman 2006 constant extinction models for Small Magellanic Cloud\n",
      "kosmatau  X       1.0 KOSMA Tau models, Z=1                                                     \n"
     ]
    }
   ],
   "source": [
    "t.list()"
   ]
  },
  {
   "cell_type": "code",
   "execution_count": 7,
   "metadata": {},
   "outputs": [
    {
     "name": "stdout",
     "output_type": "stream",
     "text": [
      "Help on ModelSet in module pdrtpy.modelset object:\n",
      "\n",
      "class ModelSet(builtins.object)\n",
      " |  ModelSet(name, z)\n",
      " |  \n",
      " |  Class for PDR Model Sets. Model Sets will interface with a  \n",
      " |     directory containing the model FITS files.\n",
      " |  :param name: identifier.\n",
      " |  :type name: str.\n",
      " |  :param z:  metallicity in solar units.  \n",
      " |  :type z: float\n",
      " |  \n",
      " |  Methods defined here:\n",
      " |  \n",
      " |  __init__(self, name, z)\n",
      " |      Initialize self.  See help(type(self)) for accurate signature.\n",
      " |  \n",
      " |  find_files(self, m, ext='fits')\n",
      " |      Find the valid model ratios files in this ModelSet for a given list \n",
      " |         of measurement IDs\n",
      " |      :param m: list of string Measurement IDs, e.g. [\"CII_158\",\"OI_145\",\"FIR\"]\n",
      " |      :type m: list\n",
      " |      :param ext: file extenstion. Default: 'fits'\n",
      " |      :type ext: str\n",
      " |      :returns: iterator -- An iterator of model ratio files for the given list of Measurement IDs\n",
      " |  \n",
      " |  find_pairs(self, m)\n",
      " |      Find the valid model ratios labels in this ModelSet for a given list \n",
      " |         of measurement IDs\n",
      " |      :param m: list of string Measurement IDs, e.g. [\"CII_158\",\"OI_145\",\"FIR\"]\n",
      " |      :type m: list\n",
      " |      :returns: iterator -- An iterator of model ratios labels for the given list of measurement IDs\n",
      " |  \n",
      " |  ratiocount(self, m)\n",
      " |      :param m: list of string Measurement IDs, e.g. [\"CII_158\",\"OI_145\",\"FIR\"]\n",
      " |      :type m: list\n",
      " |      :returns: int -- The number of model ratios found for the given list \n",
      " |         of measurement IDs\n",
      " |  \n",
      " |  ----------------------------------------------------------------------\n",
      " |  Static methods defined here:\n",
      " |  \n",
      " |  KosmaTau()\n",
      " |      Easy way to get the latest KOSMA TAU models, z=1\n",
      " |      :returns: :class:`ModelSet`\n",
      " |  \n",
      " |  WolfireKaufman()\n",
      " |      Easy way to get the latest Wolfire-Kaufman models, z=1\n",
      " |      :returns: :class:`ModelSet`\n",
      " |  \n",
      " |  list()\n",
      " |      List the names and descriptions of available models (not just this one)\n",
      " |  \n",
      " |  ----------------------------------------------------------------------\n",
      " |  Data descriptors defined here:\n",
      " |  \n",
      " |  __dict__\n",
      " |      dictionary for instance variables (if defined)\n",
      " |  \n",
      " |  __weakref__\n",
      " |      list of weak references to the object (if defined)\n",
      " |  \n",
      " |  description\n",
      " |      :returns: str -- The description of this model\n",
      " |  \n",
      " |  metallicity\n",
      " |      :returns: float -- The metallicity of this model\n",
      " |  \n",
      " |  name\n",
      " |      :returns: str -- The name of this model\n",
      " |  \n",
      " |  supported_lines\n",
      " |      :returns: :class:`astropy.table.Table1 -- Table of lines and continuum that are covered by this ModelSet\n",
      " |  \n",
      " |  supported_ratios\n",
      " |      :returns: :class:`astropy.table.Table` -- The emission ratios that are covered by this model\n",
      " |  \n",
      " |  table\n",
      " |      :returns: :class:`astropy.table.Table` -- a Table containing details of the models\n",
      " |  \n",
      " |  version\n",
      " |      :returns: str -- The version of this model\n",
      " |  \n",
      " |  z\n",
      " |      :returns: float -- The metallicity of this model\n",
      "\n"
     ]
    }
   ],
   "source": [
    "help(t)"
   ]
  },
  {
   "cell_type": "code",
   "execution_count": 8,
   "metadata": {},
   "outputs": [
    {
     "data": {
      "text/html": [
       "<i>Table length=28</i>\n",
       "<table id=\"table140169318483600\" class=\"table-striped table-bordered table-condensed\">\n",
       "<thead><tr><th>canonical name</th><th>ID</th></tr></thead>\n",
       "<thead><tr><th>str51</th><th>str14</th></tr></thead>\n",
       "<tr><td>[C II] 158 $\\mu$m</td><td>CII_158</td></tr>\n",
       "<tr><td>[C I] 370 $\\mu$m</td><td>CI_370</td></tr>\n",
       "<tr><td>[C I] 609 $\\mu$m</td><td>CI_609</td></tr>\n",
       "<tr><td>CO(J=1-0)</td><td>CO_10</td></tr>\n",
       "<tr><td>CO(J=10-9)</td><td>CO_109</td></tr>\n",
       "<tr><td>CO(J=11-10)</td><td>CO_1110</td></tr>\n",
       "<tr><td>CO(J=12-11)</td><td>CO_1211</td></tr>\n",
       "<tr><td>CO(J=13-12)</td><td>CO_1312</td></tr>\n",
       "<tr><td>CO(J=14-13)</td><td>CO_1413</td></tr>\n",
       "<tr><td>CO(J=2-1)</td><td>CO_21</td></tr>\n",
       "<tr><td>...</td><td>...</td></tr>\n",
       "<tr><td>I$_{FIR}$</td><td>FIR</td></tr>\n",
       "<tr><td>H$_2$0-0S(0) 28.2$ \\mu$m</td><td>H200S0</td></tr>\n",
       "<tr><td>H$_2$0-0S(1) 17 $\\mu$m</td><td>H200S1</td></tr>\n",
       "<tr><td>H$_2$0-0S(2) 12.3 $\\mu$m</td><td>H200S2</td></tr>\n",
       "<tr><td>H$_2$0-0S(3) 9.7 $\\mu$m</td><td>H200S3</td></tr>\n",
       "<tr><td>H$_2$1-0S(1) 2.12 $\\mu$m</td><td>H210S1</td></tr>\n",
       "<tr><td>H$_2$6-5Q(1) 1.6 $\\mu$m</td><td>H264Q1</td></tr>\n",
       "<tr><td>[O I] 145 $\\mu$m</td><td>OI_145</td></tr>\n",
       "<tr><td>[O I] 63 $\\mu$m</td><td>OI_63</td></tr>\n",
       "<tr><td>[S III] 35 $\\mu$m</td><td>SIII</td></tr>\n",
       "</table>"
      ],
      "text/plain": [
       "<Table length=28>\n",
       "      canonical name         ID  \n",
       "          str51            str14 \n",
       "------------------------- -------\n",
       "       [C II] 158 $\\mu$m  CII_158\n",
       "        [C I] 370 $\\mu$m   CI_370\n",
       "        [C I] 609 $\\mu$m   CI_609\n",
       "                CO(J=1-0)   CO_10\n",
       "              CO(J=10-9)   CO_109\n",
       "             CO(J=11-10)  CO_1110\n",
       "             CO(J=12-11)  CO_1211\n",
       "             CO(J=13-12)  CO_1312\n",
       "             CO(J=14-13)  CO_1413\n",
       "               CO(J=2-1)    CO_21\n",
       "                      ...     ...\n",
       "                I$_{FIR}$     FIR\n",
       " H$_2$0-0S(0) 28.2$ \\mu$m  H200S0\n",
       "  H$_2$0-0S(1) 17 $\\mu$m   H200S1\n",
       "H$_2$0-0S(2) 12.3 $\\mu$m   H200S2\n",
       " H$_2$0-0S(3) 9.7 $\\mu$m   H200S3\n",
       " H$_2$1-0S(1) 2.12 $\\mu$m  H210S1\n",
       " H$_2$6-5Q(1) 1.6 $\\mu$m   H264Q1\n",
       "        [O I] 145 $\\mu$m   OI_145\n",
       "         [O I] 63 $\\mu$m    OI_63\n",
       "       [S III] 35 $\\mu$m     SIII"
      ]
     },
     "execution_count": 8,
     "metadata": {},
     "output_type": "execute_result"
    }
   ],
   "source": [
    "t.supported_lines"
   ]
  },
  {
   "cell_type": "code",
   "execution_count": 9,
   "metadata": {},
   "outputs": [
    {
     "data": {
      "text/html": [
       "<i>Table length=50</i>\n",
       "<table id=\"table140169331021328\" class=\"table-striped table-bordered table-condensed\">\n",
       "<thead><tr><th>title</th><th>ratio label</th></tr></thead>\n",
       "<thead><tr><th>str51</th><th>str18</th></tr></thead>\n",
       "<tr><td>[O I] 145 $\\mu$m / [O I] 63 $\\mu$m</td><td>OI_145/OI_63</td></tr>\n",
       "<tr><td>[O I] 145 $\\mu$m / [C II] 158 $\\mu$m</td><td>OI_145/CII_158</td></tr>\n",
       "<tr><td>[O I] 63 $\\mu$m / [C II] 158 $\\mu$m</td><td>OI_63/CII_158</td></tr>\n",
       "<tr><td>[C II] 158 $\\mu$m / [C I] 609 $\\mu$m</td><td>CII_158/CI_609</td></tr>\n",
       "<tr><td>[C I] 370 $\\mu$m / [C I] 609 $\\mu$m</td><td>CI_370/CI_609</td></tr>\n",
       "<tr><td>[C II] 158 $\\mu$m / CO(J=1-0)</td><td>CII_158/CO_10</td></tr>\n",
       "<tr><td>[C I] 609 $\\mu$m / CO(J=1-0)</td><td>CI_609/CO_10</td></tr>\n",
       "<tr><td>[C I] 609 $\\mu$m / CO(J=2-1)</td><td>CI_609/CO_21</td></tr>\n",
       "<tr><td>[C I] 609 $\\mu$m / CO(J=3-2)</td><td>CI_609/CO_32</td></tr>\n",
       "<tr><td>[C I] 609 $\\mu$m / CO(J=4-3)</td><td>CI_609/CO_43</td></tr>\n",
       "<tr><td>...</td><td>...</td></tr>\n",
       "<tr><td>([O I] 63 $\\mu$m + [C II] 158 $\\mu$m) / I$_{FIR}$</td><td>OI_63+CII_158/FIR</td></tr>\n",
       "<tr><td>([O I] 145 $\\mu$m + [C II] 158 $\\mu$m) / I$_{FIR}$</td><td>OI_145+CII_158/FIR</td></tr>\n",
       "<tr><td>[S III] 35 $\\mu$m / [Fe II] 25 $\\mu$m</td><td>SIII/FEII</td></tr>\n",
       "<tr><td>H$_2$0-0S(1) 17 $\\mu$m / H$_2$0-0S(0) 28.2$ \\mu$m</td><td>H200S1/H200S0</td></tr>\n",
       "<tr><td>H$_2$0-0S(2) 12.3 $\\mu$m / H$_2$0-0S(0) 28.2$ \\mu$m</td><td>H200S2/H200S0</td></tr>\n",
       "<tr><td>H$_2$0-0S(2) 12.3 $\\mu$m / H$_2$0-0S(1) 17$ \\mu$m</td><td>H200S2/H200S1</td></tr>\n",
       "<tr><td>H$_2$0-0S(3) 9.7 $\\mu$m / H$_2$0-0S(1) 17$ \\mu$m</td><td>H200S3/H200S1</td></tr>\n",
       "<tr><td>H$_2$0-0S(1) 17 $\\mu$m / [S III] 35 $\\mu$m</td><td>H200S1/SIII</td></tr>\n",
       "<tr><td>H$_2$0-0S(2) 12.3 $\\mu$m / [S III] 35 $\\mu$m</td><td>H200S2/SIII</td></tr>\n",
       "<tr><td>H$_2$6-5Q(1) 1.6 $\\mu$m / H$_2$1-0S(1) 2.12 $\\mu$m</td><td>H264Q11/H210S1</td></tr>\n",
       "</table>"
      ],
      "text/plain": [
       "<Table length=50>\n",
       "                       title                           ratio label    \n",
       "                       str51                              str18       \n",
       "--------------------------------------------------- ------------------\n",
       "                 [O I] 145 $\\mu$m / [O I] 63 $\\mu$m       OI_145/OI_63\n",
       "               [O I] 145 $\\mu$m / [C II] 158 $\\mu$m     OI_145/CII_158\n",
       "                [O I] 63 $\\mu$m / [C II] 158 $\\mu$m      OI_63/CII_158\n",
       "               [C II] 158 $\\mu$m / [C I] 609 $\\mu$m     CII_158/CI_609\n",
       "                [C I] 370 $\\mu$m / [C I] 609 $\\mu$m      CI_370/CI_609\n",
       "                      [C II] 158 $\\mu$m / CO(J=1-0)      CII_158/CO_10\n",
       "                       [C I] 609 $\\mu$m / CO(J=1-0)       CI_609/CO_10\n",
       "                       [C I] 609 $\\mu$m / CO(J=2-1)       CI_609/CO_21\n",
       "                       [C I] 609 $\\mu$m / CO(J=3-2)       CI_609/CO_32\n",
       "                       [C I] 609 $\\mu$m / CO(J=4-3)       CI_609/CO_43\n",
       "                                                ...                ...\n",
       "  ([O I] 63 $\\mu$m + [C II] 158 $\\mu$m) / I$_{FIR}$  OI_63+CII_158/FIR\n",
       " ([O I] 145 $\\mu$m + [C II] 158 $\\mu$m) / I$_{FIR}$ OI_145+CII_158/FIR\n",
       "              [S III] 35 $\\mu$m / [Fe II] 25 $\\mu$m          SIII/FEII\n",
       "  H$_2$0-0S(1) 17 $\\mu$m / H$_2$0-0S(0) 28.2$ \\mu$m      H200S1/H200S0\n",
       "H$_2$0-0S(2) 12.3 $\\mu$m / H$_2$0-0S(0) 28.2$ \\mu$m      H200S2/H200S0\n",
       "  H$_2$0-0S(2) 12.3 $\\mu$m / H$_2$0-0S(1) 17$ \\mu$m      H200S2/H200S1\n",
       "   H$_2$0-0S(3) 9.7 $\\mu$m / H$_2$0-0S(1) 17$ \\mu$m      H200S3/H200S1\n",
       "         H$_2$0-0S(1) 17 $\\mu$m / [S III] 35 $\\mu$m        H200S1/SIII\n",
       "       H$_2$0-0S(2) 12.3 $\\mu$m / [S III] 35 $\\mu$m        H200S2/SIII\n",
       " H$_2$6-5Q(1) 1.6 $\\mu$m / H$_2$1-0S(1) 2.12 $\\mu$m     H264Q11/H210S1"
      ]
     },
     "execution_count": 9,
     "metadata": {},
     "output_type": "execute_result"
    }
   ],
   "source": [
    "t.supported_ratios"
   ]
  }
 ],
 "metadata": {
  "kernelspec": {
   "display_name": "Python 3",
   "language": "python",
   "name": "python3"
  },
  "language_info": {
   "codemirror_mode": {
    "name": "ipython",
    "version": 3
   },
   "file_extension": ".py",
   "mimetype": "text/x-python",
   "name": "python",
   "nbconvert_exporter": "python",
   "pygments_lexer": "ipython3",
   "version": "3.7.6"
  }
 },
 "nbformat": 4,
 "nbformat_minor": 2
}
