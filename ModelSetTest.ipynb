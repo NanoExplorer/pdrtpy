{
 "cells": [
  {
   "cell_type": "markdown",
   "metadata": {},
   "source": [
    "$$B_\\lambda = 2 h c^2/\\lambda^5  {1\\over{exp[hc/\\lambda k T] - 1}}$$\n",
    "\n",
    "The integrated line is $B_\\lambda d\\lambda$ and for $hc/\\lambda k T << 1$:\n",
    "\n",
    "$$B_\\lambda d\\lambda  = 2c^2/\\lambda^5 \\times (\\lambda kT/hc)~d\\lambda \\\\\n",
    "                      = 2ckT/\\lambda^4 d\\lambda\n",
    "$$\n",
    "\n",
    "The relationship between velocity and wavelength\n",
    "$dV = \\lambda/c~ d\\lambda$, giving\n",
    "\n",
    "$$B_\\lambda d\\lambda = 2kT/\\lambda^3 dV$$\n",
    "\n",
    "With $\\lambda$  in cm, the $10^5$ is to convert dV in km s^${-1}$ to cm s$^{-1}$."
   ]
  },
  {
   "cell_type": "code",
   "execution_count": 1,
   "metadata": {},
   "outputs": [
    {
     "name": "stderr",
     "output_type": "stream",
     "text": [
      "/home/mpound/anaconda3/lib/python3.7/site-packages/astropy/table/column.py:984: FutureWarning: elementwise comparison failed; returning scalar instead, but in the future will perform elementwise comparison\n",
      "  result = getattr(super(), op)(other)\n"
     ]
    }
   ],
   "source": [
    "from pdrtpy.modelset import ModelSet\n",
    "from pdrtpy.measurement import Measurement\n",
    "import pdrtpy.pdrutils as utils\n",
    "import numpy as np\n",
    "import numpy.ma as ma\n",
    "from astropy.table import Table\n",
    "import copy\n",
    "from astropy.table import vstack,hstack\n",
    "from astropy.table import unique\n",
    "from astropy import units as u"
   ]
  },
  {
   "cell_type": "code",
   "execution_count": 2,
   "metadata": {},
   "outputs": [
    {
     "name": "stderr",
     "output_type": "stream",
     "text": [
      "WARNING: VerifyWarning: Invalid 'BLANK' keyword in header.  The 'BLANK' keyword is only applicable to integer data, and will be ignored in this HDU. [astropy.io.fits.hdu.image]\n"
     ]
    }
   ],
   "source": [
    "\n",
    "cii_flux=utils.get_data(\"n22_cii_flux.fits\")\n",
    "cii_err=utils.get_data(\"n22_cii_error.fits\")\n",
    "oi_flux=utils.get_data(\"n22_oi_flux.fits\")\n",
    "oi_err=utils.get_data(\"n22_oi_error.fits\")\n",
    "FIR_flux = utils.get_data(\"n22_FIR.fits\")\n",
    "\n",
    "cii_combined=\"n22_cii_flux_error.fits\"\n",
    "oi_combined=\"n22_oi_flux_error.fits\"\n",
    "FIR_combined=\"n22_FIR_flux_error.fits\"\n",
    "\n",
    "Measurement.make_measurement(cii_flux,cii_err,cii_combined)\n",
    "Measurement.make_measurement(oi_flux,oi_err,oi_combined)\n",
    "#Measurement.makemeasurement(TIR_flux_file,errorfile='rms',outfile=TIR_combined_file,rms=3E-6)\n",
    "Measurement.make_measurement(FIR_flux,error='10%',outfile=FIR_combined)\n",
    "\n",
    "#cii_meas = Measurement.read(cii_combined,identifier=\"CII_158\")\n",
    "#FIR_meas = Measurement.read(FIR_combined,identifier=\"FIR\")\n",
    "#oi_meas = Measurement.read(oi_combined,identifier=\"OI_63\")"
   ]
  },
  {
   "cell_type": "code",
   "execution_count": 4,
   "metadata": {
    "scrolled": true
   },
   "outputs": [
    {
     "name": "stdout",
     "output_type": "stream",
     "text": [
      "ZUNIT:  W / (m2 sr)\n",
      "CONSTRUCTED\n",
      "ZUNIT:  W / (m2 sr)\n",
      "CONSTRUCTED\n",
      "ZUNIT:  W / (m2 sr)\n",
      "CONSTRUCTED\n"
     ]
    }
   ],
   "source": [
    "cii_meas = Measurement.read(cii_combined,identifier=\"CII_158\")\n",
    "FIR_meas = Measurement.read(FIR_combined,identifier=\"FIR\")\n",
    "oi_meas = Measurement.read(oi_combined,identifier=\"OI_63\")"
   ]
  },
  {
   "cell_type": "code",
   "execution_count": 10,
   "metadata": {},
   "outputs": [
    {
     "data": {
      "text/plain": [
       "WCS Keywords\n",
       "\n",
       "Number of WCS axes: 2\n",
       "CTYPE : 'RA---TAN'  'DEC--TAN'  \n",
       "CRVAL : 12.10878606  -73.33488267  \n",
       "CRPIX : 1.0  1.0  \n",
       "PC1_1 PC1_2  : 1.0  0.0  \n",
       "PC2_1 PC2_2  : 0.0  1.0  \n",
       "CDELT : -0.00079167  0.00079167  \n",
       "NAXIS : 81  139"
      ]
     },
     "execution_count": 10,
     "metadata": {},
     "output_type": "execute_result"
    }
   ],
   "source": [
    "cii_meas.wcs"
   ]
  },
  {
   "cell_type": "code",
   "execution_count": null,
   "metadata": {},
   "outputs": [],
   "source": [
    "m2.header"
   ]
  },
  {
   "cell_type": "code",
   "execution_count": 5,
   "metadata": {
    "scrolled": true
   },
   "outputs": [],
   "source": [
    "t = ModelSet.WolfireKaufman()"
   ]
  },
  {
   "cell_type": "code",
   "execution_count": 6,
   "metadata": {},
   "outputs": [
    {
     "data": {
      "text/plain": [
       "2"
      ]
     },
     "execution_count": 6,
     "metadata": {},
     "output_type": "execute_result"
    }
   ],
   "source": [
    "t.ratiocount([\"CII_158\",\"OI_145\",\"FIR\"])"
   ]
  },
  {
   "cell_type": "code",
   "execution_count": null,
   "metadata": {},
   "outputs": [],
   "source": [
    "for p in t.find_files([\"CII_158\",\"OI_145\",\"FIR\"]):\n",
    "    print(p)"
   ]
  },
  {
   "cell_type": "code",
   "execution_count": 7,
   "metadata": {},
   "outputs": [
    {
     "name": "stdout",
     "output_type": "stream",
     "text": [
      "   name   version  z                                 description                                \n",
      "--------- ------- --- --------------------------------------------------------------------------\n",
      "wk2006    2006    1.0 Wolfire/Kaufman 2006 constant extinction models                           \n",
      "wk2006    2006    3.0 Wolfire/Kaufman 2006 constant extinction models                           \n",
      "wk2006cpt 2006    1.0 Wolfire/Kaufman 2006 constant thermal pressure models                     \n",
      "wk2020    2020    1.0 Wolfire/Kaufman 2020 constant extinction models                           \n",
      "smc       2006    0.1 Wolfire/Kaufman 2006 constant extinction models for Small Magellanic Cloud\n",
      "kosmatau  X       1.0 KOSMA Tau models, Z=1                                                     \n"
     ]
    }
   ],
   "source": [
    "t.list()"
   ]
  },
  {
   "cell_type": "code",
   "execution_count": null,
   "metadata": {},
   "outputs": [],
   "source": [
    "help(t)"
   ]
  },
  {
   "cell_type": "code",
   "execution_count": 8,
   "metadata": {},
   "outputs": [
    {
     "data": {
      "text/html": [
       "<i>Table length=28</i>\n",
       "<table id=\"table140603524569168\" class=\"table-striped table-bordered table-condensed\">\n",
       "<thead><tr><th>canonical name</th><th>ID</th></tr></thead>\n",
       "<thead><tr><th>str51</th><th>str14</th></tr></thead>\n",
       "<tr><td>[C II] 158 $\\mu$m</td><td>CII_158</td></tr>\n",
       "<tr><td>[C I] 370 $\\mu$m</td><td>CI_370</td></tr>\n",
       "<tr><td>[C I] 609 $\\mu$m</td><td>CI_609</td></tr>\n",
       "<tr><td>CO(J=1-0)</td><td>CO_10</td></tr>\n",
       "<tr><td>CO(J=10-9)</td><td>CO_109</td></tr>\n",
       "<tr><td>CO(J=11-10)</td><td>CO_1110</td></tr>\n",
       "<tr><td>CO(J=12-11)</td><td>CO_1211</td></tr>\n",
       "<tr><td>CO(J=13-12)</td><td>CO_1312</td></tr>\n",
       "<tr><td>CO(J=14-13)</td><td>CO_1413</td></tr>\n",
       "<tr><td>CO(J=2-1)</td><td>CO_21</td></tr>\n",
       "<tr><td>...</td><td>...</td></tr>\n",
       "<tr><td>I$_{FIR}$</td><td>FIR</td></tr>\n",
       "<tr><td>H$_2$0-0S(0) 28.2$ \\mu$m</td><td>H200S0</td></tr>\n",
       "<tr><td>H$_2$0-0S(1) 17 $\\mu$m</td><td>H200S1</td></tr>\n",
       "<tr><td>H$_2$0-0S(2) 12.3 $\\mu$m</td><td>H200S2</td></tr>\n",
       "<tr><td>H$_2$0-0S(3) 9.7 $\\mu$m</td><td>H200S3</td></tr>\n",
       "<tr><td>H$_2$1-0S(1) 2.12 $\\mu$m</td><td>H210S1</td></tr>\n",
       "<tr><td>H$_2$6-5Q(1) 1.6 $\\mu$m</td><td>H264Q1</td></tr>\n",
       "<tr><td>[O I] 145 $\\mu$m</td><td>OI_145</td></tr>\n",
       "<tr><td>[O I] 63 $\\mu$m</td><td>OI_63</td></tr>\n",
       "<tr><td>[S III] 35 $\\mu$m</td><td>SIII</td></tr>\n",
       "</table>"
      ],
      "text/plain": [
       "<Table length=28>\n",
       "      canonical name         ID  \n",
       "          str51            str14 \n",
       "------------------------- -------\n",
       "       [C II] 158 $\\mu$m  CII_158\n",
       "        [C I] 370 $\\mu$m   CI_370\n",
       "        [C I] 609 $\\mu$m   CI_609\n",
       "                CO(J=1-0)   CO_10\n",
       "              CO(J=10-9)   CO_109\n",
       "             CO(J=11-10)  CO_1110\n",
       "             CO(J=12-11)  CO_1211\n",
       "             CO(J=13-12)  CO_1312\n",
       "             CO(J=14-13)  CO_1413\n",
       "               CO(J=2-1)    CO_21\n",
       "                      ...     ...\n",
       "                I$_{FIR}$     FIR\n",
       " H$_2$0-0S(0) 28.2$ \\mu$m  H200S0\n",
       "  H$_2$0-0S(1) 17 $\\mu$m   H200S1\n",
       "H$_2$0-0S(2) 12.3 $\\mu$m   H200S2\n",
       " H$_2$0-0S(3) 9.7 $\\mu$m   H200S3\n",
       " H$_2$1-0S(1) 2.12 $\\mu$m  H210S1\n",
       " H$_2$6-5Q(1) 1.6 $\\mu$m   H264Q1\n",
       "        [O I] 145 $\\mu$m   OI_145\n",
       "         [O I] 63 $\\mu$m    OI_63\n",
       "       [S III] 35 $\\mu$m     SIII"
      ]
     },
     "execution_count": 8,
     "metadata": {},
     "output_type": "execute_result"
    }
   ],
   "source": [
    "t.supported_lines"
   ]
  },
  {
   "cell_type": "code",
   "execution_count": null,
   "metadata": {},
   "outputs": [],
   "source": [
    "t.supported_ratios"
   ]
  }
 ],
 "metadata": {
  "kernelspec": {
   "display_name": "Python 3",
   "language": "python",
   "name": "python3"
  },
  "language_info": {
   "codemirror_mode": {
    "name": "ipython",
    "version": 3
   },
   "file_extension": ".py",
   "mimetype": "text/x-python",
   "name": "python",
   "nbconvert_exporter": "python",
   "pygments_lexer": "ipython3",
   "version": "3.7.4"
  }
 },
 "nbformat": 4,
 "nbformat_minor": 2
}
