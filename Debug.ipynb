{
 "cells": [
  {
   "cell_type": "code",
   "execution_count": 2,
   "metadata": {},
   "outputs": [
    {
     "name": "stderr",
     "output_type": "stream",
     "text": [
      "/home/mpound/anaconda3/lib/python3.7/site-packages/astropy/table/column.py:1161: FutureWarning: elementwise comparison failed; returning scalar instead, but in the future will perform elementwise comparison\n",
      "  result = getattr(super(), op)(other)\n"
     ]
    }
   ],
   "source": [
    "from pdrtpy.modelset import ModelSet\n",
    "import numpy as np\n",
    "from astropy.table import Table\n",
    "import pdrtpy.pdrutils as utils\n",
    "from pdrtpy.plot.lineratioplot import LineRatioPlot\n",
    "from pdrtpy.tool.lineratiofit import LineRatioFit\n",
    "from pdrtpy.plot.modelplot import ModelPlot\n",
    "from pdrtpy.measurement import Measurement\n",
    "from pdrtpy.modelset import ModelSet\n",
    "from pdrtpy import version\n",
    "from astropy.nddata import StdDevUncertainty\n",
    "import astropy.units as u\n",
    "from labellines import labelLine, labelLines\n",
    "%matplotlib inline"
   ]
  },
  {
   "cell_type": "code",
   "execution_count": 9,
   "metadata": {},
   "outputs": [],
   "source": [
    "m = ModelSet(\"wk2006\",z=1)"
   ]
  },
  {
   "cell_type": "code",
   "execution_count": 10,
   "metadata": {},
   "outputs": [
    {
     "data": {
      "text/plain": [
       "'2.1.2b'"
      ]
     },
     "execution_count": 10,
     "metadata": {},
     "output_type": "execute_result"
    }
   ],
   "source": [
    "version()"
   ]
  },
  {
   "cell_type": "code",
   "execution_count": 6,
   "metadata": {},
   "outputs": [
    {
     "data": {
      "text/html": [
       "<i>Table length=9</i>\n",
       "<table id=\"table140590022416080-923656\" class=\"table-striped table-bordered table-condensed\">\n",
       "<thead><tr><th>idx</th><th>numerator</th><th>denominator</th><th>ratio</th><th>filename</th><th>z</th><th>title</th></tr></thead>\n",
       "<thead><tr><th></th><th></th><th></th><th></th><th></th><th></th><th>null</th></tr></thead>\n",
       "<tr><td>0</td><td>OI_63</td><td>CII_158</td><td>OI_63/CII_158</td><td>OI63_CII158sm</td><td>1.0</td><td>[O I] 63 $\\mu$m / [C II] 158 $\\mu$m</td></tr>\n",
       "<tr><td>1</td><td>OI_63+CII_158</td><td>FIR</td><td>OI_63+CII_158/FIR</td><td>OI63+CII158_FIRsm</td><td>1.0</td><td>([O I] 63 $\\mu$m + [C II] 158 $\\mu$m) / I$_{FIR}$</td></tr>\n",
       "<tr><td>2</td><td>CII_158</td><td>FIR</td><td>CII_158/FIR</td><td>CII158_FIRsm</td><td>1.0</td><td>[C II] 158 $\\mu$m / I$_{FIR}$</td></tr>\n",
       "<tr><td>3</td><td>CII_158</td><td>CO_21</td><td>CII_158/CO_21</td><td>CII158_CO21sm</td><td>1.0</td><td>[C II] 158 $\\mu$m / CO(J=2-1)</td></tr>\n",
       "<tr><td>4</td><td>CII_158</td><td>CO_32</td><td>CII_158/CO_32</td><td>CII158_CO32sm</td><td>1.0</td><td>[C II] 158 $\\mu$m / CO(J=3-2)</td></tr>\n",
       "<tr><td>5</td><td>CII_158</td><td>1</td><td>CII_158</td><td>CII158sm</td><td>1.0</td><td>[C II] 158 $\\mu$m</td></tr>\n",
       "<tr><td>6</td><td>OI_63</td><td>1</td><td>OI_63</td><td>OI63sm</td><td>1.0</td><td>[O I] 63 $\\mu$m</td></tr>\n",
       "<tr><td>7</td><td>CO_21</td><td>1</td><td>CO_21</td><td>CO21sm</td><td>1.0</td><td>CO(J=2-1)</td></tr>\n",
       "<tr><td>8</td><td>CO_32</td><td>1</td><td>CO_32</td><td>CO32sm</td><td>1.0</td><td>CO(J=3-2)</td></tr>\n",
       "</table><style>table.dataTable {clear: both; width: auto !important; margin: 0 !important;}\n",
       ".dataTables_info, .dataTables_length, .dataTables_filter, .dataTables_paginate{\n",
       "display: inline-block; margin-right: 1em; }\n",
       ".paginate_button { margin-right: 5px; }\n",
       "</style>\n",
       "<script>\n",
       "\n",
       "var astropy_sort_num = function(a, b) {\n",
       "    var a_num = parseFloat(a);\n",
       "    var b_num = parseFloat(b);\n",
       "\n",
       "    if (isNaN(a_num) && isNaN(b_num))\n",
       "        return ((a < b) ? -1 : ((a > b) ? 1 : 0));\n",
       "    else if (!isNaN(a_num) && !isNaN(b_num))\n",
       "        return ((a_num < b_num) ? -1 : ((a_num > b_num) ? 1 : 0));\n",
       "    else\n",
       "        return isNaN(a_num) ? -1 : 1;\n",
       "}\n",
       "\n",
       "require.config({paths: {\n",
       "    datatables: 'https://cdn.datatables.net/1.10.12/js/jquery.dataTables.min'\n",
       "}});\n",
       "require([\"datatables\"], function(){\n",
       "    console.log(\"$('#table140590022416080-923656').dataTable()\");\n",
       "    \n",
       "jQuery.extend( jQuery.fn.dataTableExt.oSort, {\n",
       "    \"optionalnum-asc\": astropy_sort_num,\n",
       "    \"optionalnum-desc\": function (a,b) { return -astropy_sort_num(a, b); }\n",
       "});\n",
       "\n",
       "    $('#table140590022416080-923656').dataTable({\n",
       "        order: [],\n",
       "        pageLength: 50,\n",
       "        lengthMenu: [[10, 25, 50, 100, 500, 1000, -1], [10, 25, 50, 100, 500, 1000, 'All']],\n",
       "        pagingType: \"full_numbers\",\n",
       "        columnDefs: [{targets: [0, 5], type: \"optionalnum\"}]\n",
       "    });\n",
       "});\n",
       "</script>\n"
      ],
      "text/plain": [
       "<IPython.core.display.HTML object>"
      ]
     },
     "execution_count": 6,
     "metadata": {},
     "output_type": "execute_result"
    }
   ],
   "source": [
    "m.table.show_in_notebook()"
   ]
  },
  {
   "cell_type": "code",
   "execution_count": 11,
   "metadata": {},
   "outputs": [
    {
     "data": {
      "text/plain": [
       "True"
      ]
     },
     "execution_count": 11,
     "metadata": {},
     "output_type": "execute_result"
    }
   ],
   "source": [
    "mp = ModelPlot(m)\n",
    "'H264Q11/H210S1' in m.table['ratio']"
   ]
  },
  {
   "cell_type": "code",
   "execution_count": 21,
   "metadata": {},
   "outputs": [
    {
     "name": "stdout",
     "output_type": "stream",
     "text": [
      "caught exception properly: m most contain at least two strings\n"
     ]
    },
    {
     "data": {
      "text/plain": [
       "NoneType"
      ]
     },
     "execution_count": 21,
     "metadata": {},
     "output_type": "execute_result"
    }
   ],
   "source": [
    "try:\n",
    "    m.model_ratios([\"CII_158\"])\n",
    "except Exception as e:\n",
    "    print(\"caught exception properly:\",e)\n",
    "\n",
    "mz = m.get_model('CII_158/CI_609')\n",
    "mz.data.max()\n",
    "type(mz.uncertainty)"
   ]
  },
  {
   "cell_type": "code",
   "execution_count": null,
   "metadata": {},
   "outputs": [],
   "source": [
    "print(mp._get_xy_from_wcs(mz,quantity=True))\n",
    "print(mz.wcs.world_to_array_index(2.2*u.Unit('1/cm3'),0*u.dimensionless_unscaled))\n",
    "print(mz.wcs.wcs_pix2world(np.array([[2.5,4.5]]),0)[0])\n",
    "print(mz.wcs.wcs_world2pix(np.array([[1.,0.625]]),0)[0])\n",
    "mz.header['cunit2']"
   ]
  },
  {
   "cell_type": "code",
   "execution_count": null,
   "metadata": {},
   "outputs": [],
   "source": [
    "try:\n",
    "    m.get_models(['CII_158'],model_type='foo')\n",
    "except ValueError as e:\n",
    "    print(\"caught exception properly \",e)\n",
    "x=m.get_models([\"CI_609\",\"FIR\"],model_type=\"ratio\")\n",
    "y=m.get_models([\"CI_609\",\"FIR\"],model_type=\"intensity\")\n",
    "z=m.get_models([\"CI_609\",\"FIR\"],model_type=\"both\")\n",
    "q=m.get_models(['CII_158'],model_type='intensity')format"
   ]
  },
  {
   "cell_type": "code",
   "execution_count": 14,
   "metadata": {},
   "outputs": [
    {
     "name": "stdout",
     "output_type": "stream",
     "text": [
      "dict: {'CI_609': 1.5e-06 +/- 5e-07 erg / (cm2 s sr), 'CII_158/CI_609': 2 +/- 1 erg / (cm2 s sr), 'CII_158': 3e-06 +/- 5e-07 erg / (cm2 s sr)}\n",
      "<class 'pdrtpy.measurement.Measurement'>\n"
     ]
    },
    {
     "data": {
      "text/plain": [
       "1"
      ]
     },
     "execution_count": 14,
     "metadata": {},
     "output_type": "execute_result"
    },
    {
     "data": {
      "image/png": "[encoded data removed]",
      "text/plain": [
       "<Figure size 360x360 with 1 Axes>"
      ]
     },
     "metadata": {
      "needs_background": "light"
     },
     "output_type": "display_data"
    }
   ],
   "source": [
    "myunit = \"erg s-1 cm-2 sr-1\"\n",
    "mx=Measurement(data=[1.5E-6],uncertainty = StdDevUncertainty(0.5E-6),identifier=\"CI_609\",unit=myunit)\n",
    "my=Measurement(data=[2],uncertainty = StdDevUncertainty(1),identifier=\"CII_158/CI_609\",unit=myunit)\n",
    "mz=Measurement(data=[3E-6],uncertainty = StdDevUncertainty(0.5E-6),identifier=\"CII_158\",unit=myunit)\n",
    "a=[mx,my,mz]\n",
    "ids = [m.id for m in a]\n",
    "d = dict(zip(ids,a))\n",
    "print(\"dict:\",d)\n",
    "print(type(d[\"CI_609\"]))\n",
    "#d[\"CI_609\"].levels\n",
    "mp.overlay(a,shading=.71)\n",
    "len(mx.data)\n",
    "#q[1].id"
   ]
  },
  {
   "cell_type": "code",
   "execution_count": 17,
   "metadata": {},
   "outputs": [
    {
     "data": {
      "text/plain": [
       "{'_identifier': 'CII_158',\n",
       " '_title': None,\n",
       " '_restfreq': None,\n",
       " '_filename': None,\n",
       " '_defunit': 'adu',\n",
       " '_data': array([3.e-06]),\n",
       " '_mask': False,\n",
       " '_wcs': None,\n",
       " '_meta': OrderedDict([('BUNIT', 'erg s-1 cm-2 sr-1'),\n",
       "              ('BMAJ', None),\n",
       "              ('BMIN', None),\n",
       "              ('BPA', None)]),\n",
       " '_unit': Unit(\"erg / (cm2 s sr)\"),\n",
       " '_uncertainty': StdDevUncertainty([5.e-07]),\n",
       " '_flags': None}"
      ]
     },
     "execution_count": 17,
     "metadata": {},
     "output_type": "execute_result"
    }
   ],
   "source": [
    "mz.__dict__"
   ]
  },
  {
   "cell_type": "code",
   "execution_count": null,
   "metadata": {},
   "outputs": [],
   "source": [
    "mp.plot(\"CI_609\",image=True)#measurements=[mx],image=False,legend=True,contours=True,label=True)"
   ]
  },
  {
   "cell_type": "code",
   "execution_count": null,
   "metadata": {},
   "outputs": [],
   "source": [
    "foo = np.array([1,2,3,4,5])*u.Unit(\"cm-3\")\n",
    "j = 10*np.ones(len(foo))\n",
    "print(j)\n",
    "z=np.power(j,foo.value)\n",
    "foo = z*foo.unit\n",
    "foo"
   ]
  },
  {
   "cell_type": "code",
   "execution_count": null,
   "metadata": {},
   "outputs": [],
   "source": [
    "mp.plot(\"CI_609/FIR\",image=True,measurements=[mx],legend=True,label=True)"
   ]
  },
  {
   "cell_type": "code",
   "execution_count": null,
   "metadata": {},
   "outputs": [],
   "source": [
    "#mp.plot(\"CI_609/FIR\",image=True,measurements=[mx,my],legend=True,yaxis_unit=u.erg/(u.second*u.cm*u.cm),label=False)"
   ]
  },
  {
   "cell_type": "code",
   "execution_count": null,
   "metadata": {},
   "outputs": [],
   "source": [
    "l = LineRatioFit(m,[mx])"
   ]
  },
  {
   "cell_type": "code",
   "execution_count": null,
   "metadata": {},
   "outputs": [],
   "source": [
    "p = LineRatioPlot(l)"
   ]
  },
  {
   "cell_type": "code",
   "execution_count": null,
   "metadata": {},
   "outputs": [],
   "source": [
    "l.modelset.supported_ratios.show_in_notebook()"
   ]
  },
  {
   "cell_type": "code",
   "execution_count": null,
   "metadata": {},
   "outputs": [],
   "source": [
    "p.modelintensity(\"CI_609\",measurements=[mx],legend=True,xaxis_unit=\"m-3\",contours=True,label=True)"
   ]
  },
  {
   "cell_type": "code",
   "execution_count": null,
   "metadata": {},
   "outputs": [],
   "source": [
    "identifiers1 = [\"OI_63+CII_158/FIR\",\"OI_63/CII_158\"]\n",
    "identifiers2 = [\"CO_21\",\"OI_63\"]\n",
    "identifiers3 = [\"CO_65\",\"CI_609/CO_43\"]"
   ]
  },
  {
   "cell_type": "code",
   "execution_count": null,
   "metadata": {},
   "outputs": [],
   "source": [
    "mp.phaseplot(identifiers2,reciprocal=[False,False],dens_clip=[100,1E6]*u.Unit(\"cm-3\"),rad_clip=[1,1E4]*utils._RFS_UNIT_)\n",
    "mp.savefig(\"OI_CO21.png\",bbox_inches='tight',facecolor='white')"
   ]
  },
  {
   "cell_type": "code",
   "execution_count": null,
   "metadata": {},
   "outputs": [],
   "source": [
    "mp.phaseplot(identifiers1,reciprocal=[False,True],dens_clip=[100,1E6]*u.Unit(\"cm-3\"),rad_clip=[10,1E6]*utils.habing_unit,)\n",
    "mp.savefig(\"CII_OI_FIR.png\",bbox_inches='tight',transparent=False,facecolor='white')"
   ]
  },
  {
   "cell_type": "code",
   "execution_count": null,
   "metadata": {},
   "outputs": [],
   "source": [
    "mp.phaseplot(identifiers3,reciprocal=[False,False],dens_clip=[100,1E6]*u.Unit(\"cm-3\"),rad_clip=[10,1E6]*utils.draine_unit)\n",
    "mp.savefig(\"CI_CO.png\",bbox_inches='tight',transparent=False,facecolor='white')"
   ]
  },
  {
   "cell_type": "code",
   "execution_count": null,
   "metadata": {},
   "outputs": [],
   "source": [
    "models = [m.get_model(i) for i in identifiers]"
   ]
  },
  {
   "cell_type": "code",
   "execution_count": null,
   "metadata": {},
   "outputs": [],
   "source": [
    "models[0].header[\"CUNIT2\"]\n"
   ]
  },
  {
   "cell_type": "code",
   "execution_count": null,
   "metadata": {},
   "outputs": [],
   "source": [
    "models[0].header.update(models[0].wcs.to_header())"
   ]
  },
  {
   "cell_type": "code",
   "execution_count": null,
   "metadata": {},
   "outputs": [],
   "source": [
    "x,y=mp._get_xy_from_wcs(models[0],quantity=True)\n",
    "print(x)\n",
    "print(y)\n",
    "#y._unit = utils.habing_unit"
   ]
  },
  {
   "cell_type": "code",
   "execution_count": null,
   "metadata": {},
   "outputs": [],
   "source": [
    "#for i in np.arange(1,8):\n",
    "#    print(i,np.squeeze(np.where(y==i)))\n",
    "xi = [np.where(x==i)[0][0] for i in np.arange(1,8)]\n",
    "yi = [np.where(y==i)[0][0] for i in np.arange(1,7)]\n",
    "\n",
    "clip_low=yi[0]# clip below g=10\n",
    "clip_high=yi[-1]+1 #clip above g=10^6\n",
    "print(xi,yi,clip_low,clip_high)"
   ]
  },
  {
   "cell_type": "code",
   "execution_count": null,
   "metadata": {},
   "outputs": [],
   "source": [
    "print(models[1].id,models[0].id)\n",
    "models[1][4,6:]"
   ]
  },
  {
   "cell_type": "code",
   "execution_count": null,
   "metadata": {},
   "outputs": [],
   "source": [
    "dens_clip=np.array([10,1E3])*u.Unit(\"cm-3\")\n",
    "rad_clip=[1,1.1E4]*utils._RFS_UNIT_\n",
    "rad_clip=[10,1E4]*utils.habing_unit\n",
    "reciprocal=[False,True]\n",
    "from cycler import cycler\n",
    "mp._plt.rc('axes', prop_cycle=(cycler('color',  mp._CB_color_cycle)))\n",
    "\n",
    "\n",
    "xlog,ylog=mp._get_xy_from_wcs(models[0],quantity=True,linear=False)\n",
    "xlin,ylin=mp._get_xy_from_wcs(models[0],quantity=True,linear=True)\n",
    "#print(\"X,Y \",np.round(xlog,1),np.round(ylog,1))\n",
    "#print(\"YHAB\",y.to(\"Habing\"))\n",
    "dcc=dens_clip.to(xlog.unit)\n",
    "rcc=rad_clip.to(ylog.unit)\n",
    "#dc=[np.log10(dcc[0].value),np.log10(dcc[1].value)]*x.unit\n",
    "#rc = [np.log10(rcc[0].value),np.log10(rcc[1].value)]*y.unit\n",
    "#print(\"DC RC\",dc,rc)\n",
    "xi=np.where((xlin>=dcc[0]) & (xlin<=dcc[1]))[0]\n",
    "yi=np.where((ylin>=rcc[0]) & (ylin<=rcc[1]))[0]\n",
    "#print(\"XI,YI\", xi,yi)\n",
    "# can only get integer log steps in the original model units\n",
    "# will have to label them with requested units at the end.\n",
    "x2= np.hstack([np.where((np.round(xlog.value,1))==i)[0] for i in np.arange(-5,12)])\n",
    "# for 2020 models Y is not an integral value in erg s-1 cm-2\n",
    "y2 = np.hstack([np.where((np.round(ylog.value,1))==i)[0] for i in np.arange(-5,12)])\n",
    "#print(\"xi,yi,x2,y2\",xi,yi,x2,y2)\n",
    "xi2=np.intersect1d(xi,x2)\n",
    "yi2=np.intersect1d(yi,y2)\n",
    "#print(\"XI2,YI2\",xi2.flatten(),yi2.flatten())\n",
    "\n",
    "linesN=[]\n",
    "linesG=[]\n",
    "for j in xi2:\n",
    "    label=np.round(np.log10(xlin[j].to(dens_clip.unit).value),1)\n",
    "    if reciprocal[0]:\n",
    "        xx=1/models[1][yi2[0]:yi2[-1]+1,j]\n",
    "    else:\n",
    "        xx=models[1][yi2[0]:yi2[-1]+1,j]\n",
    "        mp._plt.xlabel(models[1].title)\n",
    "    if reciprocal[1]:\n",
    "        yy=1/models[0][yi2[0]:yi2[-1]+1,j]\n",
    "    else:\n",
    "        yy=models[0][yi2[0]:yi2[-1]+1,j]\n",
    "        mp._plt.ylabel(models[0].title)\n",
    "    linesN.extend(mp._plt.loglog(xx,yy,label=label,lw=2))#,color='k'))\n",
    "\n",
    "for j in yi2:\n",
    "    label=np.round(np.log10(ylin[j].to(rad_clip.unit).value),1)\n",
    "    if reciprocal[0]:\n",
    "        xx=1/models[1][j,xi2[0]:xi2[-1]+1]\n",
    "    else:\n",
    "        xx=models[1][j,xi2[0]:xi2[-1]+1]\n",
    "    if reciprocal[1]:\n",
    "        yy=1/models[0][j,xi2[0]:xi2[-1]+1]\n",
    "    else:\n",
    "        yy=models[0][j,xi2[0]:xi2[-1]+1]\n",
    "    linesG.extend(mp._plt.loglog(xx,yy,label=label,lw=2,ls='--'))\n",
    "title1 = \"log(n)\"\n",
    "unit1=\"[\"+dens_clip.unit.to_string(\"latex_inline\")+\"]\" \n",
    "rs = rad_clip.unit.to_string()\n",
    "rsl = rad_clip.unit.to_string(\"latex_inline\")\n",
    "title2 = \"log(\"+utils.get_rad(rs)+\")\"\n",
    "unit2=\"[\"+rsl+\"]\"\n",
    "handles,labels=mp._plt.gca().get_legend_handles_labels()\n",
    "phantom =  [mp._plt.plot([],marker=\"\", markersize=0,ls=\"\",lw=0)[0]]*2\n",
    "#print(\"LENGTHS h %d g %d n %d\"%(len(handles),len(linesG),len(linesN)))\n",
    "lN = len(linesN)\n",
    "lG = len(linesG)\n",
    "diff = lN-lG\n",
    "adiff=abs(diff)\n",
    "\n",
    "phantom2 =[mp._plt.plot([],marker=\"\", markersize=0,ls=\"\",lw=0)[0]]*adiff\n",
    "blank = ['']*adiff\n",
    "\n",
    "if diff == 0:\n",
    "    labels.insert(lN,unit2)\n",
    "    labels.insert(lN,title2)\n",
    "    labels = [title1,unit1]+labels\n",
    "    linesN = phantom + linesN\n",
    "    linesG = phantom + linesG\n",
    "elif diff > 0:\n",
    "    labels.insert(lN,unit2)\n",
    "    labels.insert(lN,title2)\n",
    "    labels = [title1,unit1]+labels\n",
    "    linesN = phantom + linesN\n",
    "    linesG = phantom + linesG\n",
    "    labels = labels + blank\n",
    "    linesG = linesG+phantom2\n",
    "elif diff < 0:\n",
    "    labels = labels[0:lN]+blank+labels[lN:]\n",
    "    labels.insert(lN+adiff,unit2)\n",
    "    labels.insert(lN+adiff,title2)\n",
    "    labels = [title1,unit1]+labels\n",
    "    linesN = phantom + linesN + phantom2\n",
    "    linesG = phantom + linesG\n",
    "handles = linesN+linesG\n",
    "for kk in range(len(handles)):\n",
    "    print(handles[kk],labels[kk])\n",
    "\n",
    "#print(len(handles),len(labels))\n",
    "leg=mp._plt.legend(handles,labels,ncol=2,markerfirst=True,bbox_to_anchor=(1.024,1))\n",
    "leg._legend_box.align = \"left\"\n",
    "for vpack in leg._legend_handle_box.get_children():\n",
    "    for hpack in vpack.get_children()[:2]:\n",
    "        #print(\"C\",hpack.get_children()[1].get_text())\n",
    "        hpack.get_children()[0].set_width(0)\n",
    "        #hpack.get_children()[1].set_offset((-3000000,10000))\n",
    "ii = models[1].title.index('/')\n",
    "print(models[1].title[ii+1:]+'/'+models[1].title[0:ii])"
   ]
  },
  {
   "cell_type": "code",
   "execution_count": null,
   "metadata": {},
   "outputs": [],
   "source": [
    "zz=[1,2,3,4]\n",
    "lll=int(np.size(zz)/2)\n",
    "print(lll)\n",
    "zz.insert(lll,'a')\n",
    "zz[-1]"
   ]
  },
  {
   "cell_type": "code",
   "execution_count": null,
   "metadata": {},
   "outputs": [],
   "source": [
    "mp._plt.imshow(models[1],origin='lower',cmap='plasma')"
   ]
  },
  {
   "cell_type": "code",
   "execution_count": null,
   "metadata": {},
   "outputs": [],
   "source": [
    "print(models[1][26,6:22])\n",
    "print(models[1][26,:])\n",
    "print(np.flip(models[1][26,:])[6:22])"
   ]
  },
  {
   "cell_type": "code",
   "execution_count": null,
   "metadata": {},
   "outputs": [],
   "source": [
    "#for i in np.arange(1,8):\n",
    "#    print(i,np.squeeze(np.where(y==i)))\n",
    "x,y=mp._get_xy_from_wcs(models[0],quantity=False,linear=False)\n",
    "xi = [np.where(x==i)[0][0] for i in np.arange(1,8)]\n",
    "yi = [np.where(y==i)[0][0] for i in np.arange(1,4)]\n",
    "\n",
    "clip_low=yi[0]# clip below g=10\n",
    "clip_high=yi[-1]+1 #clip above g=10^6\n",
    "print(xi,yi,clip_low,clip_high)\n",
    "xmin=models[1].data.min()\n",
    "xmax=models[1].data.max()\n",
    "ymin=models[0].data.min()\n",
    "ymax=models[0].data.max()\n",
    "print(xmin,xmax)\n",
    "print(ymin,ymax)\n",
    "\n",
    "fig,axes=mp._plt.subplots(ncols=2,nrows=1,figsize=(15,15))\n",
    "print(type(axes[0]))\n",
    "\n",
    "for a in axes:\n",
    "\n",
    "    l=a.loglog(models[1][clip_low:clip_high,0],1/models[0][clip_low:clip_high,0],label='$n=10^1$',marker='+',lw=2)#,color='k')\n",
    "    a.loglog(models[1][clip_low:clip_high,4],1/models[0][clip_low:clip_high,4],label='$n=10^2$',marker='+',lw=2)#,color='orange')\n",
    "    a.loglog(models[1][clip_low:clip_high,8],1/models[0][clip_low:clip_high,8],label='$n=10^3$',marker='+',lw=2)#color='k')\n",
    "    a.loglog(models[1][clip_low:clip_high,12],1/models[0][clip_low:clip_high,12],label='$n=10^4$',marker='+',lw=2)#,color='k')\n",
    "    a.loglog(models[1][clip_low:clip_high,16],1/models[0][clip_low:clip_high,16],label='$n=10^5$',marker='+',lw=2)#,color='k')\n",
    "    a.loglog(models[1][clip_low:clip_high,20],1/models[0][clip_low:clip_high,20],label='$n=10^6$',marker='+',lw=2)#,color='k')\n",
    "    clip_low = clip_low-2\n",
    "    a.loglog(np.flip(models[1][6])[clip_low:clip_high],np.flip(1/models[0][6])[clip_low:clip_high],label='$g=10^1$',ls=':',lw=2)#,color='orange')\n",
    "    a.loglog(np.flip(models[1][10])[clip_low:clip_high],np.flip(1/models[0][10])[clip_low:clip_high],label='$g=10^2$',ls=':',lw=2)#color='k')\n",
    "    a.loglog(np.flip(models[1][14])[clip_low:clip_high],np.flip(1/models[0][14])[clip_low:clip_high],label='$g=10^3$',ls=':',lw=2)#,color='k')\n",
    "    a.loglog(np.flip(models[1][18])[clip_low:clip_high],np.flip(1/models[0][18])[clip_low:clip_high],label='$g=10^4$',ls=':',lw=2)#,color='k')\n",
    "    a.loglog(np.flip(models[1][22])[clip_low:clip_high],np.flip(1/models[0][22])[clip_low:clip_high],label='$g=10^5$',ls=':',lw=2)#,color='k')\n",
    "    a.loglog(np.flip(models[1][26])[clip_low:clip_high],np.flip(1/models[0][26])[clip_low:clip_high],label='$g=10^6$',ls=':',lw=2)#,color='k')\n",
    "    a.set_xlim(5E-7,0.1)\n",
    "    a.set_ylim(5e-3,15)\n",
    "    a.set_aspect('equal')\n",
    "    if False:\n",
    "        a.legend(loc='best')\n",
    "    else:\n",
    "        print(a.get_lines())\n",
    "        labelLines(a.get_lines()[0:4],zorder=2.5,align=False)\n",
    "        labelLines(a.get_lines()[10:11],zorder=2.5,align=False)\n",
    "  \n",
    "    a.set_xlabel('OI+CII/FIR')\n",
    "    a.set_ylabel('OI/CII')\n",
    "#mp._plt.savefig(\"test.png\",transparent=False)"
   ]
  },
  {
   "cell_type": "code",
   "execution_count": null,
   "metadata": {},
   "outputs": [],
   "source": [
    "foo = 'x+yz'\n",
    "ii = foo.index('/')\n",
    "print(ii)"
   ]
  }
 ],
 "metadata": {
  "kernelspec": {
   "display_name": "Python 3",
   "language": "python",
   "name": "python3"
  },
  "language_info": {
   "codemirror_mode": {
    "name": "ipython",
    "version": 3
   },
   "file_extension": ".py",
   "mimetype": "text/x-python",
   "name": "python",
   "nbconvert_exporter": "python",
   "pygments_lexer": "ipython3",
   "version": "3.7.10"
  }
 },
 "nbformat": 4,
 "nbformat_minor": 4
}
