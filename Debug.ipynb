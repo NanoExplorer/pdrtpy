{
 "cells": [
  {
   "cell_type": "code",
   "execution_count": 1,
   "metadata": {},
   "outputs": [
    {
     "name": "stderr",
     "output_type": "stream",
     "text": [
      "/home/mpound/anaconda3/lib/python3.7/site-packages/astropy/table/column.py:1020: FutureWarning: elementwise comparison failed; returning scalar instead, but in the future will perform elementwise comparison\n",
      "  result = getattr(super(), op)(other)\n"
     ]
    }
   ],
   "source": [
    "from pdrtpy.modelset import ModelSet\n",
    "import numpy as np\n",
    "from astropy.table import Table\n",
    "import pdrtpy.pdrutils as utils"
   ]
  },
  {
   "cell_type": "code",
   "execution_count": 2,
   "metadata": {},
   "outputs": [],
   "source": [
    "m = ModelSet(name=\"wk2006\",z=1)"
   ]
  },
  {
   "cell_type": "code",
   "execution_count": 3,
   "metadata": {},
   "outputs": [
    {
     "data": {
      "text/html": [
       "<i>Table length=66</i>\n",
       "<table id=\"table140234366109968-563797\" class=\"table-striped table-bordered table-condensed\">\n",
       "<thead><tr><th>idx</th><th>numerator</th><th>denominator</th><th>ratio</th><th>filename</th><th>z</th><th>title</th></tr></thead>\n",
       "<thead><tr><th></th><th></th><th></th><th></th><th></th><th></th><th>null</th></tr></thead>\n",
       "<tr><td>0</td><td>OI_145</td><td>OI_63</td><td>OI_145/OI_63</td><td>oioiweb</td><td>1.0</td><td>[O I] 145 $\\mu$m / [O I] 63 $\\mu$m</td></tr>\n",
       "<tr><td>1</td><td>OI_145</td><td>CII_158</td><td>OI_145/CII_158</td><td>o145ciiweb</td><td>1.0</td><td>[O I] 145 $\\mu$m / [C II] 158 $\\mu$m</td></tr>\n",
       "<tr><td>2</td><td>OI_63</td><td>CII_158</td><td>OI_63/CII_158</td><td>oicpweb</td><td>1.0</td><td>[O I] 63 $\\mu$m / [C II] 158 $\\mu$m</td></tr>\n",
       "<tr><td>3</td><td>CII_158</td><td>CI_609</td><td>CII_158/CI_609</td><td>ciici609web</td><td>1.0</td><td>[C II] 158 $\\mu$m / [C I] 609 $\\mu$m</td></tr>\n",
       "<tr><td>4</td><td>CI_370</td><td>CI_609</td><td>CI_370/CI_609</td><td>ciciweb</td><td>1.0</td><td>[C I] 370 $\\mu$m / [C I] 609 $\\mu$m</td></tr>\n",
       "<tr><td>5</td><td>CII_158</td><td>CO_10</td><td>CII_158/CO_10</td><td>ciicoweb</td><td>1.0</td><td>[C II] 158 $\\mu$m / CO(J=1-0)</td></tr>\n",
       "<tr><td>6</td><td>CI_609</td><td>CO_10</td><td>CI_609/CO_10</td><td>cicoweb</td><td>1.0</td><td>[C I] 609 $\\mu$m / CO(J=1-0)</td></tr>\n",
       "<tr><td>7</td><td>CI_609</td><td>CO_21</td><td>CI_609/CO_21</td><td>cico21web</td><td>1.0</td><td>[C I] 609 $\\mu$m / CO(J=2-1)</td></tr>\n",
       "<tr><td>8</td><td>CI_609</td><td>CO_32</td><td>CI_609/CO_32</td><td>cico32web</td><td>1.0</td><td>[C I] 609 $\\mu$m / CO(J=3-2)</td></tr>\n",
       "<tr><td>9</td><td>CI_609</td><td>CO_43</td><td>CI_609/CO_43</td><td>cico43web</td><td>1.0</td><td>[C I] 609 $\\mu$m / CO(J=4-3)</td></tr>\n",
       "<tr><td>10</td><td>CI_609</td><td>CO_54</td><td>CI_609/CO_54</td><td>cico54web</td><td>1.0</td><td>[C I] 609 $\\mu$m / CO(J=5-4)</td></tr>\n",
       "<tr><td>11</td><td>CI_609</td><td>CO_65</td><td>CI_609/CO_65</td><td>cico65web</td><td>1.0</td><td>[C I] 609 $\\mu$m / CO(J=6-5)</td></tr>\n",
       "<tr><td>12</td><td>CO_21</td><td>CO_10</td><td>CO_21/CO_10</td><td>co2110web</td><td>1.0</td><td>CO(J=2-1) / CO(J=1-0)</td></tr>\n",
       "<tr><td>13</td><td>CO_32</td><td>CO_10</td><td>CO_32/CO_10</td><td>co3210web</td><td>1.0</td><td>CO(J=3-2) / CO(J=1-0)</td></tr>\n",
       "<tr><td>14</td><td>CO_32</td><td>CO_21</td><td>CO_32/CO_21</td><td>co3221web</td><td>1.0</td><td>CO(J=3-2) / CO(J=2-1)</td></tr>\n",
       "<tr><td>15</td><td>CO_43</td><td>CO_21</td><td>CO_43/CO_21</td><td>co4321web</td><td>1.0</td><td>CO(J=4-3) / CO(J=2-1)</td></tr>\n",
       "<tr><td>16</td><td>CO_65</td><td>CO_10</td><td>CO_65/CO_10</td><td>co6510web</td><td>1.0</td><td>CO(J=6-5) / CO(J=1-0)</td></tr>\n",
       "<tr><td>17</td><td>CO_65</td><td>CO_21</td><td>CO_65/CO_21</td><td>co6521web</td><td>1.0</td><td>CO(J=6-5) / CO(J=2-1)</td></tr>\n",
       "<tr><td>18</td><td>CO_65</td><td>CO_54</td><td>CO_65/CO_54</td><td>co6554web</td><td>1.0</td><td>CO(J=6-5) / CO(J=5-4)</td></tr>\n",
       "<tr><td>19</td><td>CO_76</td><td>CO_10</td><td>CO_76/CO_10</td><td>co7610web</td><td>1.0</td><td>CO(J=7-6) / CO(J=1-0)</td></tr>\n",
       "<tr><td>20</td><td>CO_76</td><td>CO_21</td><td>CO_76/CO_21</td><td>co7621web</td><td>1.0</td><td>CO(J=7-6) / CO(J=2-1)</td></tr>\n",
       "<tr><td>21</td><td>CO_76</td><td>CO_43</td><td>CO_76/CO_43</td><td>co7643web</td><td>1.0</td><td>CO(J=7-6) / CO(J=4-3)</td></tr>\n",
       "<tr><td>22</td><td>CO_76</td><td>CO_54</td><td>CO_76/CO_54</td><td>co7654web</td><td>1.0</td><td>CO(J=7-6) / CO(J=5-4)</td></tr>\n",
       "<tr><td>23</td><td>CO_76</td><td>CO_65</td><td>CO_76/CO_65</td><td>co7665web</td><td>1.0</td><td>CO(J=7-6) / CO(J=6-5)</td></tr>\n",
       "<tr><td>24</td><td>CO_87</td><td>CO_54</td><td>CO_87/CO_54</td><td>co8754web</td><td>1.0</td><td>CO(J=8-7) / CO(J=5-4)</td></tr>\n",
       "<tr><td>25</td><td>CO_87</td><td>CO_65</td><td>CO_87/CO_65</td><td>co8765web</td><td>1.0</td><td>CO(J=8-7) / CO(J=6-5)</td></tr>\n",
       "<tr><td>26</td><td>CO_98</td><td>CO_54</td><td>CO_98/CO_54</td><td>co9854web</td><td>1.0</td><td>CO(J=9-8) / CO(J=5-4)</td></tr>\n",
       "<tr><td>27</td><td>CO_98</td><td>CO_65</td><td>CO_98/CO_65</td><td>co9865web</td><td>1.0</td><td>CO(J=9-8) / CO(J=6-5)</td></tr>\n",
       "<tr><td>28</td><td>CO_109</td><td>CO_54</td><td>CO_109/CO_54</td><td>co10954web</td><td>1.0</td><td>CO(J=10-9) / CO(J=5-4)</td></tr>\n",
       "<tr><td>29</td><td>CO_109</td><td>CO_65</td><td>CO_109/CO_65</td><td>co10965web</td><td>1.0</td><td>CO(J=10-9) / CO(J=6-5)</td></tr>\n",
       "<tr><td>30</td><td>CO_109</td><td>CO_76</td><td>CO_109/CO_76</td><td>co10976web</td><td>1.0</td><td>CO(J=10-9) / CO(J=7-6)</td></tr>\n",
       "<tr><td>31</td><td>CO_1110</td><td>CO_54</td><td>CO_1110/CO_54</td><td>co111054web</td><td>1.0</td><td>CO(J=11-10) / CO(J=5-4)</td></tr>\n",
       "<tr><td>32</td><td>CO_1110</td><td>CO_65</td><td>CO_1110/CO_65</td><td>co111065web</td><td>1.0</td><td>CO(J=11-10) / CO(J=6-5)</td></tr>\n",
       "<tr><td>33</td><td>CO_1211</td><td>CO_54</td><td>CO_1211/CO_54</td><td>co121154web</td><td>1.0</td><td>CO(J=12-11) / CO(J=5-4)</td></tr>\n",
       "<tr><td>34</td><td>CO_1211</td><td>CO_65</td><td>CO_1211/CO_65</td><td>co121165web</td><td>1.0</td><td>CO(J=12-11) / CO(J=6-5)</td></tr>\n",
       "<tr><td>35</td><td>CO_1312</td><td>CO_54</td><td>CO_1312/CO_54</td><td>co131254web</td><td>1.0</td><td>CO(J=13-12) / CO(J=5-4)</td></tr>\n",
       "<tr><td>36</td><td>CO_1312</td><td>CO_65</td><td>CO_1312/CO_65</td><td>co131265web</td><td>1.0</td><td>CO(J=13-12) / CO(J=6-5)</td></tr>\n",
       "<tr><td>37</td><td>CO_1413</td><td>CO_54</td><td>CO_1413/CO_54</td><td>co141354web</td><td>1.0</td><td>CO(J=14-13) / CO(J=5-4)</td></tr>\n",
       "<tr><td>38</td><td>CO_1413</td><td>CO_65</td><td>CO_1413/CO_65</td><td>co141365web</td><td>1.0</td><td>CO(J=14-13) / CO(J=6-5)</td></tr>\n",
       "<tr><td>39</td><td>CI_609</td><td>FIR</td><td>CI_609/FIR</td><td>ci609firweb</td><td>1.0</td><td>[C I] 609 $\\mu$m / I$_{FIR}$</td></tr>\n",
       "<tr><td>40</td><td>OI_63+CII_158</td><td>FIR</td><td>OI_63+CII_158/FIR</td><td>firweb</td><td>1.0</td><td>([O I] 63 $\\mu$m + [C II] 158 $\\mu$m) / I$_{FIR}$</td></tr>\n",
       "<tr><td>41</td><td>OI_145+CII_158</td><td>FIR</td><td>OI_145+CII_158/FIR</td><td>firoi145web</td><td>1.0</td><td>([O I] 145 $\\mu$m + [C II] 158 $\\mu$m) / I$_{FIR}$</td></tr>\n",
       "<tr><td>42</td><td>SIII_35</td><td>FEII_26</td><td>SIII_35/FEII_26</td><td>siii35feii26z1web</td><td>1.0</td><td>[S III] 35 $\\mu$m / [Fe II] 26 $\\mu$m</td></tr>\n",
       "<tr><td>43</td><td>H200S1</td><td>H200S0</td><td>H200S1/H200S0</td><td>h200s1s0z1web</td><td>1.0</td><td>H$_2$0-0S(1) 17 $\\mu$m / H$_2$0-0S(0) 28.2$ \\mu$m</td></tr>\n",
       "<tr><td>44</td><td>H200S2</td><td>H200S0</td><td>H200S2/H200S0</td><td>h200s2s0z1web</td><td>1.0</td><td>H$_2$0-0S(2) 12.3 $\\mu$m / H$_2$0-0S(0) 28.2$ \\mu$m</td></tr>\n",
       "<tr><td>45</td><td>H200S2</td><td>H200S1</td><td>H200S2/H200S1</td><td>h200s2s1z1web</td><td>1.0</td><td>H$_2$0-0S(2) 12.3 $\\mu$m / H$_2$0-0S(1) 17$ \\mu$m</td></tr>\n",
       "<tr><td>46</td><td>H200S3</td><td>H200S1</td><td>H200S3/H200S1</td><td>h200s3s1z1web</td><td>1.0</td><td>H$_2$0-0S(3) 9.7 $\\mu$m / H$_2$0-0S(1) 17$ \\mu$m</td></tr>\n",
       "<tr><td>47</td><td>H200S1</td><td>SIII_35</td><td>H200S1/SIII_35</td><td>h200s1siiiz1web</td><td>1.0</td><td>H$_2$0-0S(1) 17 $\\mu$m / [S III] 35 $\\mu$m</td></tr>\n",
       "<tr><td>48</td><td>H200S2</td><td>SIII_35</td><td>H200S2/SIII_35</td><td>h200s2siiiz1web</td><td>1.0</td><td>H$_2$0-0S(2) 12.3 $\\mu$m / [S III] 35 $\\mu$m</td></tr>\n",
       "<tr><td>49</td><td>H264Q1</td><td>H210S1</td><td>H264Q11/H210S1</td><td>h264q110s1z1web</td><td>1.0</td><td>H$_2$6-5Q(1) 1.6 $\\mu$m / H$_2$1-0S(1) 2.12 $\\mu$m</td></tr>\n",
       "<tr><td>50</td><td>CI_609</td><td>1</td><td>CI_609</td><td>ciweb</td><td>1.0</td><td>[C I] 609 $\\mu$m</td></tr>\n",
       "<tr><td>51</td><td>CII_158</td><td>1</td><td>CII_158</td><td>cpweb</td><td>1.0</td><td>[C II] 158 $\\mu$m</td></tr>\n",
       "<tr><td>52</td><td>OI_145</td><td>1</td><td>OI_145</td><td>oi145web</td><td>1.0</td><td>[O I] 145 $\\mu$m</td></tr>\n",
       "<tr><td>53</td><td>OI_63</td><td>1</td><td>OI_63</td><td>oi63web</td><td>1.0</td><td>[O I] 63 $\\mu$m</td></tr>\n",
       "<tr><td>54</td><td>CO_10</td><td>1</td><td>CO_10</td><td>coweb</td><td>1.0</td><td>CO(J=1-0)</td></tr>\n",
       "<tr><td>55</td><td>CO_21</td><td>1</td><td>CO_21</td><td>co21web</td><td>1.0</td><td>CO(J=2-1)</td></tr>\n",
       "<tr><td>56</td><td>CO_43</td><td>1</td><td>CO_43</td><td>co43web</td><td>1.0</td><td>CO(J=4-3)</td></tr>\n",
       "<tr><td>57</td><td>CO_54</td><td>1</td><td>CO_54</td><td>co54web</td><td>1.0</td><td>CO(J=5-4)</td></tr>\n",
       "<tr><td>58</td><td>CO_65</td><td>1</td><td>CO_65</td><td>co65web</td><td>1.0</td><td>CO(J=6-5)</td></tr>\n",
       "<tr><td>59</td><td>CO_76</td><td>1</td><td>CO_76</td><td>co76web</td><td>1.0</td><td>CO(J=7-6)</td></tr>\n",
       "<tr><td>60</td><td>H200S0</td><td>1</td><td>H200S0</td><td>h200s0z1web</td><td>1.0</td><td>H$_2$0-0S(0) 28.2$ \\mu$m</td></tr>\n",
       "<tr><td>61</td><td>H200S1</td><td>1</td><td>H200S1</td><td>h200s1z1web</td><td>1.0</td><td>H$_2$0-0S(1) 17 $\\mu$m</td></tr>\n",
       "<tr><td>62</td><td>H200S2</td><td>1</td><td>H200S2</td><td>h200s2z1web</td><td>1.0</td><td>H$_2$0-0S(2) 12.3 $\\mu$m</td></tr>\n",
       "<tr><td>63</td><td>H200S3</td><td>1</td><td>H200S3</td><td>h200s3z1web</td><td>1.0</td><td>H$_2$0-0S(3) 9.7 $\\mu$m</td></tr>\n",
       "<tr><td>64</td><td>H210S1</td><td>1</td><td>H210S1</td><td>h210s1z1web</td><td>1.0</td><td>H$_2$1-0S(1) 2.12 $\\mu$m</td></tr>\n",
       "<tr><td>65</td><td>FEII_26</td><td>1</td><td>FEII_26</td><td>feii26z1web</td><td>1.0</td><td>[Fe II] 26 $\\mu$m</td></tr>\n",
       "</table><style>table.dataTable {clear: both; width: auto !important; margin: 0 !important;}\n",
       ".dataTables_info, .dataTables_length, .dataTables_filter, .dataTables_paginate{\n",
       "display: inline-block; margin-right: 1em; }\n",
       ".paginate_button { margin-right: 5px; }\n",
       "</style>\n",
       "<script>\n",
       "\n",
       "var astropy_sort_num = function(a, b) {\n",
       "    var a_num = parseFloat(a);\n",
       "    var b_num = parseFloat(b);\n",
       "\n",
       "    if (isNaN(a_num) && isNaN(b_num))\n",
       "        return ((a < b) ? -1 : ((a > b) ? 1 : 0));\n",
       "    else if (!isNaN(a_num) && !isNaN(b_num))\n",
       "        return ((a_num < b_num) ? -1 : ((a_num > b_num) ? 1 : 0));\n",
       "    else\n",
       "        return isNaN(a_num) ? -1 : 1;\n",
       "}\n",
       "\n",
       "require.config({paths: {\n",
       "    datatables: 'https://cdn.datatables.net/1.10.12/js/jquery.dataTables.min'\n",
       "}});\n",
       "require([\"datatables\"], function(){\n",
       "    console.log(\"$('#table140234366109968-563797').dataTable()\");\n",
       "    \n",
       "jQuery.extend( jQuery.fn.dataTableExt.oSort, {\n",
       "    \"optionalnum-asc\": astropy_sort_num,\n",
       "    \"optionalnum-desc\": function (a,b) { return -astropy_sort_num(a, b); }\n",
       "});\n",
       "\n",
       "    $('#table140234366109968-563797').dataTable({\n",
       "        order: [],\n",
       "        pageLength: 50,\n",
       "        lengthMenu: [[10, 25, 50, 100, 500, 1000, -1], [10, 25, 50, 100, 500, 1000, 'All']],\n",
       "        pagingType: \"full_numbers\",\n",
       "        columnDefs: [{targets: [0, 5], type: \"optionalnum\"}]\n",
       "    });\n",
       "});\n",
       "</script>\n"
      ],
      "text/plain": [
       "<IPython.core.display.HTML object>"
      ]
     },
     "execution_count": 3,
     "metadata": {},
     "output_type": "execute_result"
    }
   ],
   "source": [
    "m.table.show_in_notebook()"
   ]
  },
  {
   "cell_type": "code",
   "execution_count": 9,
   "metadata": {},
   "outputs": [
    {
     "name": "stdout",
     "output_type": "stream",
     "text": [
      "caught exception properly: m most contain at least two strings\n"
     ]
    }
   ],
   "source": [
    "try:\n",
    "    m.model_ratios([\"CII_158\"])\n",
    "except Exception as e:\n",
    "    print(\"caught exception properly:\",e)"
   ]
  },
  {
   "cell_type": "code",
   "execution_count": 10,
   "metadata": {},
   "outputs": [],
   "source": [
    "for k in m.find_files([\"CI_609\"]):\n",
    "    print(k)"
   ]
  },
  {
   "cell_type": "code",
   "execution_count": 11,
   "metadata": {},
   "outputs": [
    {
     "data": {
      "text/plain": [
       "'/home/mpound/src/pbranch/pdrtpy/pdrtpy/models/'"
      ]
     },
     "execution_count": 11,
     "metadata": {},
     "output_type": "execute_result"
    }
   ],
   "source": [
    "utils.model_dir()"
   ]
  },
  {
   "cell_type": "code",
   "execution_count": 12,
   "metadata": {},
   "outputs": [],
   "source": [
    "x=m.get_models([\"CI_609\",\"FIR\"],model_type=\"ratio\")\n",
    "y=m.get_models([\"CI_609\",\"FIR\"],model_type=\"intensity\")\n",
    "z=m.get_models([\"CI_609\",\"FIR\"],model_type=\"both\")"
   ]
  },
  {
   "cell_type": "code",
   "execution_count": 17,
   "metadata": {},
   "outputs": [
    {
     "data": {
      "text/plain": [
       "{'CI_609': [[1.68704e-07 2.35549e-07 3.39000e-07 4.74282e-07 6.33437e-07 7.97366e-07\n",
       "   9.35831e-07 1.02814e-06 1.05679e-06 1.03928e-06 9.88352e-07 9.16733e-07\n",
       "   8.32380e-07 7.25747e-07 6.11155e-07 4.74282e-07 3.19901e-07 1.95761e-07\n",
       "   1.10931e-07 6.14338e-08 3.42183e-08 1.90986e-08 1.16820e-08 6.03197e-09\n",
       "   7.35296e-09]\n",
       "  [1.81437e-07 2.57831e-07 3.72423e-07 5.31578e-07 7.27338e-07 9.40606e-07\n",
       "   1.14273e-06 1.29552e-06 1.37669e-06 1.38465e-06 1.33849e-06 1.25732e-06\n",
       "   1.14751e-06 1.02655e-06 8.76944e-07 7.14606e-07 5.09296e-07 3.29451e-07\n",
       "   1.89394e-07 1.03451e-07 5.60225e-08 3.05578e-08 1.68704e-08 1.21594e-08\n",
       "   1.01063e-08]\n",
       "  [1.94169e-07 2.76930e-07 4.04254e-07 5.82507e-07 8.10099e-07 1.06952e-06\n",
       "   1.33213e-06 1.55176e-06 1.68704e-06 1.73479e-06 1.70296e-06 1.60746e-06\n",
       "   1.48173e-06 1.31939e-06 1.15069e-06 9.50155e-07 7.38479e-07 4.94972e-07\n",
       "   2.99211e-07 1.63930e-07 8.67394e-08 4.56775e-08 2.43507e-08 2.45099e-08\n",
       "   1.38783e-08]\n",
       "  [2.06901e-07 2.97620e-07 4.36085e-07 6.31845e-07 8.84902e-07 1.18411e-06\n",
       "   1.50401e-06 1.78254e-06 1.98944e-06 2.08493e-06 2.05310e-06 1.94169e-06\n",
       "   1.78254e-06 1.60746e-06 1.39738e-06 1.18093e-06 9.43789e-07 6.78000e-07\n",
       "   4.32901e-07 2.46690e-07 1.29075e-07 6.58901e-08 3.39000e-08 1.78254e-08\n",
       "   1.79845e-08]\n",
       "  [2.21225e-07 3.19901e-07 4.67916e-07 6.78000e-07 9.53338e-07 1.28756e-06\n",
       "   1.65521e-06 2.00535e-06 2.27592e-06 2.40324e-06 2.38732e-06 2.27592e-06\n",
       "   2.08493e-06 1.86211e-06 1.63930e-06 1.38465e-06 1.12682e-06 8.67394e-07\n",
       "   5.84099e-07 3.50141e-07 1.87803e-07 9.39014e-08 4.64732e-08 2.35549e-08\n",
       "   2.22817e-08]\n",
       "  [2.35549e-07 3.40592e-07 4.99747e-07 7.24155e-07 1.02018e-06 1.38306e-06\n",
       "   1.79845e-06 2.19634e-06 2.51465e-06 2.68972e-06 2.70563e-06 2.56239e-06\n",
       "   2.35549e-06 2.11676e-06 1.84620e-06 1.56768e-06 1.30030e-06 1.02018e-06\n",
       "   7.38479e-07 4.64732e-07 2.61014e-07 1.32417e-07 6.38211e-08 3.08761e-08\n",
       "   2.72155e-08]\n",
       "  [2.51465e-07 3.62873e-07 5.31578e-07 7.71902e-07 1.08703e-06 1.47537e-06\n",
       "   1.92577e-06 2.37141e-06 2.73747e-06 2.94437e-06 2.97620e-06 2.84887e-06\n",
       "   2.61014e-06 2.33958e-06 2.03718e-06 1.73479e-06 1.44672e-06 1.16501e-06\n",
       "   8.81718e-07 5.90465e-07 3.51732e-07 1.84620e-07 8.89676e-08 4.13803e-08\n",
       "   3.46958e-08]\n",
       "  [2.65789e-07 3.85155e-07 5.65000e-07 8.18056e-07 1.15228e-06 1.56768e-06\n",
       "   2.03718e-06 2.51465e-06 2.92845e-06 3.16718e-06 3.21493e-06 3.10352e-06\n",
       "   2.86479e-06 2.54648e-06 2.21225e-06 1.89394e-06 1.58677e-06 1.29870e-06\n",
       "   1.00904e-06 7.30521e-07 4.56775e-07 2.54648e-07 1.26210e-07 5.76141e-08\n",
       "   4.42451e-08]\n",
       "  [2.81704e-07 4.07437e-07 5.98423e-07 8.65803e-07 1.21913e-06 1.65521e-06\n",
       "   2.16451e-06 2.67380e-06 3.10352e-06 3.35817e-06 3.42183e-06 3.31042e-06\n",
       "   3.08761e-06 2.75338e-06 2.37141e-06 2.02127e-06 1.70296e-06 1.41489e-06\n",
       "   1.13796e-06 8.59437e-07 5.82507e-07 3.45366e-07 1.81437e-07 8.57845e-08\n",
       "   5.63409e-08]\n",
       "  [2.97620e-07 4.31310e-07 6.30254e-07 9.13549e-07 1.28597e-06 1.75070e-06\n",
       "   2.27592e-06 2.81704e-06 3.26268e-06 3.53324e-06 3.59690e-06 3.51732e-06\n",
       "   3.29451e-06 2.94437e-06 2.53056e-06 2.14859e-06 1.81437e-06 1.52630e-06\n",
       "   1.24777e-06 9.72437e-07 7.14606e-07 4.55183e-07 2.57831e-07 1.27642e-07\n",
       "   7.17789e-08]\n",
       "  [3.13535e-07 4.53592e-07 6.63676e-07 9.59704e-07 1.35123e-06 1.83028e-06\n",
       "   2.38732e-06 2.94437e-06 3.40592e-06 3.69239e-06 3.77197e-06 3.69239e-06\n",
       "   3.48549e-06 3.13535e-06 2.68972e-06 2.26000e-06 1.90986e-06 1.60746e-06\n",
       "   1.34645e-06 1.09180e-06 8.30789e-07 5.84099e-07 3.53324e-07 1.94169e-07\n",
       "   9.15141e-08]\n",
       "  [3.29451e-07 4.75873e-07 6.97099e-07 1.00586e-06 1.41648e-06 1.92577e-06\n",
       "   2.49873e-06 3.08761e-06 3.56507e-06 3.85155e-06 3.94704e-06 3.86747e-06\n",
       "   3.67648e-06 3.32634e-06 2.84887e-06 2.37141e-06 1.98944e-06 1.68704e-06\n",
       "   1.42444e-06 1.17616e-06 9.42197e-07 7.13014e-07 4.72690e-07 2.81704e-07\n",
       "   1.47218e-07]\n",
       "  [3.45366e-07 4.99747e-07 7.28930e-07 1.05042e-06 1.47855e-06 2.00535e-06\n",
       "   2.61014e-06 3.21493e-06 3.70831e-06 4.01070e-06 4.10620e-06 4.02662e-06\n",
       "   3.85155e-06 3.50141e-06 3.00803e-06 2.48282e-06 2.06901e-06 1.75070e-06\n",
       "   1.48810e-06 1.25414e-06 1.02814e-06 8.02141e-07 6.11155e-07 3.88338e-07\n",
       "   2.30775e-07]\n",
       "  [3.61282e-07 5.22028e-07 7.60761e-07 1.09499e-06 1.53903e-06 2.08493e-06\n",
       "   2.72155e-06 3.34225e-06 3.85155e-06 4.16986e-06 4.26535e-06 4.18578e-06\n",
       "   4.01070e-06 3.69239e-06 3.16718e-06 2.61014e-06 2.13268e-06 1.79845e-06\n",
       "   1.52630e-06 1.29711e-06 1.08544e-06 8.91268e-07 6.93916e-07 5.20437e-07\n",
       "   3.27859e-07]\n",
       "  [3.77197e-07 5.45902e-07 7.92592e-07 1.13955e-06 1.59155e-06 2.16451e-06\n",
       "   2.81704e-06 3.46958e-06 3.99479e-06 4.31310e-06 4.40859e-06 4.34493e-06\n",
       "   4.16986e-06 3.88338e-06 3.35817e-06 2.73747e-06 2.21225e-06 1.83028e-06\n",
       "   1.55176e-06 1.31939e-06 1.11568e-06 9.26282e-07 7.65535e-07 6.03197e-07\n",
       "   4.52000e-07]\n",
       "  [3.93113e-07 5.68183e-07 8.24423e-07 1.18252e-06 1.65521e-06 2.24408e-06\n",
       "   2.91254e-06 3.58099e-06 4.12211e-06 4.45634e-06 4.56775e-06 4.50409e-06\n",
       "   4.34493e-06 4.05845e-06 3.54916e-06 2.88070e-06 2.29183e-06 1.87803e-06\n",
       "   1.56927e-06 1.32894e-06 1.12682e-06 9.42197e-07 7.75085e-07 6.38211e-07\n",
       "   5.28394e-07]\n",
       "  [4.09028e-07 5.90465e-07 8.54662e-07 1.22390e-06 1.71887e-06 2.32366e-06\n",
       "   3.00803e-06 3.69239e-06 4.26535e-06 4.61549e-06 4.72690e-06 4.66324e-06\n",
       "   4.48817e-06 4.23352e-06 3.75606e-06 3.05578e-06 2.40324e-06 1.92577e-06\n",
       "   1.58677e-06 1.32894e-06 1.11727e-06 9.26282e-07 7.52803e-07 6.15930e-07\n",
       "   5.10887e-07]\n",
       "  [4.24944e-07 6.11155e-07 8.84902e-07 1.26528e-06 1.76662e-06 2.38732e-06\n",
       "   3.10352e-06 3.81972e-06 4.39268e-06 4.75873e-06 4.87014e-06 4.80648e-06\n",
       "   4.64732e-06 4.40859e-06 3.96296e-06 3.24676e-06 2.53056e-06 1.98944e-06\n",
       "   1.60746e-06 1.32417e-06 1.09499e-06 8.84902e-07 6.97099e-07 5.53859e-07\n",
       "   4.52000e-07]\n",
       "  [4.39268e-07 6.33437e-07 9.13549e-07 1.30507e-06 1.83028e-06 2.46690e-06\n",
       "   3.19901e-06 3.93113e-06 4.53592e-06 4.90197e-06 5.01338e-06 4.94972e-06\n",
       "   4.79056e-06 4.56775e-06 4.16986e-06 3.46958e-06 2.68972e-06 2.06901e-06\n",
       "   1.63930e-06 1.32258e-06 1.05997e-06 8.18056e-07 6.22296e-07 4.83831e-07\n",
       "   3.91521e-07]\n",
       "  [4.53592e-07 6.54127e-07 9.42197e-07 1.34327e-06 1.87803e-06 2.53056e-06\n",
       "   3.29451e-06 4.04254e-06 4.66324e-06 5.04521e-06 5.17254e-06 5.10887e-06\n",
       "   4.93380e-06 4.71099e-06 4.36085e-06 3.70831e-06 2.86479e-06 2.16451e-06\n",
       "   1.68704e-06 1.32417e-06 1.02018e-06 7.49620e-07 5.57042e-07 4.23352e-07\n",
       "   3.34225e-07]\n",
       "  [4.67916e-07 6.73225e-07 9.70845e-07 1.38306e-06 1.92577e-06 2.61014e-06\n",
       "   3.37408e-06 4.15394e-06 4.79056e-06 5.18845e-06 5.31578e-06 5.23620e-06\n",
       "   5.07704e-06 4.87014e-06 4.55183e-06 3.94704e-06 3.07169e-06 2.29183e-06\n",
       "   1.73479e-06 1.33054e-06 9.83578e-07 6.95507e-07 4.98155e-07 3.69240e-07\n",
       "   2.84887e-07]\n",
       "  [4.80648e-07 6.92324e-07 9.97902e-07 1.41807e-06 1.97352e-06 2.67380e-06\n",
       "   3.46958e-06 4.24944e-06 4.91789e-06 5.33169e-06 5.45901e-06 5.37944e-06\n",
       "   5.22028e-06 5.01338e-06 4.72690e-06 4.18578e-06 3.29451e-06 2.41916e-06\n",
       "   1.79845e-06 1.33531e-06 9.51747e-07 6.54127e-07 4.47225e-07 3.19901e-07\n",
       "   2.49873e-07]\n",
       "  [4.91789e-07 7.11423e-07 1.02337e-06 1.45627e-06 2.02127e-06 2.73747e-06\n",
       "   3.54916e-06 4.36085e-06 5.04521e-06 5.45901e-06 5.58634e-06 5.52268e-06\n",
       "   5.34761e-06 5.14070e-06 4.88606e-06 4.40859e-06 3.53324e-06 2.59423e-06\n",
       "   1.86211e-06 1.34008e-06 9.19916e-07 6.12747e-07 4.10620e-07 2.81704e-07\n",
       "   2.19634e-07]\n",
       "  [5.01338e-07 7.25747e-07 1.04724e-06 1.49128e-06 2.06901e-06 2.80113e-06\n",
       "   3.62873e-06 4.47225e-06 5.17254e-06 5.60225e-06 5.72958e-06 5.65000e-06\n",
       "   5.49085e-06 5.28394e-06 5.02930e-06 4.61549e-06 3.78789e-06 2.76930e-06\n",
       "   1.94169e-06 1.34327e-06 8.89676e-07 5.79324e-07 3.75606e-07 2.53056e-07\n",
       "   1.94169e-07]\n",
       "  [5.07704e-07 7.38479e-07 1.06793e-06 1.52311e-06 2.13268e-06 2.86479e-06\n",
       "   3.72423e-06 4.58366e-06 5.29986e-06 5.74549e-06 5.87282e-06 5.79324e-06\n",
       "   5.61817e-06 5.41127e-06 5.17254e-06 4.80648e-06 4.04254e-06 2.97620e-06\n",
       "   2.03718e-06 1.35123e-06 8.67394e-07 5.47493e-07 3.43775e-07 2.27592e-07\n",
       "   1.76662e-07]\n",
       "  [5.12479e-07 7.46437e-07 1.08225e-06 1.55017e-06 2.16451e-06 2.92845e-06\n",
       "   3.80380e-06 4.69507e-06 5.42718e-06 5.87282e-06 6.00014e-06 5.92056e-06\n",
       "   5.72958e-06 5.52268e-06 5.29986e-06 4.98155e-06 4.29718e-06 3.19901e-06\n",
       "   2.13268e-06 1.35918e-06 8.46704e-07 5.17254e-07 3.16718e-07 2.08493e-07\n",
       "   1.62338e-07]\n",
       "  [5.12479e-07 7.48028e-07 1.09021e-06 1.56608e-06 2.19634e-06 2.99211e-06\n",
       "   3.89930e-06 4.80648e-06 5.57042e-06 6.01606e-06 6.14338e-06 6.04789e-06\n",
       "   5.85690e-06 5.65000e-06 5.42718e-06 5.14070e-06 4.53592e-06 3.42183e-06\n",
       "   2.24408e-06 1.37987e-06 8.33972e-07 4.91789e-07 2.91254e-07 1.89394e-07\n",
       "   1.48014e-07]\n",
       "  [5.04521e-07 7.44845e-07 1.08862e-06 1.57086e-06 2.21225e-06 3.03986e-06\n",
       "   3.96296e-06 4.91789e-06 5.68183e-06 6.12747e-06 6.25479e-06 6.15930e-06\n",
       "   5.96831e-06 5.76141e-06 5.53859e-06 5.28394e-06 4.75873e-06 3.66056e-06\n",
       "   2.37141e-06 1.41011e-06 8.19648e-07 4.69507e-07 2.73747e-07 1.76662e-07\n",
       "   1.38783e-07]\n",
       "  [4.96563e-07 7.30521e-07 1.07748e-06 1.56290e-06 2.21225e-06 3.05578e-06\n",
       "   4.02662e-06 5.01338e-06 5.79324e-06 6.25479e-06 6.38211e-06 6.27071e-06\n",
       "   6.07972e-06 5.87282e-06 5.66592e-06 5.41127e-06 4.93380e-06 3.88338e-06\n",
       "   2.49873e-06 1.44831e-06 8.18056e-07 4.50409e-07 2.53056e-07 1.60746e-07\n",
       "   1.24777e-07]] +/- None }"
      ]
     },
     "execution_count": 17,
     "metadata": {},
     "output_type": "execute_result"
    }
   ],
   "source": [
    "y"
   ]
  },
  {
   "cell_type": "code",
   "execution_count": null,
   "metadata": {},
   "outputs": [],
   "source": [
    "m.supported_lines[\"intensity label\"]"
   ]
  },
  {
   "cell_type": "code",
   "execution_count": null,
   "metadata": {},
   "outputs": [],
   "source": [
    " set(m._supported_lines[\"intensity label\"])"
   ]
  },
  {
   "cell_type": "code",
   "execution_count": null,
   "metadata": {},
   "outputs": [],
   "source": [
    "t = ['CI_609','OI_63','FIR','FEII_26']"
   ]
  },
  {
   "cell_type": "code",
   "execution_count": null,
   "metadata": {},
   "outputs": [],
   "source": [
    "a=list(set(t)&set(m._supported_lines[\"intensity label\"]))"
   ]
  },
  {
   "cell_type": "code",
   "execution_count": null,
   "metadata": {},
   "outputs": [],
   "source": [
    "a"
   ]
  },
  {
   "cell_type": "code",
   "execution_count": null,
   "metadata": {},
   "outputs": [],
   "source": [
    "b=['H200S2','MASAS']"
   ]
  },
  {
   "cell_type": "code",
   "execution_count": null,
   "metadata": {},
   "outputs": [],
   "source": [
    "a.append(b)"
   ]
  },
  {
   "cell_type": "code",
   "execution_count": null,
   "metadata": {},
   "outputs": [],
   "source": [
    "a"
   ]
  },
  {
   "cell_type": "code",
   "execution_count": null,
   "metadata": {},
   "outputs": [],
   "source": [
    "a.extend(b)"
   ]
  },
  {
   "cell_type": "code",
   "execution_count": null,
   "metadata": {},
   "outputs": [],
   "source": [
    "a"
   ]
  },
  {
   "cell_type": "code",
   "execution_count": null,
   "metadata": {},
   "outputs": [],
   "source": [
    "m._table"
   ]
  },
  {
   "cell_type": "code",
   "execution_count": null,
   "metadata": {},
   "outputs": [],
   "source": []
  }
 ],
 "metadata": {
  "kernelspec": {
   "display_name": "Python 3",
   "language": "python",
   "name": "python3"
  },
  "language_info": {
   "codemirror_mode": {
    "name": "ipython",
    "version": 3
   },
   "file_extension": ".py",
   "mimetype": "text/x-python",
   "name": "python",
   "nbconvert_exporter": "python",
   "pygments_lexer": "ipython3",
   "version": "3.7.4"
  }
 },
 "nbformat": 4,
 "nbformat_minor": 4
}
