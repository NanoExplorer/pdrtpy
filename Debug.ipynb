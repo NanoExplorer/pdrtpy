{
 "cells": [
  {
   "cell_type": "code",
   "execution_count": 1,
   "metadata": {},
   "outputs": [
    {
     "name": "stderr",
     "output_type": "stream",
     "text": [
      "/home/mpound/anaconda3/lib/python3.7/site-packages/astropy/table/column.py:1161: FutureWarning: elementwise comparison failed; returning scalar instead, but in the future will perform elementwise comparison\n",
      "  result = getattr(super(), op)(other)\n"
     ]
    }
   ],
   "source": [
    "from pdrtpy.modelset import ModelSet\n",
    "import numpy as np\n",
    "from astropy.table import Table\n",
    "import pdrtpy.pdrutils as utils\n",
    "from pdrtpy.plot.lineratioplot import LineRatioPlot\n",
    "from pdrtpy.tool.lineratiofit import LineRatioFit\n",
    "from pdrtpy.plot.modelplot import ModelPlot\n",
    "from pdrtpy.measurement import Measurement\n",
    "from pdrtpy.modelset import ModelSet\n",
    "from pdrtpy import version\n",
    "from astropy.nddata import StdDevUncertainty\n",
    "import astropy.units as u\n",
    "from labellines import labelLine, labelLines\n",
    "from lmfit import Model, Parameters, Minimizer, minimize, fit_report\n",
    "import corner\n",
    "import matplotlib.pyplot as plt\n",
    "%matplotlib inline"
   ]
  },
  {
   "cell_type": "code",
   "execution_count": 2,
   "metadata": {},
   "outputs": [],
   "source": [
    "#m.table.show_in_notebook()"
   ]
  },
  {
   "cell_type": "code",
   "execution_count": 3,
   "metadata": {},
   "outputs": [],
   "source": [
    "m = ModelSet(name=\"wk2006\",z=1)"
   ]
  },
  {
   "cell_type": "code",
   "execution_count": 4,
   "metadata": {},
   "outputs": [
    {
     "data": {
      "text/html": [
       "<i>Table length=57</i>\n",
       "<table id=\"table139918800534864\" class=\"table-striped table-bordered table-condensed\">\n",
       "<thead><tr><th>title</th><th>ratio label</th></tr></thead>\n",
       "<thead><tr><th>str51</th><th>str19</th></tr></thead>\n",
       "<tr><td>[O I] 145 $\\mu$m / [O I] 63 $\\mu$m</td><td>OI_145/OI_63</td></tr>\n",
       "<tr><td>[O I] 145 $\\mu$m / [C II] 158 $\\mu$m</td><td>OI_145/CII_158</td></tr>\n",
       "<tr><td>[O I] 63 $\\mu$m / [C II] 158 $\\mu$m</td><td>OI_63/CII_158</td></tr>\n",
       "<tr><td>[C II] 158 $\\mu$m / [C I] 609 $\\mu$m</td><td>CII_158/CI_609</td></tr>\n",
       "<tr><td>[C I] 370 $\\mu$m / [C I] 609 $\\mu$m</td><td>CI_370/CI_609</td></tr>\n",
       "<tr><td>[C II] 158 $\\mu$m / CO(J=1-0)</td><td>CII_158/CO_10</td></tr>\n",
       "<tr><td>[C II] 158 $\\mu$m / CO(J=3-2)</td><td>CII_158/CO_32</td></tr>\n",
       "<tr><td>[C II] 158 $\\mu$m / CO(J=6-5)</td><td>CII_158/CO_65</td></tr>\n",
       "<tr><td>[C II] 158 $\\mu$m / I$_{FIR}$</td><td>CII_158/FIR</td></tr>\n",
       "<tr><td>[C I] 609 $\\mu$m / CO(J=1-0)</td><td>CI_609/CO_10</td></tr>\n",
       "<tr><td>...</td><td>...</td></tr>\n",
       "<tr><td>[S III] 35 $\\mu$m / [Fe II] 26 $\\mu$m</td><td>SIII_35/FEII_26</td></tr>\n",
       "<tr><td>H$_2$0-0S(1) 17 $\\mu$m / H$_2$0-0S(0) 28.2$ \\mu$m</td><td>H200S1/H200S0</td></tr>\n",
       "<tr><td>H$_2$0-0S(2) 12.3 $\\mu$m / H$_2$0-0S(0) 28.2$ \\mu$m</td><td>H200S2/H200S0</td></tr>\n",
       "<tr><td>H$_2$0-0S(2) 12.3 $\\mu$m / H$_2$0-0S(1) 17$ \\mu$m</td><td>H200S2/H200S1</td></tr>\n",
       "<tr><td>H$_2$0-0S(3) 9.7 $\\mu$m / H$_2$0-0S(1) 17$ \\mu$m</td><td>H200S3/H200S1</td></tr>\n",
       "<tr><td>H$_2$0-0S(1) 17 $\\mu$m / [S III] 35 $\\mu$m</td><td>H200S1/SIII_35</td></tr>\n",
       "<tr><td>H$_2$0-0S(2) 12.3 $\\mu$m / [S III] 35 $\\mu$m</td><td>H200S2/SIII_35</td></tr>\n",
       "<tr><td>H$_2$6-5Q(1) 1.6 $\\mu$m / H$_2$1-0S(1) 2.12 $\\mu$m</td><td>H264Q11/H210S1</td></tr>\n",
       "<tr><td>[Fe II] 1.60 $\\mu$m/[Fe II] 1.64 $\\mu$m</td><td>FEII_1.60/FEII_1.64</td></tr>\n",
       "<tr><td>[Fe II] 1.64 $\\mu$m/[Fe II] 5.34 $\\mu$m</td><td>FEII_1.64/FEII_5.34</td></tr>\n",
       "</table>"
      ],
      "text/plain": [
       "<Table length=57>\n",
       "                       title                            ratio label    \n",
       "                       str51                               str19       \n",
       "--------------------------------------------------- -------------------\n",
       "                 [O I] 145 $\\mu$m / [O I] 63 $\\mu$m        OI_145/OI_63\n",
       "               [O I] 145 $\\mu$m / [C II] 158 $\\mu$m      OI_145/CII_158\n",
       "                [O I] 63 $\\mu$m / [C II] 158 $\\mu$m       OI_63/CII_158\n",
       "               [C II] 158 $\\mu$m / [C I] 609 $\\mu$m      CII_158/CI_609\n",
       "                [C I] 370 $\\mu$m / [C I] 609 $\\mu$m       CI_370/CI_609\n",
       "                      [C II] 158 $\\mu$m / CO(J=1-0)       CII_158/CO_10\n",
       "                      [C II] 158 $\\mu$m / CO(J=3-2)       CII_158/CO_32\n",
       "                      [C II] 158 $\\mu$m / CO(J=6-5)       CII_158/CO_65\n",
       "                      [C II] 158 $\\mu$m / I$_{FIR}$         CII_158/FIR\n",
       "                       [C I] 609 $\\mu$m / CO(J=1-0)        CI_609/CO_10\n",
       "                                                ...                 ...\n",
       "              [S III] 35 $\\mu$m / [Fe II] 26 $\\mu$m     SIII_35/FEII_26\n",
       "  H$_2$0-0S(1) 17 $\\mu$m / H$_2$0-0S(0) 28.2$ \\mu$m       H200S1/H200S0\n",
       "H$_2$0-0S(2) 12.3 $\\mu$m / H$_2$0-0S(0) 28.2$ \\mu$m       H200S2/H200S0\n",
       "  H$_2$0-0S(2) 12.3 $\\mu$m / H$_2$0-0S(1) 17$ \\mu$m       H200S2/H200S1\n",
       "   H$_2$0-0S(3) 9.7 $\\mu$m / H$_2$0-0S(1) 17$ \\mu$m       H200S3/H200S1\n",
       "         H$_2$0-0S(1) 17 $\\mu$m / [S III] 35 $\\mu$m      H200S1/SIII_35\n",
       "       H$_2$0-0S(2) 12.3 $\\mu$m / [S III] 35 $\\mu$m      H200S2/SIII_35\n",
       " H$_2$6-5Q(1) 1.6 $\\mu$m / H$_2$1-0S(1) 2.12 $\\mu$m      H264Q11/H210S1\n",
       "            [Fe II] 1.60 $\\mu$m/[Fe II] 1.64 $\\mu$m FEII_1.60/FEII_1.64\n",
       "            [Fe II] 1.64 $\\mu$m/[Fe II] 5.34 $\\mu$m FEII_1.64/FEII_5.34"
      ]
     },
     "execution_count": 4,
     "metadata": {},
     "output_type": "execute_result"
    }
   ],
   "source": [
    "m.supported_ratios\n"
   ]
  },
  {
   "cell_type": "code",
   "execution_count": 5,
   "metadata": {},
   "outputs": [
    {
     "name": "stdout",
     "output_type": "stream",
     "text": [
      "Habing\n"
     ]
    },
    {
     "data": {
      "text/plain": [
       "True"
      ]
     },
     "execution_count": 5,
     "metadata": {},
     "output_type": "execute_result"
    }
   ],
   "source": [
    "mp = ModelPlot(m)\n",
    "'H264Q11/H210S1' in m.table['ratio']"
   ]
  },
  {
   "cell_type": "code",
   "execution_count": 6,
   "metadata": {},
   "outputs": [
    {
     "name": "stdout",
     "output_type": "stream",
     "text": [
      "caught exception properly: m most contain at least two strings\n"
     ]
    },
    {
     "data": {
      "text/plain": [
       "7066.33"
      ]
     },
     "execution_count": 6,
     "metadata": {},
     "output_type": "execute_result"
    }
   ],
   "source": [
    "try:\n",
    "    m.model_ratios([\"CII_158\"])\n",
    "except Exception as e:\n",
    "    print(\"caught exception properly:\",e)\n",
    "\n",
    "mz = m.get_model('CII_158/CI_609')\n",
    "mz.data.max()"
   ]
  },
  {
   "cell_type": "code",
   "execution_count": 7,
   "metadata": {},
   "outputs": [
    {
     "data": {
      "text/plain": [
       "array(None, dtype=object)"
      ]
     },
     "execution_count": 7,
     "metadata": {},
     "output_type": "execute_result"
    }
   ],
   "source": [
    "np.squeeze(None)"
   ]
  },
  {
   "cell_type": "code",
   "execution_count": 8,
   "metadata": {},
   "outputs": [
    {
     "name": "stdout",
     "output_type": "stream",
     "text": [
      "[[ 9.01887035  0.39307201]\n",
      " [44.43040085 19.76740074]]\n",
      "[9.01887035]\n",
      "[8.60261744]\n",
      "[7066.33007812]\n"
     ]
    },
    {
     "data": {
      "image/png": "[encoded data removed]",
      "text/plain": [
       "<Figure size 360x360 with 2 Axes>"
      ]
     },
     "metadata": {
      "needs_background": "light"
     },
     "output_type": "display_data"
    }
   ],
   "source": [
    "print(mz.get([3,1],[1,-.5],log=True))\n",
    "print(mz.get(10,10**-.5,log=False))\n",
    "mp.plot(mz.id)\n",
    "mz.wcs\n",
    "10**-.5\n",
    "print(mz.get(1.1,-.45,log=True))\n",
    "print(mz.get(1E7,10**6.5))\n",
    "#print(mz[0,0])"
   ]
  },
  {
   "cell_type": "code",
   "execution_count": 9,
   "metadata": {},
   "outputs": [
    {
     "name": "stderr",
     "output_type": "stream",
     "text": [
      "/home/mpound/anaconda3/lib/python3.7/site-packages/ipykernel/ipkernel.py:283: DeprecationWarning: `should_run_async` will not call `transform_cell` automatically in the future. Please pass the result to `transformed_cell` argument and any exception that happen during thetransform in `preprocessing_exc_tuple` in IPython 7.17 and above.\n",
      "  and should_run_async(code)\n"
     ]
    },
    {
     "data": {
      "text/plain": [
       "True"
      ]
     },
     "execution_count": 9,
     "metadata": {},
     "output_type": "execute_result"
    }
   ],
   "source": [
    "mz.is_ratio()"
   ]
  },
  {
   "cell_type": "code",
   "execution_count": 10,
   "metadata": {},
   "outputs": [],
   "source": [
    "# only residual not residual squared\n",
    "def residual_single_pix(params,models,measurements):\n",
    "    parvals = params.valuesdict()\n",
    "    \n",
    "    mvalue = np.empty(len(models))\n",
    "    dvalue = np.empty(len(measurements))\n",
    "    evalue = np.empty(len(measurements))\n",
    "    i=0\n",
    "    for k in models:\n",
    "        mvalue[i] = models[k].get(parvals['density'],parvals['radiation_field']) \n",
    "        dvalue[i] = measurements[k].value\n",
    "        evalue[i] = measurements[k].error\n",
    "        i = i+1\n",
    "    return  (dvalue - mvalue)/evalue\n"
   ]
  },
  {
   "cell_type": "code",
   "execution_count": 11,
   "metadata": {},
   "outputs": [
    {
     "name": "stdout",
     "output_type": "stream",
     "text": [
      "caught exception properly  Unrecognized model_type: must be one of 'intensity', 'ratio', or 'both'\n"
     ]
    }
   ],
   "source": [
    "try:\n",
    "    m.get_models(['CII_158'],model_type='foo')\n",
    "except ValueError as e:\n",
    "    print(\"caught exception properly \",e)\n",
    "x=m.get_models([\"CI_609\",\"FIR\"],model_type=\"ratio\")\n",
    "y=m.get_models([\"CI_609\",\"FIR\"],model_type=\"intensity\")\n",
    "z=m.get_models([\"CI_609\",\"FIR\"],model_type=\"both\")\n",
    "q=m.get_models(['CII_158'],model_type='intensity')"
   ]
  },
  {
   "cell_type": "code",
   "execution_count": 12,
   "metadata": {},
   "outputs": [
    {
     "name": "stdout",
     "output_type": "stream",
     "text": [
      "<class 'numpy.ndarray'> <class 'numpy.ndarray'>\n",
      "(1,) (1,)\n",
      "(1,) (1,)\n"
     ]
    },
    {
     "data": {
      "text/plain": [
       "True"
      ]
     },
     "execution_count": 12,
     "metadata": {},
     "output_type": "execute_result"
    }
   ],
   "source": [
    "myunit = \"erg s-1 cm-2 sr-1\"\n",
    "mx=Measurement(data=[1.5E-6],uncertainty = StdDevUncertainty([0.5E-6]),identifier=\"CI_609\",unit=myunit)\n",
    "mm = Measurement(data=1.5E-6,uncertainty = StdDevUncertainty(0.5E-6),identifier=\"CI_609\",unit=myunit)\n",
    "#my=Measurement(data=[2],uncertainty = StdDevUncertainty(1),identifier=\"CII_158/CI_609\",unit=u.dimensionless_unscaled)\n",
    "#mz=Measurement(data=[9E-6],uncertainty = StdDevUncertainty(1E-6),identifier=\"CII_158\",unit=myunit)\n",
    "#mq=Measurement(data=[3E-6],uncertainty=StdDevUncertainty(1E-7),identifier=\"OI_145\",unit=myunit)\n",
    "#a=[mx,my,mq,mz]\n",
    "#ids = [m.id for m in a]\n",
    "#d = dict(zip(ids,a))\n",
    "#print(\"dict:\",d)\n",
    "#print(type(d[\"CI_609\"]))\n",
    "#d[\"CI_609\"].levels\n",
    "#mp.overlay(a,shading=.71)\n",
    "#len(mx.data)\n",
    "#q[1].id\n",
    "print(type(mx.data),type(mm.data))\n",
    "print(np.shape(mx.data),np.shape(mm.data))\n",
    "#np.shape(mm.data) == ()\n",
    "#np.array([mm.data])\n",
    "#mm.data[0]\n",
    "#np.shape(mx.data)\n",
    "print(np.shape(mx.error),np.shape(mm.error))\n",
    "len(np.array([3,2,1]))\n",
    "mm.size==1"
   ]
  },
  {
   "cell_type": "code",
   "execution_count": 13,
   "metadata": {},
   "outputs": [
    {
     "data": {
      "text/plain": [
       "2"
      ]
     },
     "execution_count": 13,
     "metadata": {},
     "output_type": "execute_result"
    }
   ],
   "source": [
    "from astropy.nddata import CCDData\n",
    "foo = CCDData(data=np.array([[4,5,3],[1,2,3]]),uncertainty=StdDevUncertainty([1,2,3]),unit=\"K\")\n",
    "len(foo.data)"
   ]
  },
  {
   "cell_type": "code",
   "execution_count": 14,
   "metadata": {},
   "outputs": [
    {
     "name": "stdout",
     "output_type": "stream",
     "text": [
      "1 1\n",
      "8 8\n",
      "() (1,)\n"
     ]
    }
   ],
   "source": [
    "a = np.array(1)\n",
    "b = np.array([1])\n",
    "print(a.size,b.size)\n",
    "print(a.itemsize,b.itemsize)\n",
    "print(a.shape,b.shape)"
   ]
  },
  {
   "cell_type": "code",
   "execution_count": 15,
   "metadata": {},
   "outputs": [],
   "source": [
    "myunit = \"erg s-1 cm-2 sr-1\" # my default unit for value and error\n",
    "m1 = Measurement(data=6E-6,uncertainty = StdDevUncertainty(1E-6),identifier=\"OI_145\",unit=myunit)\n",
    "m2 = Measurement(data=2.2E-6,uncertainty = StdDevUncertainty(5E-7),identifier=\"CI_609\",unit=myunit)\n",
    "m3 = Measurement(data=260.0,uncertainty = StdDevUncertainty(40.0),identifier=\"CO_21\",restfreq=\"230.538 GHz\", unit=\"K km/s\")\n",
    "m4 = Measurement(data=2E-5,uncertainty = StdDevUncertainty(2E-6),identifier=\"CII_158\",unit=myunit)\n",
    "m5 = Measurement(data=300,uncertainty=StdDevUncertainty(30),identifier=\"CO_43\",restfreq=\"461.04 GHz\" ,unit=\"K km/s\")\n",
    "aa = [m1,m2,m3,m4,m5]\n"
   ]
  },
  {
   "cell_type": "code",
   "execution_count": 18,
   "metadata": {},
   "outputs": [
    {
     "name": "stdout",
     "output_type": "stream",
     "text": [
      "Converting K km/s to erg / (cm2 s sr) using Factor = +1.256E-08 g / (cm K s2)\n",
      "Converting K km/s to erg / (cm2 s sr) using Factor = +1.004E-07 g / (cm K s2)\n",
      "Converting K km/s to erg / (cm2 s sr) using Factor = +1.004E-07 g / (cm K s2)\n",
      "Converting K km/s to erg / (cm2 s sr) using Factor = +1.256E-08 g / (cm K s2)\n",
      "fixheader modelnaxis 2 naxis 3\n",
      "fixheader modelnaxis 2 naxis 3\n",
      "dict_keys(['OI_145/CII_158', 'CI_609/CO_21', 'CI_609/CO_43', 'CII_158/CI_609', 'CO_43/CO_21'])\n",
      "316227.7660168379 +/- nan 1 / cm3 56.23413251903491 +/- nan Habing\n",
      "Habing\n",
      "4.49805929234543\n"
     ]
    },
    {
     "data": {
      "text/plain": [
       "(29, 25)"
      ]
     },
     "execution_count": 18,
     "metadata": {},
     "output_type": "execute_result"
    },
    {
     "data": {
      "image/png": "[encoded data removed]",
      "text/plain": [
       "<Figure size 360x360 with 1 Axes>"
      ]
     },
     "metadata": {
      "needs_background": "light"
     },
     "output_type": "display_data"
    }
   ],
   "source": [
    "lrf = LineRatioFit(m,aa)\n",
    "lrf.run()\n",
    "print(lrf._modelratios.keys())\n",
    "print(lrf.density,lrf.radiation_field)\n",
    "par = Parameters()\n",
    "par.add('density',min=10,max=1E7,value=1E4)\n",
    "par.add('radiation_field',min=1,max=1E6,value=1000)\n",
    "lrp = LineRatioPlot(lrf)\n",
    "lrp.overlay_all_ratios()\n",
    "#lrp.chisq()\n",
    "print(np.min(lrf._chisq))\n",
    "lrf._chisq.header\n",
    "np.squeeze(lrf._chisq).shape"
   ]
  },
  {
   "cell_type": "code",
   "execution_count": null,
   "metadata": {},
   "outputs": [],
   "source": [
    "lrf._measurementnaxis\n",
    "len(m1.shape)"
   ]
  },
  {
   "cell_type": "code",
   "execution_count": null,
   "metadata": {},
   "outputs": [],
   "source": [
    "par.pretty_print()"
   ]
  },
  {
   "cell_type": "code",
   "execution_count": null,
   "metadata": {},
   "outputs": [],
   "source": [
    "lrf.compute_density_radiation_field2()\n",
    "len(lrf._fitresult)\n",
    "print(fit_report(lrf._fitresult[0]))\n",
    "lrf._fitresult[0].__dict__\n",
    "lrf._reduced_chisq_min"
   ]
  },
  {
   "cell_type": "code",
   "execution_count": null,
   "metadata": {},
   "outputs": [],
   "source": [
    "print(lrf._density,lrf._radiation_field,lrf._chisq_min,lrf._reduced_chisq_min)\n",
    "print(lrf._d2,lrf._rf2,lrf._chi2,lrf._rchi2)"
   ]
  },
  {
   "cell_type": "code",
   "execution_count": null,
   "metadata": {},
   "outputs": [],
   "source": [
    "lrf._density.value.flatten()"
   ]
  },
  {
   "cell_type": "code",
   "execution_count": null,
   "metadata": {},
   "outputs": [],
   "source": [
    "lrf._modelratios['OI_145/CII_158'].header['CUNIT2']\n",
    "ss=list(lrf._modelratios.keys())\n",
    "print(ss[0])\n",
    "print([i.find('CO') for i in ss])\n",
    "#ss.index(\"CO\")\n",
    "[idx for idx, s in enumerate(ss) if 'CO' in s][0]\n",
    "lrf._modelratios['OI_145/CII_158'].size"
   ]
  },
  {
   "cell_type": "code",
   "execution_count": null,
   "metadata": {},
   "outputs": [],
   "source": [
    "mw = ModelSet('wk2020',z=1)\n",
    "tt = mw.get_model('OI_145/CII_158')\n",
    "print(tt.header['CUNIT2'])\n",
    "u.Unit(tt.header['CUNIT2']) == utils._RFS_UNIT_\n",
    "x,y=utils.get_xy_from_wcs(tt,linear=True)\n",
    "x[0],y[0]\n",
    "x[48],x[-1]\n",
    "y[56],y[-1],y.size"
   ]
  },
  {
   "cell_type": "code",
   "execution_count": null,
   "metadata": {},
   "outputs": [],
   "source": [
    "par.add('density',min=10,max=1E7,value=1E4)\n",
    "par.add('radiation_field',min=1,max=1E6,value=1000)\n",
    "method='powell'\n",
    "if True:\n",
    "    x=residual_single_pix(par,lrf._modelratios,lrf._observedratios)\n",
    "    print(x)\n",
    "    len(lrf._modelratios)\n",
    "    res=minimize(residual_single_pix,params=par,method=method,args=(lrf._modelratios,lrf._observedratios))\n",
    "    #res2=minimize(residual_single_pix,params=par,workers=4,method='emcee',is_weighted=True,burn=300,steps=5000,args=(lrf._modelratios,lrf._observedratios))\n",
    "    print(fit_report(res))\n",
    "    #print(fit_report(res2))\n",
    "#res.__dict__\n",
    "type(res)"
   ]
  },
  {
   "cell_type": "code",
   "execution_count": null,
   "metadata": {},
   "outputs": [],
   "source": [
    "def transform_data(lrf):\n",
    "    #mvalue = np.zeros(np.insert(values=lrf.ratiocount,arr=lrf._modelshape,obj=2))\n",
    "    mvalue = np.moveaxis(np.array([lrf._modelratios[k].data for k in lrf._modelratios]),source=[0],destination=[2])\n",
    "    dvalue = np.array([lrf._observedratios[k].data for k in lrf._observedratios])\n",
    "    evalue = np.array([lrf._observedratios[k].error for k in lrf._observedratios])\n",
    "    print(\"shapes mde \",np.shape(mvalue),np.shape(dvalue),np.shape(evalue))\n",
    "    return np.sum(((mvalue-dvalue)/evalue)**2,axis=2)\n",
    "np.min(transform_data(lrf))\n",
    "#print(np.array([lrf._modelratios[k].data for k in lrf._modelratios]).shape)\n",
    "#print(np.shape(np.moveaxis(np.array([lrf._modelratios[k].data for k in lrf._modelratios]),source=[0],destination=[2])))\n",
    "#print(lrf._modelshape)"
   ]
  },
  {
   "cell_type": "code",
   "execution_count": null,
   "metadata": {},
   "outputs": [],
   "source": [
    "# Get the input filenames of the FITS files in the testdata directory\n",
    "# utils.get_testdata() is a special method to locate files there.\n",
    "# These are maps from Jameson et al 2018.\n",
    "print(\"Test FITS files are in: %s\"%utils.testdata_dir())\n",
    "cii_flux = utils.get_testdata(\"n22_cii_flux.fits\")  # [C II] flux\n",
    "cii_err = utils.get_testdata(\"n22_cii_error.fits\")  # [C II] error\n",
    "oi_flux = utils.get_testdata(\"n22_oi_flux.fits\")    # [O I] flux \n",
    "oi_err = utils.get_testdata(\"n22_oi_error.fits\")    # [O I] error\n",
    "FIR_flux = utils.get_testdata(\"n22_FIR.fits\")       # FIR flux\n",
    "\n",
    "# Output file names\n",
    "cii_combined = \"n22_cii_flux_error.fits\"\n",
    "oi_combined = \"n22_oi_flux_error.fits\"\n",
    "FIR_combined = \"n22_FIR_flux_error.fits\"\n",
    "\n",
    "# create the Measurements and write them out as FITS files with two HDUs.\n",
    "# Set overwrite=True to allow multiple runs of this notebook.\n",
    "Measurement.make_measurement(cii_flux, cii_err, cii_combined,overwrite=True)\n",
    "Measurement.make_measurement(oi_flux, oi_err, oi_combined,overwrite=True)\n",
    "# Assign a 10% error in FIR flux\n",
    "Measurement.make_measurement(FIR_flux, error='10%', outfile=FIR_combined,overwrite=True)\n",
    "\n",
    "# Read in the FITS files to Measurements\n",
    "cii_meas = Measurement.read(cii_combined, identifier=\"CII_158\")\n",
    "FIR_meas = Measurement.read(FIR_combined, identifier=\"FIR\")\n",
    "oi_meas = Measurement.read(oi_combined, identifier=\"OI_63\")"
   ]
  },
  {
   "cell_type": "code",
   "execution_count": null,
   "metadata": {},
   "outputs": [],
   "source": [
    "bb = [cii_meas,FIR_meas,oi_meas]\n",
    "lrb = LineRatioFit(m,bb)\n",
    "lrb.run()\n",
    "deflevels = lrp._autolevels(lrf._chisq.data)"
   ]
  },
  {
   "cell_type": "code",
   "execution_count": null,
   "metadata": {},
   "outputs": [],
   "source": [
    "np.shape(transform_data(lrf))"
   ]
  },
  {
   "cell_type": "code",
   "execution_count": null,
   "metadata": {},
   "outputs": [],
   "source": [
    "transform_data(lrb)"
   ]
  },
  {
   "cell_type": "code",
   "execution_count": null,
   "metadata": {},
   "outputs": [],
   "source": [
    "xxx=transform_data(lrf)\n",
    "plt.contour(xxx,levels=deflevels)"
   ]
  },
  {
   "cell_type": "code",
   "execution_count": null,
   "metadata": {},
   "outputs": [],
   "source": [
    "zvalue = np.array([lrb._modelratios[k].data for k in lrb._modelratios])\n",
    "mvalue = np.moveaxis(zvalue,source=[0],destination=[2])\n",
    "#mvalue = mvalue[:,:,np.newaxis]\n",
    "dvalue = np.array([lrb._observedratios[k].data for k in lrb._observedratios])\n",
    "evalue = np.array([lrb._observedratios[k].error for k in lrb._observedratios])\n",
    "print(\"shapes mde \",np.shape(mvalue),np.shape(dvalue),np.shape(evalue))"
   ]
  },
  {
   "cell_type": "code",
   "execution_count": null,
   "metadata": {},
   "outputs": [],
   "source": [
    "foo=np.swapaxes(dvalue.reshape(3,139*81),0,1)\n",
    "eoo=np.swapaxes(evalue.reshape(3,139*81),0,1)\n",
    "print(\"data error\",foo.shape,eoo.shape)\n",
    "mfoo = mvalue[:,:,None,:]\n",
    "print(\"M \",mfoo.shape)\n",
    "#mvalue[None,None,:] - dvalue\n",
    "what = ((mfoo - foo)/eoo)**2\n",
    "print(\"W \",what.shape)\n",
    "testchi = what.sum(axis=3).reshape(29,25,139,81)\n",
    "print(\"TC \",testchi.shape)\n",
    "ttchi = np.amin(testchi,(0,1))\n",
    "np.nanmin(ttchi), np.nanmax(ttchi)\n",
    "tr = testchi.reshape(29*25,139,81)\n",
    "print(tr.shape)\n",
    "ttchi = np.amin(tr,0)\n",
    "ttchi.shape"
   ]
  },
  {
   "cell_type": "code",
   "execution_count": null,
   "metadata": {},
   "outputs": [],
   "source": [
    "plt.imshow(ttchi,origin='lower',norm=None,cmap='rainbow')\n",
    "plt.colorbar()"
   ]
  },
  {
   "cell_type": "code",
   "execution_count": null,
   "metadata": {},
   "outputs": [],
   "source": [
    "X=np.array([[5, 5, 4],\n",
    "       [8, 1, 8],\n",
    "       [0, 1, 5],\n",
    "       [0, 3, 1],\n",
    "       [6, 2, 5]])\n",
    "w = np.array([[8, 5, 1],\n",
    "       [7, 8, 6]])"
   ]
  },
  {
   "cell_type": "code",
   "execution_count": null,
   "metadata": {},
   "outputs": [],
   "source": [
    "np.nanmin(lrb._chisq_min)\n",
    "np.nanmax(lrb._chisq_min)"
   ]
  },
  {
   "cell_type": "code",
   "execution_count": null,
   "metadata": {},
   "outputs": [],
   "source": [
    "plt.imshow(dvalue[2])"
   ]
  },
  {
   "cell_type": "code",
   "execution_count": null,
   "metadata": {},
   "outputs": [],
   "source": [
    "chisq = ((mvalue - dvalue.T)/evalue.T)**2\n",
    "\n",
    "chi2 = np.sum(chisq,axis=4)\n",
    "print(np.shape(chi2.T))\n",
    "print(np.nanmin(chi2))\n",
    "chimin = np.amin(chi2,(0,1))\n",
    "print(np.shape(chimin.T))\n",
    "plt.imshow(chimin.T,cmap='rainbow',norm=None,origin='lower')\n",
    "plt.colorbar()"
   ]
  },
  {
   "cell_type": "code",
   "execution_count": null,
   "metadata": {},
   "outputs": [],
   "source": [
    "v = LineRatioPlot(lrb)\n",
    "v.chisq(contours=False,norm=None,cmap='rainbow')"
   ]
  },
  {
   "cell_type": "code",
   "execution_count": null,
   "metadata": {},
   "outputs": [],
   "source": [
    "np.array(np.insert(values=int(lrf.ratiocount),arr=lrf._observedshape,obj=len(lrf._observedshape)),dtype=np.int)\n",
    "#type(lrf.ratiocount)"
   ]
  },
  {
   "cell_type": "code",
   "execution_count": null,
   "metadata": {},
   "outputs": [],
   "source": [
    "mvalue = 0.1*np.arange(30).reshape(5,6)\n",
    "ncol=3\n",
    "nrow=2\n",
    "nval=4\n",
    "size=nval*nrow*ncol\n",
    "dvalue = 0.1*np.arange(size).reshape([nval,ncol,nrow])\n",
    "print(dvalue,\"\\n\")\n",
    "print(mvalue,\"\\n\")\n",
    "evalue = 1*np.ones([nval,ncol,nrow])\n",
    "np.shape(mvalue)\n",
    "sum = 0\n",
    "residuals = list()#np.empty(mvalue.shape).flatten()\n",
    "accum = list()\n",
    "print(\"resid shape \",np.shape(residuals))\n",
    "for i in range(nval):\n",
    "    residuals=list()\n",
    "    for m in mvalue.flatten():\n",
    "        _z=((dvalue[i]-m)/evalue[i])**2\n",
    "        #print(\"z=\",_z)\n",
    "        residuals.append(_z)\n",
    "    accum.append(residuals)\n",
    "#    for m in mvalue.flatten():\n",
    "#        #print(m)\n",
    "#        residuals.append(((dvalue[i]-m)/evalue[i])**2)\n",
    "print(\"resid shape \",np.shape(residuals))\n",
    "print(\"accum shape\",np.shape(accum))\n",
    "newshape=np.hstack((mvalue.shape,(3,2)))\n",
    "print(newshape)\n",
    "if True:\n",
    "    #np.shape(residuals)\n",
    "    rs =np.reshape(accum,(nval,5,6,ncol,nrow))\n",
    "    #print(rs)\n",
    "    #xx=((dvalue-5.0)/evalue)**2\n",
    "    #print(\"XX=\",xx,xx.shape)\n",
    "    #xxs=np.sum(xx,axis=0)\n",
    "    #print(\"XXS \",xxs)\n",
    "    print(rs.shape)\n",
    "    chi=np.sum(rs,axis=0)\n",
    "    print(\"CHI \",chi)"
   ]
  },
  {
   "cell_type": "code",
   "execution_count": null,
   "metadata": {},
   "outputs": [],
   "source": [
    "foo=np.swapaxes(dvalue.reshape(4,6),0,1)\n",
    "eoo=np.swapaxes(evalue.reshape(4,6),0,1)"
   ]
  },
  {
   "cell_type": "code",
   "execution_count": null,
   "metadata": {},
   "outputs": [],
   "source": [
    "emcee_plot = corner.corner(res2.flatchain, \n",
    "                           truths=list(res2.params.valuesdict().values()),\n",
    "                          show_titles=True,\n",
    "                           labels=[r\"$n [{\\rm cm}^{-3}]$\",r\"$G_0$ [Habing]\"],\n",
    "                           title_fmt='.2e',use_math_text=True,range=[.9995,1])"
   ]
  },
  {
   "cell_type": "code",
   "execution_count": null,
   "metadata": {},
   "outputs": [],
   "source": [
    "mp.plot(\"CI_609\",image=True)#measurements=[mx],image=False,legend=True,contours=True,label=True)"
   ]
  },
  {
   "cell_type": "code",
   "execution_count": null,
   "metadata": {},
   "outputs": [],
   "source": [
    "mp.plot(\"CI_609/FIR\",image=True,measurements=[mx],legend=True,label=True)"
   ]
  },
  {
   "cell_type": "code",
   "execution_count": null,
   "metadata": {},
   "outputs": [],
   "source": [
    "#mp.plot(\"CI_609/FIR\",image=True,measurements=[mx,my],legend=True,yaxis_unit=u.erg/(u.second*u.cm*u.cm),label=False)"
   ]
  },
  {
   "cell_type": "code",
   "execution_count": null,
   "metadata": {},
   "outputs": [],
   "source": [
    "l = LineRatioFit(m,[mx])"
   ]
  },
  {
   "cell_type": "code",
   "execution_count": null,
   "metadata": {},
   "outputs": [],
   "source": [
    "p = LineRatioPlot(l)"
   ]
  },
  {
   "cell_type": "code",
   "execution_count": null,
   "metadata": {},
   "outputs": [],
   "source": [
    "l.modelset.supported_ratios.show_in_notebook()"
   ]
  },
  {
   "cell_type": "code",
   "execution_count": null,
   "metadata": {},
   "outputs": [],
   "source": [
    "p.modelintensity(\"CI_609\",measurements=[mx],legend=True,xaxis_unit=\"m-3\",contours=True,label=True)"
   ]
  },
  {
   "cell_type": "code",
   "execution_count": null,
   "metadata": {},
   "outputs": [],
   "source": [
    "identifiers1 = [\"OI_63+CII_158/FIR\",\"OI_63/CII_158\"]\n",
    "identifiers2 = [\"CO_21\",\"OI_63\"]\n",
    "identifiers3 = [\"CO_65\",\"CI_609/CO_43\"]"
   ]
  },
  {
   "cell_type": "code",
   "execution_count": null,
   "metadata": {},
   "outputs": [],
   "source": [
    "mp.phasespace(identifiers2,reciprocal=[False,False],dens_clip=[100,1E6]*u.Unit(\"cm-3\"),rad_clip=[1,1E4]*utils._RFS_UNIT_)\n",
    "#mp.savefig(\"OI_CO21.png\",bbox_inches='tight',facecolor='white')"
   ]
  },
  {
   "cell_type": "code",
   "execution_count": null,
   "metadata": {},
   "outputs": [],
   "source": [
    "A1 = np.array([1, 2, 2, 2, 3, 3, 7])\n",
    "A2 = np.array([0.5, 1, 1.5, 2, 7, 2, 6.9])\n",
    "err_bars = np.array([0.1, 0.6, 0.9, 0.2, 0.01, 0.8, 0.1])\n",
    "\n",
    "def chisq(obs, exp, error):\n",
    "    return (obs - exp) ** 2 / (error ** 2)\n",
    "\n",
    "print(chisq(A1, A2, err_bars))"
   ]
  },
  {
   "cell_type": "code",
   "execution_count": null,
   "metadata": {},
   "outputs": [],
   "source": [
    "help(mp.overlay)"
   ]
  },
  {
   "cell_type": "code",
   "execution_count": null,
   "metadata": {},
   "outputs": [],
   "source": [
    "a1 = np.sum([lrf._deltasq[r]._data for r in lrf._deltasq],axis=0)"
   ]
  },
  {
   "cell_type": "code",
   "execution_count": null,
   "metadata": {},
   "outputs": [],
   "source": [
    "a2 = sum([lrf._deltasq[r]._data for r in lrf._deltasq])"
   ]
  },
  {
   "cell_type": "code",
   "execution_count": null,
   "metadata": {},
   "outputs": [],
   "source": [
    "np.all(a1 == a2)"
   ]
  },
  {
   "cell_type": "code",
   "execution_count": null,
   "metadata": {},
   "outputs": [],
   "source": [
    "from scipy.stats import chisquare, power_divergence"
   ]
  },
  {
   "cell_type": "code",
   "execution_count": null,
   "metadata": {
    "tags": []
   },
   "outputs": [],
   "source": [
    "keys = list(lrf._modelratios.keys()) \n",
    "print(keys)\n",
    "mods = np.array([lrf._modelratios[r]._data for r in keys])\n",
    "dats = np.array([lrf._observedratios[r]._data for r in keys])\n",
    "errs = np.array([lrf._observedratios[r].error for r in keys])\n",
    "\n",
    "\n",
    "mods=np.moveaxis(mods,source=[0],destination=[2])\n",
    "#mods = mods[:,:,np.newaxis,np.newaxis]\n",
    "print(np.shape(mods))\n",
    "chichi = ((dats - mods)/errs)**2\n",
    "mods = mods/errs\n",
    "dats = dats/errs\n",
    "chiorig=np.sum(chichi,axis=2)\n",
    "plt.imshow(chiorig)\n",
    "mods = np.sqrt(mods)*mods\n",
    "dats = np.sqrt(mods)*dats"
   ]
  },
  {
   "cell_type": "code",
   "execution_count": null,
   "metadata": {},
   "outputs": [],
   "source": [
    "plt.contour(chiorig,levels=deflevels)\n",
    "plt.axis('equal')"
   ]
  },
  {
   "cell_type": "code",
   "execution_count": null,
   "metadata": {},
   "outputs": [],
   "source": [
    "chi,p=chisquare(dats,mods,axis=2)\n",
    "np.shape(chi)"
   ]
  },
  {
   "cell_type": "code",
   "execution_count": null,
   "metadata": {},
   "outputs": [],
   "source": [
    "norm = lrp._zscale(chi,vmin=0,vmax=1E8,stretch='log')\n",
    "plt.imshow(chi,origin='lower',norm=norm)\n",
    "plt.colorbar()"
   ]
  },
  {
   "cell_type": "code",
   "execution_count": null,
   "metadata": {},
   "outputs": [],
   "source": [
    "chi1,p1 = power_divergence(dats,mods,axis=2,lambda_='pearson')"
   ]
  },
  {
   "cell_type": "code",
   "execution_count": null,
   "metadata": {},
   "outputs": [],
   "source": [
    "norm = lrp._zscale(chi1,vmin=chi1.min(),vmax=chi1.max(),stretch='linear')\n",
    "plt.imshow(chi1,origin='lower',norm=norm)\n",
    "plt.colorbar()"
   ]
  },
  {
   "cell_type": "code",
   "execution_count": null,
   "metadata": {},
   "outputs": [],
   "source": [
    "type(chi)"
   ]
  },
  {
   "cell_type": "code",
   "execution_count": null,
   "metadata": {},
   "outputs": [],
   "source": [
    "plt.contour(chi,origin='lower',levels=deflevels)\n",
    "plt.axis('equal')"
   ]
  },
  {
   "cell_type": "code",
   "execution_count": null,
   "metadata": {},
   "outputs": [],
   "source": [
    "plt.contour(chi1,origin='lower',levels=deflevels)\n",
    "plt.axis('equal')"
   ]
  },
  {
   "cell_type": "code",
   "execution_count": null,
   "metadata": {},
   "outputs": [],
   "source": [
    "plt.contour(chiorig,origin='lower',levels=deflevels)\n",
    "plt.axis('equal')"
   ]
  },
  {
   "cell_type": "code",
   "execution_count": null,
   "metadata": {},
   "outputs": [],
   "source": [
    "norm = lrp._get_norm('simple',p1,vmin=p1.min(),vmax=p1.max(),stretch='log')\n",
    "plt.imshow(p1,origin='lower',norm=norm)\n",
    "plt.colorbar()"
   ]
  },
  {
   "cell_type": "code",
   "execution_count": null,
   "metadata": {},
   "outputs": [],
   "source": [
    "lrp.chisq(colorbar=True)\n",
    "deflevels = lrp._autolevels(lrf._chisq.data)"
   ]
  },
  {
   "cell_type": "code",
   "execution_count": null,
   "metadata": {},
   "outputs": [],
   "source": [
    "plt.contourf(chi-chiorig)\n",
    "plt.colorbar()"
   ]
  },
  {
   "cell_type": "code",
   "execution_count": null,
   "metadata": {},
   "outputs": [],
   "source": [
    "np.sqrt(mods).max()"
   ]
  },
  {
   "cell_type": "code",
   "execution_count": null,
   "metadata": {},
   "outputs": [],
   "source": []
  }
 ],
 "metadata": {
  "kernelspec": {
   "display_name": "Python 3",
   "language": "python",
   "name": "python3"
  },
  "language_info": {
   "codemirror_mode": {
    "name": "ipython",
    "version": 3
   },
   "file_extension": ".py",
   "mimetype": "text/x-python",
   "name": "python",
   "nbconvert_exporter": "python",
   "pygments_lexer": "ipython3",
   "version": "3.7.10"
  }
 },
 "nbformat": 4,
 "nbformat_minor": 4
}
