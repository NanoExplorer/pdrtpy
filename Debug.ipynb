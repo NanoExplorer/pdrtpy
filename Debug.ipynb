{
 "cells": [
  {
   "cell_type": "code",
   "execution_count": 1,
   "metadata": {},
   "outputs": [
    {
     "name": "stderr",
     "output_type": "stream",
     "text": [
      "/home/mpound/anaconda3/lib/python3.7/site-packages/astropy/table/column.py:1020: FutureWarning: elementwise comparison failed; returning scalar instead, but in the future will perform elementwise comparison\n",
      "  result = getattr(super(), op)(other)\n"
     ]
    }
   ],
   "source": [
    "from pdrtpy.modelset import ModelSet\n",
    "import numpy as np\n",
    "from astropy.table import Table\n",
    "import pdrtpy.pdrutils as util\n",
    "from pdrtpy.plot.lineratioplot import LineRatioPlot\n",
    "from pdrtpy.tool.lineratiofit import LineRatioFit\n",
    "from pdrtpy.plot.modelplot import ModelPlot\n",
    "from pdrtpy.measurement import Measurement\n",
    "from pdrtpy.modelset import ModelSet\n",
    "from pdrtpy import version\n",
    "from astropy.nddata import StdDevUncertainty\n",
    "import astropy.units as u\n",
    "%matplotlib inline"
   ]
  },
  {
   "cell_type": "code",
   "execution_count": 2,
   "metadata": {},
   "outputs": [],
   "source": [
    "m = ModelSet(name=\"wk2006\",z=1)"
   ]
  },
  {
   "cell_type": "code",
   "execution_count": 3,
   "metadata": {},
   "outputs": [
    {
     "data": {
      "text/plain": [
       "'2.0.7-i'"
      ]
     },
     "execution_count": 3,
     "metadata": {},
     "output_type": "execute_result"
    }
   ],
   "source": [
    "version()"
   ]
  },
  {
   "cell_type": "code",
   "execution_count": 4,
   "metadata": {},
   "outputs": [
    {
     "data": {
      "text/html": [
       "<i>Table length=69</i>\n",
       "<table id=\"table140078960515024-121426\" class=\"table-striped table-bordered table-condensed\">\n",
       "<thead><tr><th>idx</th><th>numerator</th><th>denominator</th><th>ratio</th><th>filename</th><th>z</th><th>title</th></tr></thead>\n",
       "<thead><tr><th></th><th></th><th></th><th></th><th></th><th></th><th>null</th></tr></thead>\n",
       "<tr><td>0</td><td>OI_145</td><td>OI_63</td><td>OI_145/OI_63</td><td>oioiweb</td><td>1.0</td><td>[O I] 145 $\\mu$m / [O I] 63 $\\mu$m</td></tr>\n",
       "<tr><td>1</td><td>OI_145</td><td>CII_158</td><td>OI_145/CII_158</td><td>o145ciiweb</td><td>1.0</td><td>[O I] 145 $\\mu$m / [C II] 158 $\\mu$m</td></tr>\n",
       "<tr><td>2</td><td>OI_63</td><td>CII_158</td><td>OI_63/CII_158</td><td>oicpweb</td><td>1.0</td><td>[O I] 63 $\\mu$m / [C II] 158 $\\mu$m</td></tr>\n",
       "<tr><td>3</td><td>CII_158</td><td>CI_609</td><td>CII_158/CI_609</td><td>ciici609web</td><td>1.0</td><td>[C II] 158 $\\mu$m / [C I] 609 $\\mu$m</td></tr>\n",
       "<tr><td>4</td><td>CI_370</td><td>CI_609</td><td>CI_370/CI_609</td><td>ciciweb</td><td>1.0</td><td>[C I] 370 $\\mu$m / [C I] 609 $\\mu$m</td></tr>\n",
       "<tr><td>5</td><td>CII_158</td><td>CO_10</td><td>CII_158/CO_10</td><td>ciicoweb</td><td>1.0</td><td>[C II] 158 $\\mu$m / CO(J=1-0)</td></tr>\n",
       "<tr><td>6</td><td>CII_158</td><td>CO_32</td><td>CII_158/CO_32</td><td>ciico32web</td><td>1.0</td><td>[C II] 158 $\\mu$m / CO(J=3-2)</td></tr>\n",
       "<tr><td>7</td><td>CI_609</td><td>CO_10</td><td>CI_609/CO_10</td><td>cicoweb</td><td>1.0</td><td>[C I] 609 $\\mu$m / CO(J=1-0)</td></tr>\n",
       "<tr><td>8</td><td>CI_609</td><td>CO_21</td><td>CI_609/CO_21</td><td>cico21web</td><td>1.0</td><td>[C I] 609 $\\mu$m / CO(J=2-1)</td></tr>\n",
       "<tr><td>9</td><td>CI_609</td><td>CO_32</td><td>CI_609/CO_32</td><td>cico32web</td><td>1.0</td><td>[C I] 609 $\\mu$m / CO(J=3-2)</td></tr>\n",
       "<tr><td>10</td><td>CI_609</td><td>CO_43</td><td>CI_609/CO_43</td><td>cico43web</td><td>1.0</td><td>[C I] 609 $\\mu$m / CO(J=4-3)</td></tr>\n",
       "<tr><td>11</td><td>CI_609</td><td>CO_54</td><td>CI_609/CO_54</td><td>cico54web</td><td>1.0</td><td>[C I] 609 $\\mu$m / CO(J=5-4)</td></tr>\n",
       "<tr><td>12</td><td>CI_609</td><td>CO_65</td><td>CI_609/CO_65</td><td>cico65web</td><td>1.0</td><td>[C I] 609 $\\mu$m / CO(J=6-5)</td></tr>\n",
       "<tr><td>13</td><td>CO_21</td><td>CO_10</td><td>CO_21/CO_10</td><td>co2110web</td><td>1.0</td><td>CO(J=2-1) / CO(J=1-0)</td></tr>\n",
       "<tr><td>14</td><td>CO_32</td><td>CO_10</td><td>CO_32/CO_10</td><td>co3210web</td><td>1.0</td><td>CO(J=3-2) / CO(J=1-0)</td></tr>\n",
       "<tr><td>15</td><td>CO_32</td><td>CO_21</td><td>CO_32/CO_21</td><td>co3221web</td><td>1.0</td><td>CO(J=3-2) / CO(J=2-1)</td></tr>\n",
       "<tr><td>16</td><td>CO_43</td><td>CO_10</td><td>CO_43/CO_10</td><td>co4310web</td><td>1.0</td><td>CO(J=4-3) / CO(J=1-0)</td></tr>\n",
       "<tr><td>17</td><td>CO_43</td><td>CO_21</td><td>CO_43/CO_21</td><td>co4321web</td><td>1.0</td><td>CO(J=4-3) / CO(J=2-1)</td></tr>\n",
       "<tr><td>18</td><td>CO_65</td><td>CO_10</td><td>CO_65/CO_10</td><td>co6510web</td><td>1.0</td><td>CO(J=6-5) / CO(J=1-0)</td></tr>\n",
       "<tr><td>19</td><td>CO_65</td><td>CO_21</td><td>CO_65/CO_21</td><td>co6521web</td><td>1.0</td><td>CO(J=6-5) / CO(J=2-1)</td></tr>\n",
       "<tr><td>20</td><td>CO_65</td><td>CO_54</td><td>CO_65/CO_54</td><td>co6554web</td><td>1.0</td><td>CO(J=6-5) / CO(J=5-4)</td></tr>\n",
       "<tr><td>21</td><td>CO_76</td><td>CO_10</td><td>CO_76/CO_10</td><td>co7610web</td><td>1.0</td><td>CO(J=7-6) / CO(J=1-0)</td></tr>\n",
       "<tr><td>22</td><td>CO_76</td><td>CO_21</td><td>CO_76/CO_21</td><td>co7621web</td><td>1.0</td><td>CO(J=7-6) / CO(J=2-1)</td></tr>\n",
       "<tr><td>23</td><td>CO_76</td><td>CO_43</td><td>CO_76/CO_43</td><td>co7643web</td><td>1.0</td><td>CO(J=7-6) / CO(J=4-3)</td></tr>\n",
       "<tr><td>24</td><td>CO_76</td><td>CO_54</td><td>CO_76/CO_54</td><td>co7654web</td><td>1.0</td><td>CO(J=7-6) / CO(J=5-4)</td></tr>\n",
       "<tr><td>25</td><td>CO_76</td><td>CO_65</td><td>CO_76/CO_65</td><td>co7665web</td><td>1.0</td><td>CO(J=7-6) / CO(J=6-5)</td></tr>\n",
       "<tr><td>26</td><td>CO_87</td><td>CO_54</td><td>CO_87/CO_54</td><td>co8754web</td><td>1.0</td><td>CO(J=8-7) / CO(J=5-4)</td></tr>\n",
       "<tr><td>27</td><td>CO_87</td><td>CO_65</td><td>CO_87/CO_65</td><td>co8765web</td><td>1.0</td><td>CO(J=8-7) / CO(J=6-5)</td></tr>\n",
       "<tr><td>28</td><td>CO_98</td><td>CO_54</td><td>CO_98/CO_54</td><td>co9854web</td><td>1.0</td><td>CO(J=9-8) / CO(J=5-4)</td></tr>\n",
       "<tr><td>29</td><td>CO_98</td><td>CO_65</td><td>CO_98/CO_65</td><td>co9865web</td><td>1.0</td><td>CO(J=9-8) / CO(J=6-5)</td></tr>\n",
       "<tr><td>30</td><td>CO_109</td><td>CO_54</td><td>CO_109/CO_54</td><td>co10954web</td><td>1.0</td><td>CO(J=10-9) / CO(J=5-4)</td></tr>\n",
       "<tr><td>31</td><td>CO_109</td><td>CO_65</td><td>CO_109/CO_65</td><td>co10965web</td><td>1.0</td><td>CO(J=10-9) / CO(J=6-5)</td></tr>\n",
       "<tr><td>32</td><td>CO_109</td><td>CO_76</td><td>CO_109/CO_76</td><td>co10976web</td><td>1.0</td><td>CO(J=10-9) / CO(J=7-6)</td></tr>\n",
       "<tr><td>33</td><td>CO_1110</td><td>CO_54</td><td>CO_1110/CO_54</td><td>co111054web</td><td>1.0</td><td>CO(J=11-10) / CO(J=5-4)</td></tr>\n",
       "<tr><td>34</td><td>CO_1110</td><td>CO_65</td><td>CO_1110/CO_65</td><td>co111065web</td><td>1.0</td><td>CO(J=11-10) / CO(J=6-5)</td></tr>\n",
       "<tr><td>35</td><td>CO_1211</td><td>CO_54</td><td>CO_1211/CO_54</td><td>co121154web</td><td>1.0</td><td>CO(J=12-11) / CO(J=5-4)</td></tr>\n",
       "<tr><td>36</td><td>CO_1211</td><td>CO_65</td><td>CO_1211/CO_65</td><td>co121165web</td><td>1.0</td><td>CO(J=12-11) / CO(J=6-5)</td></tr>\n",
       "<tr><td>37</td><td>CO_1312</td><td>CO_54</td><td>CO_1312/CO_54</td><td>co131254web</td><td>1.0</td><td>CO(J=13-12) / CO(J=5-4)</td></tr>\n",
       "<tr><td>38</td><td>CO_1312</td><td>CO_65</td><td>CO_1312/CO_65</td><td>co131265web</td><td>1.0</td><td>CO(J=13-12) / CO(J=6-5)</td></tr>\n",
       "<tr><td>39</td><td>CO_1413</td><td>CO_54</td><td>CO_1413/CO_54</td><td>co141354web</td><td>1.0</td><td>CO(J=14-13) / CO(J=5-4)</td></tr>\n",
       "<tr><td>40</td><td>CO_1413</td><td>CO_65</td><td>CO_1413/CO_65</td><td>co141365web</td><td>1.0</td><td>CO(J=14-13) / CO(J=6-5)</td></tr>\n",
       "<tr><td>41</td><td>CI_609</td><td>FIR</td><td>CI_609/FIR</td><td>ci609firweb</td><td>1.0</td><td>[C I] 609 $\\mu$m / I$_{FIR}$</td></tr>\n",
       "<tr><td>42</td><td>OI_63+CII_158</td><td>FIR</td><td>OI_63+CII_158/FIR</td><td>firweb</td><td>1.0</td><td>([O I] 63 $\\mu$m + [C II] 158 $\\mu$m) / I$_{FIR}$</td></tr>\n",
       "<tr><td>43</td><td>OI_145+CII_158</td><td>FIR</td><td>OI_145+CII_158/FIR</td><td>firoi145web</td><td>1.0</td><td>([O I] 145 $\\mu$m + [C II] 158 $\\mu$m) / I$_{FIR}$</td></tr>\n",
       "<tr><td>44</td><td>SIII_35</td><td>FEII_26</td><td>SIII_35/FEII_26</td><td>siii35feii26z1web</td><td>1.0</td><td>[S III] 35 $\\mu$m / [Fe II] 26 $\\mu$m</td></tr>\n",
       "<tr><td>45</td><td>H200S1</td><td>H200S0</td><td>H200S1/H200S0</td><td>h200s1s0z1web</td><td>1.0</td><td>H$_2$0-0S(1) 17 $\\mu$m / H$_2$0-0S(0) 28.2$ \\mu$m</td></tr>\n",
       "<tr><td>46</td><td>H200S2</td><td>H200S0</td><td>H200S2/H200S0</td><td>h200s2s0z1web</td><td>1.0</td><td>H$_2$0-0S(2) 12.3 $\\mu$m / H$_2$0-0S(0) 28.2$ \\mu$m</td></tr>\n",
       "<tr><td>47</td><td>H200S2</td><td>H200S1</td><td>H200S2/H200S1</td><td>h200s2s1z1web</td><td>1.0</td><td>H$_2$0-0S(2) 12.3 $\\mu$m / H$_2$0-0S(1) 17$ \\mu$m</td></tr>\n",
       "<tr><td>48</td><td>H200S3</td><td>H200S1</td><td>H200S3/H200S1</td><td>h200s3s1z1web</td><td>1.0</td><td>H$_2$0-0S(3) 9.7 $\\mu$m / H$_2$0-0S(1) 17$ \\mu$m</td></tr>\n",
       "<tr><td>49</td><td>H200S1</td><td>SIII_35</td><td>H200S1/SIII_35</td><td>h200s1siiiz1web</td><td>1.0</td><td>H$_2$0-0S(1) 17 $\\mu$m / [S III] 35 $\\mu$m</td></tr>\n",
       "<tr><td>50</td><td>H200S2</td><td>SIII_35</td><td>H200S2/SIII_35</td><td>h200s2siiiz1web</td><td>1.0</td><td>H$_2$0-0S(2) 12.3 $\\mu$m / [S III] 35 $\\mu$m</td></tr>\n",
       "<tr><td>51</td><td>H264Q1</td><td>H210S1</td><td>H264Q11/H210S1</td><td>h264q110s1z1web</td><td>1.0</td><td>H$_2$6-5Q(1) 1.6 $\\mu$m / H$_2$1-0S(1) 2.12 $\\mu$m</td></tr>\n",
       "<tr><td>52</td><td>CI_609</td><td>1</td><td>CI_609</td><td>ciweb</td><td>1.0</td><td>[C I] 609 $\\mu$m</td></tr>\n",
       "<tr><td>53</td><td>CII_158</td><td>1</td><td>CII_158</td><td>cpweb</td><td>1.0</td><td>[C II] 158 $\\mu$m</td></tr>\n",
       "<tr><td>54</td><td>OI_145</td><td>1</td><td>OI_145</td><td>oi145web</td><td>1.0</td><td>[O I] 145 $\\mu$m</td></tr>\n",
       "<tr><td>55</td><td>OI_63</td><td>1</td><td>OI_63</td><td>oi63web</td><td>1.0</td><td>[O I] 63 $\\mu$m</td></tr>\n",
       "<tr><td>56</td><td>CO_10</td><td>1</td><td>CO_10</td><td>coweb</td><td>1.0</td><td>CO(J=1-0)</td></tr>\n",
       "<tr><td>57</td><td>CO_21</td><td>1</td><td>CO_21</td><td>co21web</td><td>1.0</td><td>CO(J=2-1)</td></tr>\n",
       "<tr><td>58</td><td>CO_43</td><td>1</td><td>CO_43</td><td>co43web</td><td>1.0</td><td>CO(J=4-3)</td></tr>\n",
       "<tr><td>59</td><td>CO_54</td><td>1</td><td>CO_54</td><td>co54web</td><td>1.0</td><td>CO(J=5-4)</td></tr>\n",
       "<tr><td>60</td><td>CO_65</td><td>1</td><td>CO_65</td><td>co65web</td><td>1.0</td><td>CO(J=6-5)</td></tr>\n",
       "<tr><td>61</td><td>CO_76</td><td>1</td><td>CO_76</td><td>co76web</td><td>1.0</td><td>CO(J=7-6)</td></tr>\n",
       "<tr><td>62</td><td>H200S0</td><td>1</td><td>H200S0</td><td>h200s0z1web</td><td>1.0</td><td>H$_2$0-0S(0) 28.2$ \\mu$m</td></tr>\n",
       "<tr><td>63</td><td>H200S1</td><td>1</td><td>H200S1</td><td>h200s1z1web</td><td>1.0</td><td>H$_2$0-0S(1) 17 $\\mu$m</td></tr>\n",
       "<tr><td>64</td><td>H200S2</td><td>1</td><td>H200S2</td><td>h200s2z1web</td><td>1.0</td><td>H$_2$0-0S(2) 12.3 $\\mu$m</td></tr>\n",
       "<tr><td>65</td><td>H200S3</td><td>1</td><td>H200S3</td><td>h200s3z1web</td><td>1.0</td><td>H$_2$0-0S(3) 9.7 $\\mu$m</td></tr>\n",
       "<tr><td>66</td><td>H210S1</td><td>1</td><td>H210S1</td><td>h210s1z1web</td><td>1.0</td><td>H$_2$1-0S(1) 2.12 $\\mu$m</td></tr>\n",
       "<tr><td>67</td><td>FEII_26</td><td>1</td><td>FEII_26</td><td>feii26z1web</td><td>1.0</td><td>[Fe II] 26 $\\mu$m</td></tr>\n",
       "<tr><td>68</td><td>SIII_35</td><td>1</td><td>SIII_35</td><td>siii35z1web</td><td>1.0</td><td>[S III] 35 $\\mu$m</td></tr>\n",
       "</table><style>table.dataTable {clear: both; width: auto !important; margin: 0 !important;}\n",
       ".dataTables_info, .dataTables_length, .dataTables_filter, .dataTables_paginate{\n",
       "display: inline-block; margin-right: 1em; }\n",
       ".paginate_button { margin-right: 5px; }\n",
       "</style>\n",
       "<script>\n",
       "\n",
       "var astropy_sort_num = function(a, b) {\n",
       "    var a_num = parseFloat(a);\n",
       "    var b_num = parseFloat(b);\n",
       "\n",
       "    if (isNaN(a_num) && isNaN(b_num))\n",
       "        return ((a < b) ? -1 : ((a > b) ? 1 : 0));\n",
       "    else if (!isNaN(a_num) && !isNaN(b_num))\n",
       "        return ((a_num < b_num) ? -1 : ((a_num > b_num) ? 1 : 0));\n",
       "    else\n",
       "        return isNaN(a_num) ? -1 : 1;\n",
       "}\n",
       "\n",
       "require.config({paths: {\n",
       "    datatables: 'https://cdn.datatables.net/1.10.12/js/jquery.dataTables.min'\n",
       "}});\n",
       "require([\"datatables\"], function(){\n",
       "    console.log(\"$('#table140078960515024-121426').dataTable()\");\n",
       "    \n",
       "jQuery.extend( jQuery.fn.dataTableExt.oSort, {\n",
       "    \"optionalnum-asc\": astropy_sort_num,\n",
       "    \"optionalnum-desc\": function (a,b) { return -astropy_sort_num(a, b); }\n",
       "});\n",
       "\n",
       "    $('#table140078960515024-121426').dataTable({\n",
       "        order: [],\n",
       "        pageLength: 50,\n",
       "        lengthMenu: [[10, 25, 50, 100, 500, 1000, -1], [10, 25, 50, 100, 500, 1000, 'All']],\n",
       "        pagingType: \"full_numbers\",\n",
       "        columnDefs: [{targets: [0, 5], type: \"optionalnum\"}]\n",
       "    });\n",
       "});\n",
       "</script>\n"
      ],
      "text/plain": [
       "<IPython.core.display.HTML object>"
      ]
     },
     "execution_count": 4,
     "metadata": {},
     "output_type": "execute_result"
    }
   ],
   "source": [
    "m.table.show_in_notebook()"
   ]
  },
  {
   "cell_type": "code",
   "execution_count": 5,
   "metadata": {},
   "outputs": [
    {
     "data": {
      "text/plain": [
       "True"
      ]
     },
     "execution_count": 5,
     "metadata": {},
     "output_type": "execute_result"
    }
   ],
   "source": [
    "mp = ModelPlot(m)\n",
    "'H264Q11/H210S1' in m.table['ratio']"
   ]
  },
  {
   "cell_type": "code",
   "execution_count": 6,
   "metadata": {},
   "outputs": [
    {
     "name": "stdout",
     "output_type": "stream",
     "text": [
      "caught exception properly: m most contain at least two strings\n"
     ]
    },
    {
     "data": {
      "text/plain": [
       "7066.33"
      ]
     },
     "execution_count": 6,
     "metadata": {},
     "output_type": "execute_result"
    }
   ],
   "source": [
    "try:\n",
    "    m.model_ratios([\"CII_158\"])\n",
    "except Exception as e:\n",
    "    print(\"caught exception properly:\",e)\n",
    "\n",
    "mz = m.get_model('CII_158/CI_609')\n",
    "mz.data.max()"
   ]
  },
  {
   "cell_type": "code",
   "execution_count": 7,
   "metadata": {},
   "outputs": [
    {
     "name": "stdout",
     "output_type": "stream",
     "text": [
      "caught exception properly  Unrecognized model_type: must be one of 'intensity', 'ratio', or 'both'\n",
      "INFO: using the unit erg / (cm2 s sr) passed to the FITS reader instead of the unit erg s-1 cm-2 sr-1 in the FITS file. [astropy.nddata.ccddata]\n",
      "INFO: using the unit erg / (cm2 s sr) passed to the FITS reader instead of the unit erg s-1 cm-2 sr-1 in the FITS file. [astropy.nddata.ccddata]\n",
      "INFO: using the unit erg / (cm2 s sr) passed to the FITS reader instead of the unit erg s-1 cm-2 sr-1 in the FITS file. [astropy.nddata.ccddata]\n"
     ]
    }
   ],
   "source": [
    "try:\n",
    "    m.get_models(['CII_158'],model_type='foo')\n",
    "except ValueError as e:\n",
    "    print(\"caught exception properly \",e)\n",
    "x=m.get_models([\"CI_609\",\"FIR\"],model_type=\"ratio\")\n",
    "y=m.get_models([\"CI_609\",\"FIR\"],model_type=\"intensity\")\n",
    "z=m.get_models([\"CI_609\",\"FIR\"],model_type=\"both\")\n",
    "q=m.get_models(['CII_158'],model_type='intensity')"
   ]
  },
  {
   "cell_type": "code",
   "execution_count": 10,
   "metadata": {},
   "outputs": [
    {
     "name": "stdout",
     "output_type": "stream",
     "text": [
      "dict: {'CI_609': [1.5e-06] +/- 5e-07 erg / (cm2 s sr), 'CII_158/CI_609': [2] +/- 1 erg / (cm2 s sr), 'CII_158': [3.e-06] +/- 5e-07 erg / (cm2 s sr)}\n",
      "<class 'pdrtpy.measurement.Measurement'>\n",
      "INFO: using the unit erg / (cm2 s sr) passed to the FITS reader instead of the unit erg s-1 cm-2 sr-1 in the FITS file. [astropy.nddata.ccddata]\n",
      "INFO: using the unit erg / (cm2 s sr) passed to the FITS reader instead of the unit erg s-1 cm-2 sr-1 in the FITS file. [astropy.nddata.ccddata]\n"
     ]
    },
    {
     "data": {
      "image/png": "[encoded data removed]",
      "text/plain": [
       "<Figure size 360x360 with 1 Axes>"
      ]
     },
     "metadata": {
      "needs_background": "light"
     },
     "output_type": "display_data"
    }
   ],
   "source": [
    "myunit = \"erg s-1 cm-2 sr-1\"\n",
    "mx=Measurement(data=[1.5E-6],uncertainty = StdDevUncertainty(0.5E-6),identifier=\"CI_609\",unit=myunit)\n",
    "my=Measurement(data=[2],uncertainty = StdDevUncertainty(1),identifier=\"CII_158/CI_609\",unit=myunit)\n",
    "mz=Measurement(data=[3E-6],uncertainty = StdDevUncertainty(0.5E-6),identifier=\"CII_158\",unit=myunit)\n",
    "a=[mx,my,mz]\n",
    "ids = [m.id for m in a]\n",
    "d = dict(zip(ids,a))\n",
    "print(\"dict:\",d)\n",
    "print(type(d[\"CI_609\"]))\n",
    "d[\"CI_609\"].levels\n",
    "mp.overlay(a)\n",
    "#q[1].id"
   ]
  },
  {
   "cell_type": "code",
   "execution_count": null,
   "metadata": {},
   "outputs": [],
   "source": [
    "mp.plot(\"CI_609\",measurements=[mx],image=False,legend=True,contours=True,yaxis_unit=u.erg/(u.second*u.cm*u.cm),label=True)"
   ]
  },
  {
   "cell_type": "code",
   "execution_count": null,
   "metadata": {},
   "outputs": [],
   "source": [
    "mp.plot(\"CI_609/FIR\",image=True,measurements=[mx],legend=True,axis_unit=u.erg/(u.second*u.cm*u.cm),label=True)"
   ]
  },
  {
   "cell_type": "code",
   "execution_count": null,
   "metadata": {},
   "outputs": [],
   "source": [
    "mp.plot([\"CI_609/FIR\",\"CII_158/CI_609\"],image=True,measurements=[mx,my],legend=True,axis_unit=u.erg/(u.second*u.cm*u.cm),label=False)"
   ]
  },
  {
   "cell_type": "code",
   "execution_count": null,
   "metadata": {},
   "outputs": [],
   "source": [
    "l = LineRatioFit(m,[mx])"
   ]
  },
  {
   "cell_type": "code",
   "execution_count": null,
   "metadata": {},
   "outputs": [],
   "source": [
    "p = LineRatioPlot(l)"
   ]
  },
  {
   "cell_type": "code",
   "execution_count": null,
   "metadata": {},
   "outputs": [],
   "source": [
    "l.modelset.supported_ratios.show_in_notebook()"
   ]
  },
  {
   "cell_type": "code",
   "execution_count": null,
   "metadata": {},
   "outputs": [],
   "source": [
    "p.modelintensity(\"CI_609\",measurements=[mx],legend=True,contours=True,yaxis_unit=u.erg/(u.second*u.cm*u.cm),label=True)"
   ]
  },
  {
   "cell_type": "code",
   "execution_count": null,
   "metadata": {},
   "outputs": [],
   "source": []
  }
 ],
 "metadata": {
  "kernelspec": {
   "display_name": "Python 3",
   "language": "python",
   "name": "python3"
  },
  "language_info": {
   "codemirror_mode": {
    "name": "ipython",
    "version": 3
   },
   "file_extension": ".py",
   "mimetype": "text/x-python",
   "name": "python",
   "nbconvert_exporter": "python",
   "pygments_lexer": "ipython3",
   "version": "3.7.4"
  }
 },
 "nbformat": 4,
 "nbformat_minor": 4
}
